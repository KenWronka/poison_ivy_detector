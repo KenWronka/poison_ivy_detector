{
 "cells": [
  {
   "cell_type": "markdown",
   "metadata": {},
   "source": [
    "# Rescale readable images\n",
    "\n",
    "Grab images from the image folder. If they cannot be read (were not downloaded properly, for example) then discard them. Otherwise, resize them and store a downsampled version."
   ]
  },
  {
   "cell_type": "code",
   "execution_count": 48,
   "metadata": {},
   "outputs": [],
   "source": [
    "from PIL import Image, UnidentifiedImageError\n",
    "from pathlib import Path\n",
    "from glob import glob\n",
    "import logging\n",
    "import pandas as pd\n",
    "from typing import Tuple\n",
    "\n",
    "logger = logging.getLogger()\n",
    "logger.setLevel(logging.INFO)\n",
    "logger.propagate = False"
   ]
  },
  {
   "cell_type": "code",
   "execution_count": 6,
   "metadata": {},
   "outputs": [],
   "source": [
    "source_path = '../datasets/pilot_raw'\n",
    "dest_path = '../datasets/pilot_resized'\n",
    "\n",
    "min_dimension = 300 # Minimum dimension kept (smaller of height or width) in pixels when rescaling"
   ]
  },
  {
   "cell_type": "code",
   "execution_count": 18,
   "metadata": {},
   "outputs": [
    {
     "name": "stdout",
     "output_type": "stream",
     "text": [
      "/home/code/datasets/pilot_raw \n",
      " /home/code/datasets/pilot_resized\n"
     ]
    }
   ],
   "source": [
    "def get_absolute_path(rel_path: str):\n",
    "    return(str(Path(rel_path).resolve().absolute()))\n",
    "\n",
    "source_path_full = get_absolute_path(source_path)\n",
    "dest_path_full = get_absolute_path(dest_path)\n",
    "print(source_path_full, '\\n', dest_path_full)"
   ]
  },
  {
   "cell_type": "code",
   "execution_count": 24,
   "metadata": {},
   "outputs": [
    {
     "data": {
      "text/plain": [
       "'poison_ivy_vines_9.jpg'"
      ]
     },
     "execution_count": 24,
     "metadata": {},
     "output_type": "execute_result"
    }
   ],
   "source": [
    "Path(im_path).name"
   ]
  },
  {
   "cell_type": "code",
   "execution_count": 25,
   "metadata": {},
   "outputs": [
    {
     "data": {
      "text/html": [
       "<div>\n",
       "<style scoped>\n",
       "    .dataframe tbody tr th:only-of-type {\n",
       "        vertical-align: middle;\n",
       "    }\n",
       "\n",
       "    .dataframe tbody tr th {\n",
       "        vertical-align: top;\n",
       "    }\n",
       "\n",
       "    .dataframe thead th {\n",
       "        text-align: right;\n",
       "    }\n",
       "</style>\n",
       "<table border=\"1\" class=\"dataframe\">\n",
       "  <thead>\n",
       "    <tr style=\"text-align: right;\">\n",
       "      <th></th>\n",
       "      <th>full_path</th>\n",
       "      <th>rel_path</th>\n",
       "    </tr>\n",
       "    <tr>\n",
       "      <th>name</th>\n",
       "      <th></th>\n",
       "      <th></th>\n",
       "    </tr>\n",
       "  </thead>\n",
       "  <tbody>\n",
       "    <tr>\n",
       "      <th>Blackberries_plant_1.jpg</th>\n",
       "      <td>/home/code/datasets/pilot_raw/negative/Blackbe...</td>\n",
       "      <td>../datasets/pilot_raw/negative/Blackberries_pl...</td>\n",
       "    </tr>\n",
       "    <tr>\n",
       "      <th>Blackberries_plant_10.jpg</th>\n",
       "      <td>/home/code/datasets/pilot_raw/negative/Blackbe...</td>\n",
       "      <td>../datasets/pilot_raw/negative/Blackberries_pl...</td>\n",
       "    </tr>\n",
       "    <tr>\n",
       "      <th>Blackberries_plant_2.jpg</th>\n",
       "      <td>/home/code/datasets/pilot_raw/negative/Blackbe...</td>\n",
       "      <td>../datasets/pilot_raw/negative/Blackberries_pl...</td>\n",
       "    </tr>\n",
       "    <tr>\n",
       "      <th>Blackberries_plant_3.jpg</th>\n",
       "      <td>/home/code/datasets/pilot_raw/negative/Blackbe...</td>\n",
       "      <td>../datasets/pilot_raw/negative/Blackberries_pl...</td>\n",
       "    </tr>\n",
       "    <tr>\n",
       "      <th>Blackberries_plant_4.jpg</th>\n",
       "      <td>/home/code/datasets/pilot_raw/negative/Blackbe...</td>\n",
       "      <td>../datasets/pilot_raw/negative/Blackberries_pl...</td>\n",
       "    </tr>\n",
       "  </tbody>\n",
       "</table>\n",
       "</div>"
      ],
      "text/plain": [
       "                                                                   full_path  \\\n",
       "name                                                                           \n",
       "Blackberries_plant_1.jpg   /home/code/datasets/pilot_raw/negative/Blackbe...   \n",
       "Blackberries_plant_10.jpg  /home/code/datasets/pilot_raw/negative/Blackbe...   \n",
       "Blackberries_plant_2.jpg   /home/code/datasets/pilot_raw/negative/Blackbe...   \n",
       "Blackberries_plant_3.jpg   /home/code/datasets/pilot_raw/negative/Blackbe...   \n",
       "Blackberries_plant_4.jpg   /home/code/datasets/pilot_raw/negative/Blackbe...   \n",
       "\n",
       "                                                                    rel_path  \n",
       "name                                                                          \n",
       "Blackberries_plant_1.jpg   ../datasets/pilot_raw/negative/Blackberries_pl...  \n",
       "Blackberries_plant_10.jpg  ../datasets/pilot_raw/negative/Blackberries_pl...  \n",
       "Blackberries_plant_2.jpg   ../datasets/pilot_raw/negative/Blackberries_pl...  \n",
       "Blackberries_plant_3.jpg   ../datasets/pilot_raw/negative/Blackberries_pl...  \n",
       "Blackberries_plant_4.jpg   ../datasets/pilot_raw/negative/Blackberries_pl...  "
      ]
     },
     "execution_count": 25,
     "metadata": {},
     "output_type": "execute_result"
    }
   ],
   "source": [
    "def get_path_types(rel_path: str):\n",
    "    path_obj = Path(rel_path)\n",
    "    return({\n",
    "        'full_path': get_absolute_path(rel_path),\n",
    "        'rel_path': rel_path,\n",
    "        'name': path_obj.name\n",
    "    })\n",
    "    \n",
    "df_ims = pd.DataFrame([get_path_types(im_path)\n",
    "                       for im_path in glob(str(Path(source_path, '**/*.jpg')))]).set_index('name')\n",
    "df_ims.head()"
   ]
  },
  {
   "cell_type": "code",
   "execution_count": 32,
   "metadata": {},
   "outputs": [
    {
     "ename": "UnidentifiedImageError",
     "evalue": "cannot identify image file '/home/code/datasets/pilot_raw/positive/poison_ivy_plant_4.jpg'",
     "output_type": "error",
     "traceback": [
      "\u001b[0;31m---------------------------------------------------------------------------\u001b[0m",
      "\u001b[0;31mUnidentifiedImageError\u001b[0m                    Traceback (most recent call last)",
      "\u001b[0;32m<ipython-input-32-2b95d80b0035>\u001b[0m in \u001b[0;36m<module>\u001b[0;34m\u001b[0m\n\u001b[0;32m----> 1\u001b[0;31m \u001b[0mImage\u001b[0m\u001b[0;34m.\u001b[0m\u001b[0mopen\u001b[0m\u001b[0;34m(\u001b[0m\u001b[0mdf_ims\u001b[0m\u001b[0;34m.\u001b[0m\u001b[0mat\u001b[0m\u001b[0;34m[\u001b[0m\u001b[0;34m'poison_ivy_plant_4.jpg'\u001b[0m\u001b[0;34m,\u001b[0m \u001b[0;34m'full_path'\u001b[0m\u001b[0;34m]\u001b[0m\u001b[0;34m)\u001b[0m\u001b[0;34m\u001b[0m\u001b[0;34m\u001b[0m\u001b[0m\n\u001b[0m",
      "\u001b[0;32m/usr/local/lib/python3.6/dist-packages/PIL/Image.py\u001b[0m in \u001b[0;36mopen\u001b[0;34m(fp, mode, formats)\u001b[0m\n\u001b[1;32m   3029\u001b[0m         \u001b[0mwarnings\u001b[0m\u001b[0;34m.\u001b[0m\u001b[0mwarn\u001b[0m\u001b[0;34m(\u001b[0m\u001b[0mmessage\u001b[0m\u001b[0;34m)\u001b[0m\u001b[0;34m\u001b[0m\u001b[0;34m\u001b[0m\u001b[0m\n\u001b[1;32m   3030\u001b[0m     raise UnidentifiedImageError(\n\u001b[0;32m-> 3031\u001b[0;31m         \u001b[0;34m\"cannot identify image file %r\"\u001b[0m \u001b[0;34m%\u001b[0m \u001b[0;34m(\u001b[0m\u001b[0mfilename\u001b[0m \u001b[0;32mif\u001b[0m \u001b[0mfilename\u001b[0m \u001b[0;32melse\u001b[0m \u001b[0mfp\u001b[0m\u001b[0;34m)\u001b[0m\u001b[0;34m\u001b[0m\u001b[0;34m\u001b[0m\u001b[0m\n\u001b[0m\u001b[1;32m   3032\u001b[0m     )\n\u001b[1;32m   3033\u001b[0m \u001b[0;34m\u001b[0m\u001b[0m\n",
      "\u001b[0;31mUnidentifiedImageError\u001b[0m: cannot identify image file '/home/code/datasets/pilot_raw/positive/poison_ivy_plant_4.jpg'"
     ]
    }
   ],
   "source": [
    "Image.open(df_ims.at['poison_ivy_plant_4.jpg', 'full_path'])"
   ]
  },
  {
   "cell_type": "code",
   "execution_count": 40,
   "metadata": {},
   "outputs": [
    {
     "data": {
      "image/png": "[encoded data removed]",
      "text/plain": [
       "<Figure size 432x288 with 1 Axes>"
      ]
     },
     "metadata": {
      "needs_background": "light"
     },
     "output_type": "display_data"
    }
   ],
   "source": [
    "def image_is_readable(im_path: str):\n",
    "    try:\n",
    "        Image.open(im_path)\n",
    "        return True\n",
    "    except UnidentifiedImageError:\n",
    "        return False\n",
    "    \n",
    "df_ims['is_readable'] = df_ims['full_path'].map(image_is_readable)\n",
    "df_ims['is_readable'].map(\n",
    "    lambda val: \"Image read\" if val else \"Not readable\") \\\n",
    "    .value_counts().plot(kind = 'bar',title='Is Image Readable?', ylabel='File count');"
   ]
  },
  {
   "cell_type": "code",
   "execution_count": 44,
   "metadata": {},
   "outputs": [
    {
     "name": "stdout",
     "output_type": "stream",
     "text": [
      "173\n"
     ]
    }
   ],
   "source": [
    "imgs = [*df_ims[df_ims['is_readable']].index]\n",
    "print(len(imgs))\n",
    "\n",
    "df_ims = df_ims.loc[imgs]"
   ]
  },
  {
   "cell_type": "code",
   "execution_count": 50,
   "metadata": {},
   "outputs": [
    {
     "data": {
      "text/html": [
       "<div>\n",
       "<style scoped>\n",
       "    .dataframe tbody tr th:only-of-type {\n",
       "        vertical-align: middle;\n",
       "    }\n",
       "\n",
       "    .dataframe tbody tr th {\n",
       "        vertical-align: top;\n",
       "    }\n",
       "\n",
       "    .dataframe thead th {\n",
       "        text-align: right;\n",
       "    }\n",
       "</style>\n",
       "<table border=\"1\" class=\"dataframe\">\n",
       "  <thead>\n",
       "    <tr style=\"text-align: right;\">\n",
       "      <th></th>\n",
       "      <th>full_path</th>\n",
       "      <th>rel_path</th>\n",
       "      <th>is_readable</th>\n",
       "      <th>new_full_path</th>\n",
       "      <th>image_dims</th>\n",
       "      <th>new_image_dims</th>\n",
       "    </tr>\n",
       "    <tr>\n",
       "      <th>name</th>\n",
       "      <th></th>\n",
       "      <th></th>\n",
       "      <th></th>\n",
       "      <th></th>\n",
       "      <th></th>\n",
       "      <th></th>\n",
       "    </tr>\n",
       "  </thead>\n",
       "  <tbody>\n",
       "    <tr>\n",
       "      <th>Blackberries_plant_1.jpg</th>\n",
       "      <td>/home/code/datasets/pilot_raw/negative/Blackbe...</td>\n",
       "      <td>../datasets/pilot_raw/negative/Blackberries_pl...</td>\n",
       "      <td>True</td>\n",
       "      <td>/home/code/datasets/pilot_resized/negative/Bla...</td>\n",
       "      <td>(1662, 1247)</td>\n",
       "      <td>(399, 300)</td>\n",
       "    </tr>\n",
       "    <tr>\n",
       "      <th>Blackberries_plant_10.jpg</th>\n",
       "      <td>/home/code/datasets/pilot_raw/negative/Blackbe...</td>\n",
       "      <td>../datasets/pilot_raw/negative/Blackberries_pl...</td>\n",
       "      <td>True</td>\n",
       "      <td>/home/code/datasets/pilot_resized/negative/Bla...</td>\n",
       "      <td>(1200, 630)</td>\n",
       "      <td>(571, 300)</td>\n",
       "    </tr>\n",
       "    <tr>\n",
       "      <th>Blackberries_plant_2.jpg</th>\n",
       "      <td>/home/code/datasets/pilot_raw/negative/Blackbe...</td>\n",
       "      <td>../datasets/pilot_raw/negative/Blackberries_pl...</td>\n",
       "      <td>True</td>\n",
       "      <td>/home/code/datasets/pilot_resized/negative/Bla...</td>\n",
       "      <td>(1556, 1234)</td>\n",
       "      <td>(378, 300)</td>\n",
       "    </tr>\n",
       "    <tr>\n",
       "      <th>Blackberries_plant_3.jpg</th>\n",
       "      <td>/home/code/datasets/pilot_raw/negative/Blackbe...</td>\n",
       "      <td>../datasets/pilot_raw/negative/Blackberries_pl...</td>\n",
       "      <td>True</td>\n",
       "      <td>/home/code/datasets/pilot_resized/negative/Bla...</td>\n",
       "      <td>(450, 600)</td>\n",
       "      <td>(300, 400)</td>\n",
       "    </tr>\n",
       "    <tr>\n",
       "      <th>Blackberries_plant_4.jpg</th>\n",
       "      <td>/home/code/datasets/pilot_raw/negative/Blackbe...</td>\n",
       "      <td>../datasets/pilot_raw/negative/Blackberries_pl...</td>\n",
       "      <td>True</td>\n",
       "      <td>/home/code/datasets/pilot_resized/negative/Bla...</td>\n",
       "      <td>(1280, 960)</td>\n",
       "      <td>(400, 300)</td>\n",
       "    </tr>\n",
       "  </tbody>\n",
       "</table>\n",
       "</div>"
      ],
      "text/plain": [
       "                                                                   full_path  \\\n",
       "name                                                                           \n",
       "Blackberries_plant_1.jpg   /home/code/datasets/pilot_raw/negative/Blackbe...   \n",
       "Blackberries_plant_10.jpg  /home/code/datasets/pilot_raw/negative/Blackbe...   \n",
       "Blackberries_plant_2.jpg   /home/code/datasets/pilot_raw/negative/Blackbe...   \n",
       "Blackberries_plant_3.jpg   /home/code/datasets/pilot_raw/negative/Blackbe...   \n",
       "Blackberries_plant_4.jpg   /home/code/datasets/pilot_raw/negative/Blackbe...   \n",
       "\n",
       "                                                                    rel_path  \\\n",
       "name                                                                           \n",
       "Blackberries_plant_1.jpg   ../datasets/pilot_raw/negative/Blackberries_pl...   \n",
       "Blackberries_plant_10.jpg  ../datasets/pilot_raw/negative/Blackberries_pl...   \n",
       "Blackberries_plant_2.jpg   ../datasets/pilot_raw/negative/Blackberries_pl...   \n",
       "Blackberries_plant_3.jpg   ../datasets/pilot_raw/negative/Blackberries_pl...   \n",
       "Blackberries_plant_4.jpg   ../datasets/pilot_raw/negative/Blackberries_pl...   \n",
       "\n",
       "                           is_readable  \\\n",
       "name                                     \n",
       "Blackberries_plant_1.jpg          True   \n",
       "Blackberries_plant_10.jpg         True   \n",
       "Blackberries_plant_2.jpg          True   \n",
       "Blackberries_plant_3.jpg          True   \n",
       "Blackberries_plant_4.jpg          True   \n",
       "\n",
       "                                                               new_full_path  \\\n",
       "name                                                                           \n",
       "Blackberries_plant_1.jpg   /home/code/datasets/pilot_resized/negative/Bla...   \n",
       "Blackberries_plant_10.jpg  /home/code/datasets/pilot_resized/negative/Bla...   \n",
       "Blackberries_plant_2.jpg   /home/code/datasets/pilot_resized/negative/Bla...   \n",
       "Blackberries_plant_3.jpg   /home/code/datasets/pilot_resized/negative/Bla...   \n",
       "Blackberries_plant_4.jpg   /home/code/datasets/pilot_resized/negative/Bla...   \n",
       "\n",
       "                             image_dims new_image_dims  \n",
       "name                                                    \n",
       "Blackberries_plant_1.jpg   (1662, 1247)     (399, 300)  \n",
       "Blackberries_plant_10.jpg   (1200, 630)     (571, 300)  \n",
       "Blackberries_plant_2.jpg   (1556, 1234)     (378, 300)  \n",
       "Blackberries_plant_3.jpg     (450, 600)     (300, 400)  \n",
       "Blackberries_plant_4.jpg    (1280, 960)     (400, 300)  "
      ]
     },
     "execution_count": 50,
     "metadata": {},
     "output_type": "execute_result"
    }
   ],
   "source": [
    "df_ims['new_full_path'] = df_ims['full_path'].str.replace(source_path_full, dest_path_full)\n",
    "df_ims['image_dims'] = df_ims['full_path'].map(\n",
    "    lambda im_path: Image.open(im_path).size)\n",
    "\n",
    "def resize_by_min_dim(size: Tuple[int, int], min_dim:int =100) -> Tuple[int, int]:\n",
    "    \"\"\"\n",
    "    Resize an image to keep the same proportions and make the smaller\n",
    "    of the two dimensions equal to min_dim\n",
    "    size = (width, height) in pixels\n",
    "    returns (new_width, new_height)\n",
    "    \"\"\"\n",
    "    width, height = size\n",
    "    new_height = new_width = None\n",
    "    if width > height:\n",
    "        new_height = min_dim\n",
    "        new_width = int((width/height) * new_height)\n",
    "    else:\n",
    "        new_width = min_dim\n",
    "        new_height = int((height/width) * new_width)\n",
    "    return (new_width, new_height)\n",
    "    \n",
    "    \n",
    "df_ims['new_image_dims'] = df_ims['image_dims'].map(lambda size: resize_by_min_dim(size, min_dimension))\n",
    "df_ims.head()"
   ]
  },
  {
   "cell_type": "code",
   "execution_count": 47,
   "metadata": {},
   "outputs": [
    {
     "data": {
      "text/html": [
       "<div>\n",
       "<style scoped>\n",
       "    .dataframe tbody tr th:only-of-type {\n",
       "        vertical-align: middle;\n",
       "    }\n",
       "\n",
       "    .dataframe tbody tr th {\n",
       "        vertical-align: top;\n",
       "    }\n",
       "\n",
       "    .dataframe thead th {\n",
       "        text-align: right;\n",
       "    }\n",
       "</style>\n",
       "<table border=\"1\" class=\"dataframe\">\n",
       "  <thead>\n",
       "    <tr style=\"text-align: right;\">\n",
       "      <th></th>\n",
       "      <th>full_path</th>\n",
       "      <th>rel_path</th>\n",
       "      <th>is_readable</th>\n",
       "      <th>new_full_path</th>\n",
       "      <th>image_dims</th>\n",
       "    </tr>\n",
       "    <tr>\n",
       "      <th>name</th>\n",
       "      <th></th>\n",
       "      <th></th>\n",
       "      <th></th>\n",
       "      <th></th>\n",
       "      <th></th>\n",
       "    </tr>\n",
       "  </thead>\n",
       "  <tbody>\n",
       "    <tr>\n",
       "      <th>Blackberries_plant_1.jpg</th>\n",
       "      <td>/home/code/datasets/pilot_raw/negative/Blackbe...</td>\n",
       "      <td>../datasets/pilot_raw/negative/Blackberries_pl...</td>\n",
       "      <td>True</td>\n",
       "      <td>/home/code/datasets/pilot_resized/negative/Bla...</td>\n",
       "      <td>(1662, 1247)</td>\n",
       "    </tr>\n",
       "    <tr>\n",
       "      <th>Blackberries_plant_10.jpg</th>\n",
       "      <td>/home/code/datasets/pilot_raw/negative/Blackbe...</td>\n",
       "      <td>../datasets/pilot_raw/negative/Blackberries_pl...</td>\n",
       "      <td>True</td>\n",
       "      <td>/home/code/datasets/pilot_resized/negative/Bla...</td>\n",
       "      <td>(1200, 630)</td>\n",
       "    </tr>\n",
       "    <tr>\n",
       "      <th>Blackberries_plant_2.jpg</th>\n",
       "      <td>/home/code/datasets/pilot_raw/negative/Blackbe...</td>\n",
       "      <td>../datasets/pilot_raw/negative/Blackberries_pl...</td>\n",
       "      <td>True</td>\n",
       "      <td>/home/code/datasets/pilot_resized/negative/Bla...</td>\n",
       "      <td>(1556, 1234)</td>\n",
       "    </tr>\n",
       "    <tr>\n",
       "      <th>Blackberries_plant_3.jpg</th>\n",
       "      <td>/home/code/datasets/pilot_raw/negative/Blackbe...</td>\n",
       "      <td>../datasets/pilot_raw/negative/Blackberries_pl...</td>\n",
       "      <td>True</td>\n",
       "      <td>/home/code/datasets/pilot_resized/negative/Bla...</td>\n",
       "      <td>(450, 600)</td>\n",
       "    </tr>\n",
       "    <tr>\n",
       "      <th>Blackberries_plant_4.jpg</th>\n",
       "      <td>/home/code/datasets/pilot_raw/negative/Blackbe...</td>\n",
       "      <td>../datasets/pilot_raw/negative/Blackberries_pl...</td>\n",
       "      <td>True</td>\n",
       "      <td>/home/code/datasets/pilot_resized/negative/Bla...</td>\n",
       "      <td>(1280, 960)</td>\n",
       "    </tr>\n",
       "  </tbody>\n",
       "</table>\n",
       "</div>"
      ],
      "text/plain": [
       "                                                                   full_path  \\\n",
       "name                                                                           \n",
       "Blackberries_plant_1.jpg   /home/code/datasets/pilot_raw/negative/Blackbe...   \n",
       "Blackberries_plant_10.jpg  /home/code/datasets/pilot_raw/negative/Blackbe...   \n",
       "Blackberries_plant_2.jpg   /home/code/datasets/pilot_raw/negative/Blackbe...   \n",
       "Blackberries_plant_3.jpg   /home/code/datasets/pilot_raw/negative/Blackbe...   \n",
       "Blackberries_plant_4.jpg   /home/code/datasets/pilot_raw/negative/Blackbe...   \n",
       "\n",
       "                                                                    rel_path  \\\n",
       "name                                                                           \n",
       "Blackberries_plant_1.jpg   ../datasets/pilot_raw/negative/Blackberries_pl...   \n",
       "Blackberries_plant_10.jpg  ../datasets/pilot_raw/negative/Blackberries_pl...   \n",
       "Blackberries_plant_2.jpg   ../datasets/pilot_raw/negative/Blackberries_pl...   \n",
       "Blackberries_plant_3.jpg   ../datasets/pilot_raw/negative/Blackberries_pl...   \n",
       "Blackberries_plant_4.jpg   ../datasets/pilot_raw/negative/Blackberries_pl...   \n",
       "\n",
       "                           is_readable  \\\n",
       "name                                     \n",
       "Blackberries_plant_1.jpg          True   \n",
       "Blackberries_plant_10.jpg         True   \n",
       "Blackberries_plant_2.jpg          True   \n",
       "Blackberries_plant_3.jpg          True   \n",
       "Blackberries_plant_4.jpg          True   \n",
       "\n",
       "                                                               new_full_path  \\\n",
       "name                                                                           \n",
       "Blackberries_plant_1.jpg   /home/code/datasets/pilot_resized/negative/Bla...   \n",
       "Blackberries_plant_10.jpg  /home/code/datasets/pilot_resized/negative/Bla...   \n",
       "Blackberries_plant_2.jpg   /home/code/datasets/pilot_resized/negative/Bla...   \n",
       "Blackberries_plant_3.jpg   /home/code/datasets/pilot_resized/negative/Bla...   \n",
       "Blackberries_plant_4.jpg   /home/code/datasets/pilot_resized/negative/Bla...   \n",
       "\n",
       "                             image_dims  \n",
       "name                                     \n",
       "Blackberries_plant_1.jpg   (1662, 1247)  \n",
       "Blackberries_plant_10.jpg   (1200, 630)  \n",
       "Blackberries_plant_2.jpg   (1556, 1234)  \n",
       "Blackberries_plant_3.jpg     (450, 600)  \n",
       "Blackberries_plant_4.jpg    (1280, 960)  "
      ]
     },
     "execution_count": 47,
     "metadata": {},
     "output_type": "execute_result"
    }
   ],
   "source": []
  },
  {
   "cell_type": "code",
   "execution_count": null,
   "metadata": {},
   "outputs": [],
   "source": []
  }
 ],
 "metadata": {
  "interpreter": {
   "hash": "31f2aee4e71d21fbe5cf8b01ff0e069b9275f58929596ceb00d14d90e3e16cd6"
  },
  "kernelspec": {
   "display_name": "Python 3.6.9 64-bit",
   "name": "python3"
  },
  "language_info": {
   "codemirror_mode": {
    "name": "ipython",
    "version": 3
   },
   "file_extension": ".py",
   "mimetype": "text/x-python",
   "name": "python",
   "nbconvert_exporter": "python",
   "pygments_lexer": "ipython3",
   "version": "3.6.9"
  },
  "orig_nbformat": 4
 },
 "nbformat": 4,
 "nbformat_minor": 2
}
