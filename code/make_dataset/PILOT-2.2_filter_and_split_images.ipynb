{
 "cells": [
  {
   "cell_type": "markdown",
   "metadata": {},
   "source": [
    "# Filter and split images\n",
    "\n",
    "Now that we have the readable images, we will:\n",
    " - Filter out images that don't fit our desired dataset\n",
    " - Split data into training and testing folders"
   ]
  },
  {
   "cell_type": "code",
   "execution_count": 67,
   "metadata": {},
   "outputs": [],
   "source": [
    "import pandas as pd\n",
    "import numpy as np\n",
    "import matplotlib.pyplot as plt\n",
    "import seaborn as sns\n",
    "from sklearn.model_selection import train_test_split\n",
    "from pathlib import Path\n",
    "import cv2\n",
    "import pytesseract\n",
    "from typing import Callable, Tuple, Dict\n",
    "from collections import Counter\n",
    "import shutil\n",
    "\n",
    "plt.rcParams['axes.facecolor'] = 'white'\n",
    "plt.rcParams['figure.facecolor'] = 'white'\n",
    "plt.rcParams['font.size'] = 12\n"
   ]
  },
  {
   "cell_type": "code",
   "execution_count": 55,
   "metadata": {},
   "outputs": [],
   "source": [
    "# NOTEBOOK PARAMETERS\n",
    "src_path = '../datasets/pilot_resized'\n",
    "src_metadata = '../datasets/pilot_resized/dataset_metadata.csv'\n",
    "\n",
    "dest_path = '../datasets/pilot_final'\n",
    "dest_metadata = '../datasets/pilot_final'\n",
    "\n",
    "train_frac = 0.8 # Train-validation split frac\n",
    "split_seed = 101 # Seed for random split\n",
    "\n",
    "img_color_threshold = 0.1 # Parameter for filtering images in which the same color appears too often"
   ]
  },
  {
   "cell_type": "markdown",
   "metadata": {},
   "source": [
    "## Set up dataset"
   ]
  },
  {
   "cell_type": "code",
   "execution_count": 5,
   "metadata": {},
   "outputs": [
    {
     "name": "stdout",
     "output_type": "stream",
     "text": [
      "/home/code/datasets/pilot_resized \n",
      " /home/code/datasets/pilot_final\n"
     ]
    }
   ],
   "source": [
    "def get_absolute_path(rel_path: str):\n",
    "    return(str(Path(rel_path).resolve().absolute()))\n",
    "\n",
    "src_path_full = get_absolute_path(src_path)\n",
    "dest_path_full = get_absolute_path(dest_path)\n",
    "print(src_path_full, '\\n', dest_path_full)"
   ]
  },
  {
   "cell_type": "code",
   "execution_count": 39,
   "metadata": {},
   "outputs": [
    {
     "data": {
      "text/html": [
       "<div>\n",
       "<style scoped>\n",
       "    .dataframe tbody tr th:only-of-type {\n",
       "        vertical-align: middle;\n",
       "    }\n",
       "\n",
       "    .dataframe tbody tr th {\n",
       "        vertical-align: top;\n",
       "    }\n",
       "\n",
       "    .dataframe thead th {\n",
       "        text-align: right;\n",
       "    }\n",
       "</style>\n",
       "<table border=\"1\" class=\"dataframe\">\n",
       "  <thead>\n",
       "    <tr style=\"text-align: right;\">\n",
       "      <th></th>\n",
       "      <th>full_path</th>\n",
       "      <th>image_dims</th>\n",
       "      <th>is_readable</th>\n",
       "      <th>original_path</th>\n",
       "      <th>original_image_dims</th>\n",
       "      <th>path_suffix</th>\n",
       "      <th>label</th>\n",
       "    </tr>\n",
       "    <tr>\n",
       "      <th>name</th>\n",
       "      <th></th>\n",
       "      <th></th>\n",
       "      <th></th>\n",
       "      <th></th>\n",
       "      <th></th>\n",
       "      <th></th>\n",
       "      <th></th>\n",
       "    </tr>\n",
       "  </thead>\n",
       "  <tbody>\n",
       "    <tr>\n",
       "      <th>Blackberries_plant_1.jpg</th>\n",
       "      <td>/home/code/datasets/pilot_resized/negative/Bla...</td>\n",
       "      <td>(399, 300)</td>\n",
       "      <td>True</td>\n",
       "      <td>/home/code/datasets/pilot_raw/negative/Blackbe...</td>\n",
       "      <td>(1662, 1247)</td>\n",
       "      <td>./negative/Blackberries_plant_1.jpg</td>\n",
       "      <td>negative</td>\n",
       "    </tr>\n",
       "    <tr>\n",
       "      <th>Blackberries_plant_10.jpg</th>\n",
       "      <td>/home/code/datasets/pilot_resized/negative/Bla...</td>\n",
       "      <td>(571, 300)</td>\n",
       "      <td>True</td>\n",
       "      <td>/home/code/datasets/pilot_raw/negative/Blackbe...</td>\n",
       "      <td>(1200, 630)</td>\n",
       "      <td>./negative/Blackberries_plant_10.jpg</td>\n",
       "      <td>negative</td>\n",
       "    </tr>\n",
       "    <tr>\n",
       "      <th>Blackberries_plant_2.jpg</th>\n",
       "      <td>/home/code/datasets/pilot_resized/negative/Bla...</td>\n",
       "      <td>(378, 300)</td>\n",
       "      <td>True</td>\n",
       "      <td>/home/code/datasets/pilot_raw/negative/Blackbe...</td>\n",
       "      <td>(1556, 1234)</td>\n",
       "      <td>./negative/Blackberries_plant_2.jpg</td>\n",
       "      <td>negative</td>\n",
       "    </tr>\n",
       "    <tr>\n",
       "      <th>Blackberries_plant_3.jpg</th>\n",
       "      <td>/home/code/datasets/pilot_resized/negative/Bla...</td>\n",
       "      <td>(300, 400)</td>\n",
       "      <td>True</td>\n",
       "      <td>/home/code/datasets/pilot_raw/negative/Blackbe...</td>\n",
       "      <td>(450, 600)</td>\n",
       "      <td>./negative/Blackberries_plant_3.jpg</td>\n",
       "      <td>negative</td>\n",
       "    </tr>\n",
       "    <tr>\n",
       "      <th>Blackberries_plant_4.jpg</th>\n",
       "      <td>/home/code/datasets/pilot_resized/negative/Bla...</td>\n",
       "      <td>(400, 300)</td>\n",
       "      <td>True</td>\n",
       "      <td>/home/code/datasets/pilot_raw/negative/Blackbe...</td>\n",
       "      <td>(1280, 960)</td>\n",
       "      <td>./negative/Blackberries_plant_4.jpg</td>\n",
       "      <td>negative</td>\n",
       "    </tr>\n",
       "  </tbody>\n",
       "</table>\n",
       "</div>"
      ],
      "text/plain": [
       "                                                                   full_path  \\\n",
       "name                                                                           \n",
       "Blackberries_plant_1.jpg   /home/code/datasets/pilot_resized/negative/Bla...   \n",
       "Blackberries_plant_10.jpg  /home/code/datasets/pilot_resized/negative/Bla...   \n",
       "Blackberries_plant_2.jpg   /home/code/datasets/pilot_resized/negative/Bla...   \n",
       "Blackberries_plant_3.jpg   /home/code/datasets/pilot_resized/negative/Bla...   \n",
       "Blackberries_plant_4.jpg   /home/code/datasets/pilot_resized/negative/Bla...   \n",
       "\n",
       "                           image_dims  is_readable  \\\n",
       "name                                                 \n",
       "Blackberries_plant_1.jpg   (399, 300)         True   \n",
       "Blackberries_plant_10.jpg  (571, 300)         True   \n",
       "Blackberries_plant_2.jpg   (378, 300)         True   \n",
       "Blackberries_plant_3.jpg   (300, 400)         True   \n",
       "Blackberries_plant_4.jpg   (400, 300)         True   \n",
       "\n",
       "                                                               original_path  \\\n",
       "name                                                                           \n",
       "Blackberries_plant_1.jpg   /home/code/datasets/pilot_raw/negative/Blackbe...   \n",
       "Blackberries_plant_10.jpg  /home/code/datasets/pilot_raw/negative/Blackbe...   \n",
       "Blackberries_plant_2.jpg   /home/code/datasets/pilot_raw/negative/Blackbe...   \n",
       "Blackberries_plant_3.jpg   /home/code/datasets/pilot_raw/negative/Blackbe...   \n",
       "Blackberries_plant_4.jpg   /home/code/datasets/pilot_raw/negative/Blackbe...   \n",
       "\n",
       "                          original_image_dims  \\\n",
       "name                                            \n",
       "Blackberries_plant_1.jpg         (1662, 1247)   \n",
       "Blackberries_plant_10.jpg         (1200, 630)   \n",
       "Blackberries_plant_2.jpg         (1556, 1234)   \n",
       "Blackberries_plant_3.jpg           (450, 600)   \n",
       "Blackberries_plant_4.jpg          (1280, 960)   \n",
       "\n",
       "                                                    path_suffix     label  \n",
       "name                                                                       \n",
       "Blackberries_plant_1.jpg    ./negative/Blackberries_plant_1.jpg  negative  \n",
       "Blackberries_plant_10.jpg  ./negative/Blackberries_plant_10.jpg  negative  \n",
       "Blackberries_plant_2.jpg    ./negative/Blackberries_plant_2.jpg  negative  \n",
       "Blackberries_plant_3.jpg    ./negative/Blackberries_plant_3.jpg  negative  \n",
       "Blackberries_plant_4.jpg    ./negative/Blackberries_plant_4.jpg  negative  "
      ]
     },
     "execution_count": 39,
     "metadata": {},
     "output_type": "execute_result"
    }
   ],
   "source": [
    "df_src = pd.read_csv(src_metadata, index_col=0)\n",
    "df_ims = df_src[['new_full_path', 'new_image_dims', 'is_readable', 'full_path', 'image_dims']].rename({\n",
    "    'new_full_path': 'full_path',\n",
    "    'new_image_dims': 'image_dims',\n",
    "    'full_path': 'original_path',\n",
    "    'image_dims': 'original_image_dims'\n",
    "}, axis=1)\n",
    "df_ims['path_suffix'] = df_ims['full_path'].str.replace(src_path_full, '.')\n",
    "df_ims['label'] = df_ims['full_path'].map(lambda im_path: Path(im_path).parts[-2])\n",
    "df_ims.head()"
   ]
  },
  {
   "cell_type": "markdown",
   "metadata": {},
   "source": [
    "## Get filter results\n",
    "\n",
    "Goal: Get dataset of images which are just natural pictures of plants\n",
    "\n",
    "Filters included:\n",
    " - Filter images which have too many identical pixel colors (likely a solid background, like a diagram not a natural photo)\n",
    " - Filter images with text detected (likely some kind of overlay or diagram, not just a normal nature photo)\n",
    "\n",
    " Not included is a \"human filter\"; originally tested to remove pics not of actual poison ivy (i.e. a person showing off a rash, not the plant itself). But the images seemed infrequent enough and the OpenCV results for human detection were not very good. Plus, people may be in the background when scanning a plant as poison ivy. So left this filter off."
   ]
  },
  {
   "cell_type": "code",
   "execution_count": 40,
   "metadata": {},
   "outputs": [],
   "source": [
    "# Filter application\n",
    "def apply_filters_to_path(im_path:str,\n",
    "                          filters: Dict[str, Callable[[np.ndarray], bool]],\n",
    "                          passed_str:str = \"Passed\",\n",
    "                          not_read_str:str = \"Image_not_read\") -> Tuple[bool, str]:\n",
    "    \"\"\"\n",
    "    Apply a series of filters of to an image path\n",
    "    By default checks if image can be read\n",
    "    Then checks based on dictionary of {filter name: filter function}\n",
    "    Returns a tuple of (Passed? (boolean), which filter failed or passed_str)\n",
    "    \"\"\"\n",
    "    img = cv2.imread(im_path)\n",
    "    if img is None:\n",
    "        return (False, not_read_str) # Image could not be read\n",
    "    \n",
    "    for filter_name, filter_func in filters.items():\n",
    "        if not filter_func(img):\n",
    "            return (False, filter_name)\n",
    "        \n",
    "    return(True, passed_str) # No filters failed\n",
    "\n",
    "\n",
    "# Filter 1 + helpers\n",
    "def detect_image_text(img: np.ndarray) -> str:\n",
    "    return(pytesseract.image_to_string(img, lang='eng').strip())\n",
    "\n",
    "def filter_image_with_text(img: np.ndarray) -> bool:\n",
    "    \"\"\"\n",
    "    Filter: Return True if text detected in image is blank\n",
    "    \"\"\"\n",
    "    return(detect_image_text(img) == '')\n",
    "\n",
    "\n",
    "# Filter 2 + helpers\n",
    "def max_color_appearence_frac(img: np.ndarray) -> float:\n",
    "    \"\"\"\n",
    "    Count the fraction of pixels which make up the most common color\n",
    "    Detects if there is one color appearing too much (i.e. if there is a solid background instead of a more natural looking photo)\n",
    "    \"\"\"\n",
    "    width, height, _ = img.shape\n",
    "    return(max(Counter(tuple(img[i,j,:])\n",
    "                       for i in range(width)\n",
    "                       for j in range(height)).values()) / (height*width))\n",
    "\n",
    "def filter_image_with_homogenous_color(img: np.ndarray, frac_threshold=0.1) -> bool:\n",
    "    return(max_color_appearence_frac(img) < frac_threshold)\n",
    "\n",
    "def create_homogenous_color_filter(frac_threshold=0.1):\n",
    "    return(lambda img: filter_image_with_homogenous_color(img, frac_threshold=frac_threshold))"
   ]
  },
  {
   "cell_type": "code",
   "execution_count": 41,
   "metadata": {},
   "outputs": [],
   "source": [
    "filters = {\n",
    "    'homogenous_color': create_homogenous_color_filter(frac_threshold=img_color_threshold),\n",
    "    'has_text': filter_image_with_text\n",
    "}\n",
    "\n",
    "df_ims['filter_results'] = df_ims['full_path'].map(lambda im_path: apply_filters_to_path(im_path, filters))"
   ]
  },
  {
   "cell_type": "code",
   "execution_count": 49,
   "metadata": {},
   "outputs": [
    {
     "data": {
      "image/png": "[encoded data removed]",
      "text/plain": [
       "<Figure size 576x360 with 1 Axes>"
      ]
     },
     "metadata": {},
     "output_type": "display_data"
    }
   ],
   "source": [
    "plt.figure(figsize=(8,5))\n",
    "sns.countplot(data=df_ims, x='filter_results', hue='label')\n",
    "plt.title(\"Filter results, by label\")\n",
    "plt.show()"
   ]
  },
  {
   "cell_type": "code",
   "execution_count": 51,
   "metadata": {},
   "outputs": [
    {
     "name": "stdout",
     "output_type": "stream",
     "text": [
      "156\n"
     ]
    }
   ],
   "source": [
    "df_ims['keep_image'] = df_ims['filter_results'].map(lambda res_vals: res_vals[0])\n",
    "df_keep = df_ims[df_ims['keep_image']]\n",
    "print(len(df_keep.index))"
   ]
  },
  {
   "cell_type": "markdown",
   "metadata": {},
   "source": [
    "## Split data"
   ]
  },
  {
   "cell_type": "code",
   "execution_count": 56,
   "metadata": {},
   "outputs": [],
   "source": [
    "train_ims, val_ims = train_test_split(df_keep.index, stratify=df_keep['label'], train_size=train_frac, random_state=split_seed)"
   ]
  },
  {
   "cell_type": "code",
   "execution_count": 60,
   "metadata": {},
   "outputs": [
    {
     "data": {
      "text/plain": [
       "<AxesSubplot:xlabel='split', ylabel='count'>"
      ]
     },
     "execution_count": 60,
     "metadata": {},
     "output_type": "execute_result"
    },
    {
     "data": {
      "image/png": "[encoded data removed]",
      "text/plain": [
       "<Figure size 432x288 with 1 Axes>"
      ]
     },
     "metadata": {},
     "output_type": "display_data"
    }
   ],
   "source": [
    "df_ims['split'] = 'REMOVED'\n",
    "df_ims.loc[train_ims, 'split'] = 'train'\n",
    "df_ims.loc[val_ims, 'split'] = 'val'\n",
    "\n",
    "sns.countplot(data=df_ims, x='split', hue='label')"
   ]
  },
  {
   "cell_type": "code",
   "execution_count": 63,
   "metadata": {},
   "outputs": [],
   "source": [
    "keep_ims = df_ims[df_ims['keep_image']].index\n",
    "\n",
    "df_ims.loc[keep_ims, 'new_full_path'] = df_ims.loc[keep_ims].apply(\n",
    "    lambda row: str(Path(dest_path_full, row['split'], row['path_suffix']).resolve().absolute()),\n",
    "    axis=1\n",
    ")"
   ]
  },
  {
   "cell_type": "markdown",
   "metadata": {},
   "source": [
    "## Store everything in final location"
   ]
  },
  {
   "cell_type": "code",
   "execution_count": 68,
   "metadata": {},
   "outputs": [],
   "source": [
    "# Store images in appropriate locations\n",
    "for name, im_data in df_ims[df_ims['keep_image']].iterrows():\n",
    "    input_path = im_data['full_path']\n",
    "    output_path = im_data['new_full_path']\n",
    "    Path(output_path).parents[0].mkdir(exist_ok=True, parents=True)\n",
    "    shutil.copy(input_path, output_path)\n",
    "    "
   ]
  },
  {
   "cell_type": "code",
   "execution_count": null,
   "metadata": {},
   "outputs": [],
   "source": []
  }
 ],
 "metadata": {
  "interpreter": {
   "hash": "31f2aee4e71d21fbe5cf8b01ff0e069b9275f58929596ceb00d14d90e3e16cd6"
  },
  "kernelspec": {
   "display_name": "Python 3.6.9 64-bit",
   "name": "python3"
  },
  "language_info": {
   "codemirror_mode": {
    "name": "ipython",
    "version": 3
   },
   "file_extension": ".py",
   "mimetype": "text/x-python",
   "name": "python",
   "nbconvert_exporter": "python",
   "pygments_lexer": "ipython3",
   "version": "3.6.9"
  },
  "orig_nbformat": 4
 },
 "nbformat": 4,
 "nbformat_minor": 2
}
