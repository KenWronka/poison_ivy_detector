{
 "cells": [
  {
   "cell_type": "markdown",
   "metadata": {},
   "source": [
    "# CNN Model\n",
    "\n",
    "Pilot model for classifying poison ivy images using a basic CNN architecture"
   ]
  },
  {
   "cell_type": "markdown",
   "metadata": {},
   "source": [
    "## Config"
   ]
  },
  {
   "cell_type": "code",
   "execution_count": 1,
   "metadata": {},
   "outputs": [],
   "source": [
    "import tensorflow as tf\n",
    "from tensorflow.keras.layers import Dense, Flatten, Conv2D, MaxPool2D, Dropout, Add, Input\n",
    "from tensorflow.keras import Model\n",
    "from tensorflow.keras.preprocessing.image import ImageDataGenerator\n",
    "from tensorflow.keras.callbacks import EarlyStopping, ReduceLROnPlateau\n",
    "import matplotlib.pyplot as plt\n",
    "import os\n",
    "\n",
    "os.environ['TF_FORCE_GPU_ALLOW_GROWTH'] = 'true'\n",
    "plt.rcParams['axes.facecolor'] = 'white'\n",
    "plt.rcParams['figure.facecolor'] = 'white'\n",
    "plt.rcParams['font.size'] = 12"
   ]
  },
  {
   "cell_type": "code",
   "execution_count": 2,
   "metadata": {},
   "outputs": [],
   "source": [
    "# NOTEBOOK PARAMETERS\n",
    "dest_path = '../datasets/pilot_final'\n",
    "dest_metadata = '../datasets/pilot_final/dataset_metadata.csv'\n",
    "\n",
    "train_path = '../datasets/pilot_final/train'\n",
    "val_path = '../datasets/pilot_final/val'\n",
    "\n",
    "image_size = (300,300)\n",
    "batch_size = 20\n",
    "epochs = 500\n",
    "\n"
   ]
  },
  {
   "cell_type": "markdown",
   "metadata": {},
   "source": [
    "## Datasets"
   ]
  },
  {
   "cell_type": "code",
   "execution_count": 3,
   "metadata": {},
   "outputs": [
    {
     "name": "stdout",
     "output_type": "stream",
     "text": [
      "Found 124 images belonging to 2 classes.\n",
      "Found 32 images belonging to 2 classes.\n"
     ]
    }
   ],
   "source": [
    "# Training data with augmentation\n",
    "train_datagen = ImageDataGenerator(rescale = 1./255.,\n",
    "                                   rotation_range = 40,\n",
    "                                   width_shift_range = 0.2,\n",
    "                                   height_shift_range = 0.2,\n",
    "                                   shear_range = 0.2,\n",
    "                                   zoom_range = 0.2,\n",
    "                                   horizontal_flip = True)\n",
    "\n",
    "train_generator = train_datagen.flow_from_directory(train_path,\n",
    "                                                    batch_size=batch_size,\n",
    "                                                    class_mode='binary',\n",
    "                                                    target_size=image_size)\n",
    "\n",
    "\n",
    "# Validation data (just rescaled)\n",
    "val_datagen = ImageDataGenerator(rescale=1./255)\n",
    "\n",
    "val_generator = val_datagen.flow_from_directory(val_path,\n",
    "                                                batch_size=batch_size,\n",
    "                                                class_mode='binary',\n",
    "                                                target_size=image_size)"
   ]
  },
  {
   "cell_type": "markdown",
   "metadata": {},
   "source": [
    "plt.imshow(next(train_generator)[0][0])\n",
    "plt.axis('off')\n",
    "plt.title(\"Sample image\")\n",
    "plt.show()"
   ]
  },
  {
   "cell_type": "markdown",
   "metadata": {},
   "source": [
    "## Model and fitting"
   ]
  },
  {
   "cell_type": "code",
   "execution_count": 4,
   "metadata": {},
   "outputs": [],
   "source": [
    "def make_tf_model():\n",
    "    inputs = Input(shape=(image_size[0], image_size[1], 3))\n",
    "    x = Conv2D(16, 3, padding='same', activation='relu')(inputs)\n",
    "    x = MaxPool2D()(x)\n",
    "    c0 = Conv2D(32, 1, padding='same', activation='relu')(x)\n",
    "    x = Conv2D(32, 3, padding='same', activation='relu')(c0)\n",
    "    x = Conv2D(32, 3, padding='same', activation='relu')(x)\n",
    "    c1a = Add()([c0, x])\n",
    "    x = MaxPool2D()(c1a)\n",
    "    c1b = Conv2D(64, 1, padding='same', activation='relu')(x)\n",
    "    x = Conv2D(64, 3, padding='same', activation='relu')(c1b)\n",
    "    x = Conv2D(64, 3, padding='same', activation='relu')(x)\n",
    "    x = Conv2D(64, 3, padding='same', activation='relu')(x)\n",
    "    x = Add()([c1b, x])\n",
    "    x = Flatten()(x)\n",
    "    x = Dense(256, activation='relu')(x)\n",
    "    x = Dropout(0.2)(x)\n",
    "    x = Dense(126, activation='relu')(x)\n",
    "    x = Dropout(0.2)(x)\n",
    "    x = Dense(64, activation='relu')(x)\n",
    "    x = Dropout(0.2)(x)\n",
    "    outputs = Dense(1, activation='sigmoid')(x)\n",
    "\n",
    "    model = Model(inputs=inputs, outputs=outputs)\n",
    "    model.compile(optimizer='Adam', loss = 'binary_crossentropy', metrics = ['accuracy'])\n",
    "    return(model)"
   ]
  },
  {
   "cell_type": "code",
   "execution_count": 5,
   "metadata": {},
   "outputs": [],
   "source": [
    "early_stopping = EarlyStopping(patience=50, restore_best_weights=False, monitor='val_accuracy')\n",
    "reduce_lr = ReduceLROnPlateau(patience=5, factor=1./3, monitor='val_accuracy')\n",
    "callbacks = [early_stopping, reduce_lr]"
   ]
  },
  {
   "cell_type": "code",
   "execution_count": 6,
   "metadata": {},
   "outputs": [
    {
     "name": "stdout",
     "output_type": "stream",
     "text": [
      "WARNING:tensorflow:sample_weight modes were coerced from\n",
      "  ...\n",
      "    to  \n",
      "  ['...']\n",
      "WARNING:tensorflow:sample_weight modes were coerced from\n",
      "  ...\n",
      "    to  \n",
      "  ['...']\n",
      "Train for 7 steps, validate for 2 steps\n",
      "Epoch 1/500\n",
      "7/7 - 4s - loss: 1.4588 - accuracy: 0.4839 - val_loss: 0.6958 - val_accuracy: 0.5000\n",
      "Epoch 2/500\n",
      "7/7 - 1s - loss: 0.7978 - accuracy: 0.4597 - val_loss: 0.7084 - val_accuracy: 0.5000\n",
      "Epoch 3/500\n",
      "7/7 - 1s - loss: 0.7194 - accuracy: 0.5081 - val_loss: 0.6894 - val_accuracy: 0.5000\n",
      "Epoch 4/500\n",
      "7/7 - 1s - loss: 0.6961 - accuracy: 0.4758 - val_loss: 0.6898 - val_accuracy: 0.5312\n",
      "Epoch 5/500\n",
      "7/7 - 1s - loss: 0.6955 - accuracy: 0.5161 - val_loss: 0.6806 - val_accuracy: 0.5938\n",
      "Epoch 6/500\n",
      "7/7 - 1s - loss: 0.7077 - accuracy: 0.5081 - val_loss: 0.6833 - val_accuracy: 0.5000\n",
      "Epoch 7/500\n",
      "7/7 - 1s - loss: 0.6794 - accuracy: 0.5161 - val_loss: 0.6821 - val_accuracy: 0.5312\n",
      "Epoch 8/500\n",
      "7/7 - 1s - loss: 0.6764 - accuracy: 0.6371 - val_loss: 0.6782 - val_accuracy: 0.4688\n",
      "Epoch 9/500\n",
      "7/7 - 1s - loss: 0.6830 - accuracy: 0.6694 - val_loss: 0.7133 - val_accuracy: 0.5000\n",
      "Epoch 10/500\n",
      "7/7 - 1s - loss: 0.6624 - accuracy: 0.6210 - val_loss: 0.6917 - val_accuracy: 0.5312\n",
      "Epoch 11/500\n",
      "7/7 - 1s - loss: 0.6672 - accuracy: 0.5726 - val_loss: 0.6905 - val_accuracy: 0.5000\n",
      "Epoch 12/500\n",
      "7/7 - 1s - loss: 0.6434 - accuracy: 0.5806 - val_loss: 0.6954 - val_accuracy: 0.4688\n",
      "Epoch 13/500\n",
      "7/7 - 1s - loss: 0.6282 - accuracy: 0.6613 - val_loss: 0.7312 - val_accuracy: 0.4375\n",
      "Epoch 14/500\n",
      "7/7 - 1s - loss: 0.6780 - accuracy: 0.5887 - val_loss: 0.7177 - val_accuracy: 0.4375\n",
      "Epoch 15/500\n",
      "7/7 - 1s - loss: 0.6251 - accuracy: 0.6532 - val_loss: 0.6987 - val_accuracy: 0.5000\n",
      "Epoch 16/500\n",
      "7/7 - 1s - loss: 0.6348 - accuracy: 0.6129 - val_loss: 0.6956 - val_accuracy: 0.5000\n",
      "Epoch 17/500\n",
      "7/7 - 1s - loss: 0.6424 - accuracy: 0.6210 - val_loss: 0.6933 - val_accuracy: 0.5000\n",
      "Epoch 18/500\n",
      "7/7 - 1s - loss: 0.6492 - accuracy: 0.5968 - val_loss: 0.6948 - val_accuracy: 0.4688\n",
      "Epoch 19/500\n",
      "7/7 - 1s - loss: 0.6341 - accuracy: 0.6048 - val_loss: 0.6961 - val_accuracy: 0.4688\n",
      "Epoch 20/500\n",
      "7/7 - 1s - loss: 0.6085 - accuracy: 0.6290 - val_loss: 0.7007 - val_accuracy: 0.4375\n",
      "Epoch 21/500\n",
      "7/7 - 1s - loss: 0.6085 - accuracy: 0.6452 - val_loss: 0.7028 - val_accuracy: 0.4375\n",
      "Epoch 22/500\n",
      "7/7 - 1s - loss: 0.6043 - accuracy: 0.7097 - val_loss: 0.7039 - val_accuracy: 0.4375\n",
      "Epoch 23/500\n",
      "7/7 - 1s - loss: 0.5998 - accuracy: 0.6613 - val_loss: 0.7046 - val_accuracy: 0.4688\n",
      "Epoch 24/500\n",
      "7/7 - 1s - loss: 0.5942 - accuracy: 0.6774 - val_loss: 0.7058 - val_accuracy: 0.4688\n",
      "Epoch 25/500\n",
      "7/7 - 1s - loss: 0.6378 - accuracy: 0.6532 - val_loss: 0.7039 - val_accuracy: 0.4375\n",
      "Epoch 26/500\n",
      "7/7 - 2s - loss: 0.6259 - accuracy: 0.6371 - val_loss: 0.7040 - val_accuracy: 0.4688\n",
      "Epoch 27/500\n",
      "7/7 - 1s - loss: 0.6071 - accuracy: 0.6694 - val_loss: 0.7044 - val_accuracy: 0.4375\n",
      "Epoch 28/500\n",
      "7/7 - 1s - loss: 0.6123 - accuracy: 0.6210 - val_loss: 0.7049 - val_accuracy: 0.4688\n",
      "Epoch 29/500\n",
      "7/7 - 1s - loss: 0.6108 - accuracy: 0.6452 - val_loss: 0.7056 - val_accuracy: 0.4688\n",
      "Epoch 30/500\n",
      "7/7 - 1s - loss: 0.6168 - accuracy: 0.6613 - val_loss: 0.7056 - val_accuracy: 0.4688\n",
      "Epoch 31/500\n",
      "7/7 - 1s - loss: 0.6069 - accuracy: 0.6694 - val_loss: 0.7057 - val_accuracy: 0.4688\n",
      "Epoch 32/500\n",
      "7/7 - 1s - loss: 0.5976 - accuracy: 0.6935 - val_loss: 0.7058 - val_accuracy: 0.5000\n",
      "Epoch 33/500\n",
      "7/7 - 1s - loss: 0.6103 - accuracy: 0.6290 - val_loss: 0.7060 - val_accuracy: 0.5000\n",
      "Epoch 34/500\n",
      "7/7 - 1s - loss: 0.6234 - accuracy: 0.6694 - val_loss: 0.7061 - val_accuracy: 0.5000\n",
      "Epoch 35/500\n",
      "7/7 - 1s - loss: 0.5912 - accuracy: 0.6694 - val_loss: 0.7062 - val_accuracy: 0.4688\n",
      "Epoch 36/500\n",
      "7/7 - 1s - loss: 0.6133 - accuracy: 0.6371 - val_loss: 0.7062 - val_accuracy: 0.4688\n",
      "Epoch 37/500\n",
      "7/7 - 1s - loss: 0.6149 - accuracy: 0.6452 - val_loss: 0.7062 - val_accuracy: 0.4688\n",
      "Epoch 38/500\n",
      "7/7 - 1s - loss: 0.6219 - accuracy: 0.6532 - val_loss: 0.7062 - val_accuracy: 0.4688\n",
      "Epoch 39/500\n",
      "7/7 - 1s - loss: 0.5940 - accuracy: 0.6774 - val_loss: 0.7062 - val_accuracy: 0.4688\n",
      "Epoch 40/500\n",
      "7/7 - 1s - loss: 0.6035 - accuracy: 0.6290 - val_loss: 0.7063 - val_accuracy: 0.4688\n",
      "Epoch 41/500\n",
      "7/7 - 1s - loss: 0.6438 - accuracy: 0.6532 - val_loss: 0.7063 - val_accuracy: 0.4688\n",
      "Epoch 42/500\n",
      "7/7 - 2s - loss: 0.6110 - accuracy: 0.6452 - val_loss: 0.7063 - val_accuracy: 0.4688\n",
      "Epoch 43/500\n",
      "7/7 - 1s - loss: 0.6161 - accuracy: 0.6613 - val_loss: 0.7063 - val_accuracy: 0.4688\n",
      "Epoch 44/500\n",
      "7/7 - 1s - loss: 0.5926 - accuracy: 0.6210 - val_loss: 0.7063 - val_accuracy: 0.4688\n",
      "Epoch 45/500\n",
      "7/7 - 1s - loss: 0.6228 - accuracy: 0.6048 - val_loss: 0.7063 - val_accuracy: 0.4688\n",
      "Epoch 46/500\n",
      "7/7 - 1s - loss: 0.6111 - accuracy: 0.6532 - val_loss: 0.7063 - val_accuracy: 0.4688\n",
      "Epoch 47/500\n",
      "7/7 - 2s - loss: 0.5844 - accuracy: 0.7016 - val_loss: 0.7063 - val_accuracy: 0.4688\n",
      "Epoch 48/500\n",
      "7/7 - 1s - loss: 0.6065 - accuracy: 0.6290 - val_loss: 0.7063 - val_accuracy: 0.4688\n",
      "Epoch 49/500\n",
      "7/7 - 1s - loss: 0.6110 - accuracy: 0.6371 - val_loss: 0.7063 - val_accuracy: 0.4688\n",
      "Epoch 50/500\n",
      "7/7 - 1s - loss: 0.6423 - accuracy: 0.6452 - val_loss: 0.7063 - val_accuracy: 0.4688\n",
      "Epoch 51/500\n",
      "7/7 - 1s - loss: 0.6123 - accuracy: 0.6452 - val_loss: 0.7063 - val_accuracy: 0.4688\n",
      "Epoch 52/500\n"
     ]
    }
   ],
   "source": [
    "model = make_tf_model()\n",
    "history = model.fit(train_generator,\n",
    "                    epochs=epochs,\n",
    "                    verbose=2,\n",
    "                    validation_data=val_generator,\n",
    "                    callbacks=callbacks)"
   ]
  },
  {
   "cell_type": "code",
   "execution_count": null,
   "metadata": {},
   "outputs": [
    {
     "data": {
      "image/png": "[encoded data removed]",
      "text/plain": [
       "<Figure size 432x288 with 1 Axes>"
      ]
     },
     "metadata": {},
     "output_type": "display_data"
    },
    {
     "data": {
      "text/plain": [
       "<Figure size 432x288 with 0 Axes>"
      ]
     },
     "metadata": {},
     "output_type": "display_data"
    }
   ],
   "source": [
    "acc = history.history['accuracy']\n",
    "val_acc = history.history['val_accuracy']\n",
    "loss = history.history['loss']\n",
    "val_loss = history.history['val_loss']\n",
    "\n",
    "epochs = range(len(acc))\n",
    "\n",
    "plt.plot(epochs, acc, 'r', label='Training accuracy')\n",
    "plt.plot(epochs, val_acc, 'b', label='Validation accuracy')\n",
    "plt.title('Training and validation accuracy')\n",
    "plt.legend(loc=0)\n",
    "plt.figure()\n",
    "\n",
    "\n",
    "plt.show()"
   ]
  },
  {
   "cell_type": "code",
   "execution_count": null,
   "metadata": {},
   "outputs": [],
   "source": []
  }
 ],
 "metadata": {
  "interpreter": {
   "hash": "31f2aee4e71d21fbe5cf8b01ff0e069b9275f58929596ceb00d14d90e3e16cd6"
  },
  "kernelspec": {
   "display_name": "Python 3.6.9 64-bit",
   "name": "python3"
  },
  "language_info": {
   "codemirror_mode": {
    "name": "ipython",
    "version": 3
   },
   "file_extension": ".py",
   "mimetype": "text/x-python",
   "name": "python",
   "nbconvert_exporter": "python",
   "pygments_lexer": "ipython3",
   "version": "3.6.9"
  },
  "orig_nbformat": 4
 },
 "nbformat": 4,
 "nbformat_minor": 2
}
