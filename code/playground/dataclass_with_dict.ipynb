{
 "cells": [
  {
   "cell_type": "code",
   "execution_count": 45,
   "metadata": {},
   "outputs": [],
   "source": [
    "from dataclasses import dataclass, field, asdict\n",
    "from typing import Dict"
   ]
  },
  {
   "cell_type": "code",
   "execution_count": 34,
   "metadata": {},
   "outputs": [],
   "source": [
    "@dataclass(frozen=True)\n",
    "class Person:\n",
    "    _ord_index: int = field(init=False, repr=False)\n",
    "    name: str\n",
    "    age: int\n",
    "    loc: str = \"NY\"\n",
    "    skill_ratings: Dict[str, int] = field(default_factory=dict)\n",
    "    \n",
    "    def __post_init__(self):\n",
    "        super().__setattr__(\"_ord_index\", self.age)\n",
    "        self.validate_skill_ratings()\n",
    "        \n",
    "    def validate_skill_ratings(self):\n",
    "        assert isinstance(self.skill_ratings, dict), \"Skill ratings must be dict\"\n",
    "        for key, val in self.skill_ratings.items():\n",
    "            assert isinstance(key, str), \"Skill rating skills must be str type\"\n",
    "            assert isinstance(val, int), \"Skill rating skills must be int type\""
   ]
  },
  {
   "cell_type": "code",
   "execution_count": 37,
   "metadata": {},
   "outputs": [],
   "source": [
    "p1 = Person(\"Bob\", 18, skill_ratings={'test': 4})\n",
    "p2 = Person(\"John\", 15)\n",
    "p3 = Person(\"Frank\", 16, skill_ratings={'bball': 10})\n",
    "p4 = Person(\"Frank\", 16, skill_ratings={'bball': 10})\n"
   ]
  },
  {
   "cell_type": "code",
   "execution_count": 38,
   "metadata": {},
   "outputs": [
    {
     "name": "stdout",
     "output_type": "stream",
     "text": [
      "Person(name='Frank', age=16, loc='NY', skill_ratings={'bball': 10})\n"
     ]
    }
   ],
   "source": [
    "print(p4)"
   ]
  },
  {
   "cell_type": "code",
   "execution_count": 40,
   "metadata": {},
   "outputs": [
    {
     "name": "stdout",
     "output_type": "stream",
     "text": [
      "<class 'dict'>\n"
     ]
    }
   ],
   "source": [
    "print(type(p4.skill_ratings))"
   ]
  },
  {
   "cell_type": "code",
   "execution_count": 42,
   "metadata": {},
   "outputs": [
    {
     "name": "stdout",
     "output_type": "stream",
     "text": [
      "True\n"
     ]
    }
   ],
   "source": [
    "print(p3 == p4)"
   ]
  },
  {
   "cell_type": "code",
   "execution_count": 47,
   "metadata": {},
   "outputs": [
    {
     "name": "stdout",
     "output_type": "stream",
     "text": [
      "{'_ord_index': 16, 'name': 'Frank', 'age': 16, 'loc': 'NY', 'skill_ratings': {'bball': 10}}\n"
     ]
    }
   ],
   "source": [
    "print(asdict(p4))"
   ]
  },
  {
   "cell_type": "code",
   "execution_count": 68,
   "metadata": {},
   "outputs": [],
   "source": [
    "# Check storing instances and not using them as fields\n",
    "class Test_Unique:\n",
    "    _instance_names = set()\n",
    "    \n",
    "    def __init__(self, name, age=5):\n",
    "        assert name not in self._instance_names, \"That name is already taken\"\n",
    "        self._instance_names.add(name)\n",
    "        self.name = name\n",
    "        self.age = age\n",
    "        \n",
    "    def __del__(self):\n",
    "        print(\"HERE\")\n",
    "        self._instance_names.remove(self.name)"
   ]
  },
  {
   "cell_type": "code",
   "execution_count": 79,
   "metadata": {},
   "outputs": [],
   "source": [
    "\n",
    "test1 = Test_Unique(\"hello\", 6)\n",
    "test2 = Test_Unique(\"hello_1\", 6)\n",
    "\n"
   ]
  },
  {
   "cell_type": "code",
   "execution_count": 81,
   "metadata": {},
   "outputs": [
    {
     "name": "stdout",
     "output_type": "stream",
     "text": [
      "HERE\n"
     ]
    }
   ],
   "source": [
    "# del test1\n",
    "del test2\n"
   ]
  },
  {
   "cell_type": "code",
   "execution_count": 82,
   "metadata": {},
   "outputs": [
    {
     "data": {
      "text/plain": [
       "{'hello'}"
      ]
     },
     "execution_count": 82,
     "metadata": {},
     "output_type": "execute_result"
    }
   ],
   "source": [
    "Test_Unique._instance_names"
   ]
  },
  {
   "cell_type": "code",
   "execution_count": null,
   "metadata": {},
   "outputs": [],
   "source": []
  }
 ],
 "metadata": {
  "interpreter": {
   "hash": "31f2aee4e71d21fbe5cf8b01ff0e069b9275f58929596ceb00d14d90e3e16cd6"
  },
  "kernelspec": {
   "display_name": "Python 3.6.9 64-bit",
   "language": "python",
   "name": "python3"
  },
  "language_info": {
   "codemirror_mode": {
    "name": "ipython",
    "version": 3
   },
   "file_extension": ".py",
   "mimetype": "text/x-python",
   "name": "python",
   "nbconvert_exporter": "python",
   "pygments_lexer": "ipython3",
   "version": "3.6.9"
  },
  "orig_nbformat": 4
 },
 "nbformat": 4,
 "nbformat_minor": 2
}
