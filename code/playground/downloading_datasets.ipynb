{
 "cells": [
  {
   "cell_type": "markdown",
   "metadata": {},
   "source": [
    "# Playground for downloading datasets"
   ]
  },
  {
   "cell_type": "markdown",
   "metadata": {},
   "source": [
    "## Image net"
   ]
  },
  {
   "cell_type": "code",
   "execution_count": 78,
   "metadata": {},
   "outputs": [],
   "source": [
    "import urllib\n",
    "import requests\n",
    "import json\n",
    "import os\n",
    "from glob import glob\n",
    "import pandas as pd\n",
    "import gbif_dl\n",
    "from collections import Counter\n",
    "import cv2\n",
    "from PIL import Image"
   ]
  },
  {
   "cell_type": "code",
   "execution_count": 4,
   "metadata": {},
   "outputs": [],
   "source": [
    "def store_raw_images():\n",
    "    url = 'http://www.image-net.org/api/text/imagenet.synset.geturls?wnid=n04154340'\n",
    "    request = urllib.request.Request(url)\n",
    "    response = urllib.request.urlopen(request)\n",
    "    urls = response.read().decode('utf-8')\n",
    "    return(urls)"
   ]
  },
  {
   "cell_type": "markdown",
   "metadata": {},
   "source": [
    "## Plantnet / GBIF"
   ]
  },
  {
   "cell_type": "code",
   "execution_count": 3,
   "metadata": {},
   "outputs": [],
   "source": [
    "base_url = \"https://api.gbif.org/v1/\"\n",
    "plantnet_key = \"7a3679ef-5582-4aaa-81f0-8c2545cafc81\"\n",
    "\n",
    "PN_data_path = \"../datasets/plantnet_raw\"\n",
    "PN_data_file = \"verbatim.txt\""
   ]
  },
  {
   "cell_type": "code",
   "execution_count": 4,
   "metadata": {},
   "outputs": [
    {
     "name": "stdout",
     "output_type": "stream",
     "text": [
      "citations.txt  meta.xml      multimedia.txt  rights.txt\n",
      "dataset        metadata.xml  occurrence.txt  verbatim.txt\n"
     ]
    }
   ],
   "source": [
    "!ls {PN_data_path}"
   ]
  },
  {
   "cell_type": "code",
   "execution_count": 5,
   "metadata": {},
   "outputs": [
    {
     "name": "stdout",
     "output_type": "stream",
     "text": [
      "Index(['gbifID', 'identifier', 'license', 'publisher', 'references',\n",
      "       'datasetName', 'basisOfRecord', 'occurrenceID', 'individualCount',\n",
      "       'occurrenceStatus', 'eventDate', 'year', 'month', 'day', 'countryCode',\n",
      "       'decimalLatitude', 'decimalLongitude', 'coordinateUncertaintyInMeters',\n",
      "       'acceptedNameUsageID', 'scientificName', 'kingdom', 'phylum', 'class',\n",
      "       'order', 'family', 'genus', 'specificEpithet', 'taxonRank',\n",
      "       'taxonomicStatus', 'datasetKey', 'publishingCountry', 'lastInterpreted',\n",
      "       'issue', 'mediaType', 'hasCoordinate', 'hasGeospatialIssues',\n",
      "       'taxonKey', 'acceptedTaxonKey', 'kingdomKey', 'phylumKey', 'classKey',\n",
      "       'orderKey', 'familyKey', 'genusKey', 'speciesKey', 'species',\n",
      "       'genericName', 'acceptedScientificName', 'verbatimScientificName',\n",
      "       'protocol', 'lastParsed', 'lastCrawled', 'repatriated', 'level0Gid',\n",
      "       'level0Name', 'level1Gid', 'level1Name', 'level2Gid', 'level2Name',\n",
      "       'level3Gid', 'level3Name', 'iucnRedListCategory'],\n",
      "      dtype='object')\n"
     ]
    },
    {
     "data": {
      "text/plain": [
       "0    2927069\n",
       "1    5361909\n",
       "2    2890212\n",
       "3    2927303\n",
       "4    8351737\n",
       "Name: speciesKey, dtype: int64"
      ]
     },
     "execution_count": 5,
     "metadata": {},
     "output_type": "execute_result"
    }
   ],
   "source": [
    "fp = \"../datasets/plantnet_raw/occurrence.txt\"\n",
    "nrow = 5\n",
    "df = pd.read_csv(fp, nrows=nrow, sep='\\t')\n",
    "nas = df.isna().sum()\n",
    "print(nas[nas < nrow].index)\n",
    "df['speciesKey']"
   ]
  },
  {
   "cell_type": "code",
   "execution_count": 6,
   "metadata": {},
   "outputs": [
    {
     "name": "stderr",
     "output_type": "stream",
     "text": [
      "/usr/local/lib/python3.6/dist-packages/IPython/core/interactiveshell.py:3072: DtypeWarning: Columns (198) have mixed types.Specify dtype option on import or set low_memory=False.\n",
      "  interactivity=interactivity, compiler=compiler, result=result)\n"
     ]
    }
   ],
   "source": [
    "df = pd.read_csv(fp, sep='\\t')"
   ]
  },
  {
   "cell_type": "code",
   "execution_count": 7,
   "metadata": {},
   "outputs": [
    {
     "data": {
      "text/plain": [
       "36256"
      ]
     },
     "execution_count": 7,
     "metadata": {},
     "output_type": "execute_result"
    }
   ],
   "source": [
    "test = df['countryCode'].value_counts()\n",
    "test['US']"
   ]
  },
  {
   "cell_type": "code",
   "execution_count": 55,
   "metadata": {},
   "outputs": [
    {
     "data": {
      "text/plain": [
       "3039194    706\n",
       "3084015    679\n",
       "3120060    360\n",
       "2926557    311\n",
       "5376075    310\n",
       "          ... \n",
       "7819589      1\n",
       "3170627      1\n",
       "8184083      1\n",
       "5384458      1\n",
       "5414964      1\n",
       "Name: speciesKey, Length: 2488, dtype: int64"
      ]
     },
     "execution_count": 55,
     "metadata": {},
     "output_type": "execute_result"
    }
   ],
   "source": [
    "test_2 = df[~df['speciesKey'].isna() &\n",
    "          (df['countryCode'] == 'US')]['speciesKey'].astype('int').value_counts()\n",
    "test_2"
   ]
  },
  {
   "cell_type": "code",
   "execution_count": 56,
   "metadata": {},
   "outputs": [
    {
     "name": "stdout",
     "output_type": "stream",
     "text": [
      "36250\n"
     ]
    }
   ],
   "source": [
    "print(sum(test_2))"
   ]
  },
  {
   "cell_type": "code",
   "execution_count": 24,
   "metadata": {},
   "outputs": [
    {
     "data": {
      "text/plain": [
       "0         True\n",
       "1         True\n",
       "2         True\n",
       "3         True\n",
       "4         True\n",
       "          ... \n",
       "794364    True\n",
       "794365    True\n",
       "794366    True\n",
       "794367    True\n",
       "794368    True\n",
       "Name: speciesKey, Length: 794369, dtype: bool"
      ]
     },
     "execution_count": 24,
     "metadata": {},
     "output_type": "execute_result"
    }
   ],
   "source": [
    "(~df['speciesKey'].isna())"
   ]
  },
  {
   "cell_type": "code",
   "execution_count": 111,
   "metadata": {},
   "outputs": [
    {
     "name": "stdout",
     "output_type": "stream",
     "text": [
      "2488\n"
     ]
    },
    {
     "data": {
      "text/plain": [
       "[3039194, 3084015, 3120060, 2926557, 5376075]"
      ]
     },
     "execution_count": 111,
     "metadata": {},
     "output_type": "execute_result"
    }
   ],
   "source": [
    "species = [*df[~df['speciesKey'].isna() &\n",
    "              (df['countryCode'] == 'US')]['speciesKey'].astype('int').value_counts().index]\n",
    "print(len(species))\n",
    "species[:5]"
   ]
  },
  {
   "cell_type": "code",
   "execution_count": 129,
   "metadata": {},
   "outputs": [],
   "source": [
    "# query = {\n",
    "#     \"speciesKey\": [3039194, 2926986],\n",
    "#     \"datasetKey\": [\n",
    "#         \"7a3679ef-5582-4aaa-81f0-8c2545cafc81\",  # plantnet\n",
    "#     ]\n",
    "# }\n",
    "\n",
    "query = {\n",
    "    # \"speciesKey\": species[:200],\n",
    "    \"datasetKey\": [\n",
    "        \"7a3679ef-5582-4aaa-81f0-8c2545cafc81\",  # plantnet\n",
    "    ]\n",
    "}"
   ]
  },
  {
   "cell_type": "code",
   "execution_count": 130,
   "metadata": {},
   "outputs": [
    {
     "name": "stdout",
     "output_type": "stream",
     "text": [
      "50\n"
     ]
    }
   ],
   "source": [
    "data_generator = gbif_dl.api.generate_urls(\n",
    "    queries=query,\n",
    "    label=\"speciesKey\",\n",
    "    nb_samples=1000,\n",
    "    nb_samples_per_stream=50\n",
    ")"
   ]
  },
  {
   "cell_type": "code",
   "execution_count": 131,
   "metadata": {},
   "outputs": [],
   "source": [
    "test = [*data_generator]"
   ]
  },
  {
   "cell_type": "code",
   "execution_count": 132,
   "metadata": {},
   "outputs": [
    {
     "name": "stdout",
     "output_type": "stream",
     "text": [
      "50\n",
      "Counter({'5356354': 2, '3145214': 2, '2891031': 2, '3190583': 2, '5373358': 1, '3190638': 1, '9419993': 1, '3094900': 1, '6375040': 1, '3062975': 1, '5295044': 1, '7334368': 1, '5330661': 1, '2769766': 1, '7307829': 1, '2984565': 1, '5334247': 1, '3172358': 1, '3189815': 1, '3034742': 1, '2868323': 1, '5384604': 1, '6035538': 1, '5330580': 1, '3025617': 1, '3172297': 1, '2684640': 1, '5415020': 1, '5371742': 1, '5367273': 1, '8971274': 1, '5415455': 1, '3152268': 1, '3021496': 1, '2858739': 1, '2766278': 1, '3171949': 1, '7262663': 1, '3033865': 1, '5334218': 1, '3172300': 1, '3117424': 1, '3085191': 1, '3066965': 1, '8848598': 1, '2889011': 1})\n"
     ]
    }
   ],
   "source": [
    "print(len(test))\n",
    "test[:1]\n",
    "print(Counter([val['label'] for val in test]))"
   ]
  },
  {
   "cell_type": "code",
   "execution_count": 133,
   "metadata": {},
   "outputs": [],
   "source": [
    "# stats = gbif_dl.io.download(data_generator, root=\"my_dataset\")"
   ]
  },
  {
   "cell_type": "code",
   "execution_count": 2,
   "metadata": {},
   "outputs": [
    {
     "ename": "NameError",
     "evalue": "name 'base_url' is not defined",
     "output_type": "error",
     "traceback": [
      "\u001b[0;31m---------------------------------------------------------------------------\u001b[0m",
      "\u001b[0;31mNameError\u001b[0m                                 Traceback (most recent call last)",
      "\u001b[0;32m<ipython-input-2-fe4d02dbacbe>\u001b[0m in \u001b[0;36m<module>\u001b[0;34m\u001b[0m\n\u001b[0;32m----> 1\u001b[0;31m \u001b[0mtest\u001b[0m \u001b[0;34m=\u001b[0m \u001b[0mrequests\u001b[0m\u001b[0;34m.\u001b[0m\u001b[0mget\u001b[0m\u001b[0;34m(\u001b[0m\u001b[0mbase_url\u001b[0m \u001b[0;34m+\u001b[0m \u001b[0;34m\"dataset/\"\u001b[0m \u001b[0;34m+\u001b[0m \u001b[0mplantnet_key\u001b[0m \u001b[0;34m+\u001b[0m \u001b[0;34m\"/metrics\"\u001b[0m\u001b[0;34m)\u001b[0m\u001b[0;34m\u001b[0m\u001b[0;34m\u001b[0m\u001b[0m\n\u001b[0m",
      "\u001b[0;31mNameError\u001b[0m: name 'base_url' is not defined"
     ]
    }
   ],
   "source": [
    "test = requests.get(base_url + \"dataset/\" + plantnet_key + \"/metrics\")"
   ]
  },
  {
   "cell_type": "code",
   "execution_count": 83,
   "metadata": {},
   "outputs": [
    {
     "name": "stdout",
     "output_type": "stream",
     "text": [
      "(675, 900)\n",
      "(675, 900)\n",
      "(675, 900)\n",
      "(425, 900)\n",
      "(425, 900)\n"
     ]
    }
   ],
   "source": [
    "for img_path in glob('my_dataset/**/*'):\n",
    "    img = Image.open(img_path).convert('RGB')\n",
    "    print(img.size)"
   ]
  },
  {
   "cell_type": "code",
   "execution_count": null,
   "metadata": {},
   "outputs": [],
   "source": []
  }
 ],
 "metadata": {
  "interpreter": {
   "hash": "31f2aee4e71d21fbe5cf8b01ff0e069b9275f58929596ceb00d14d90e3e16cd6"
  },
  "kernelspec": {
   "display_name": "Python 3.6.9 64-bit",
   "name": "python3"
  },
  "language_info": {
   "codemirror_mode": {
    "name": "ipython",
    "version": 3
   },
   "file_extension": ".py",
   "mimetype": "text/x-python",
   "name": "python",
   "nbconvert_exporter": "python",
   "pygments_lexer": "ipython3",
   "version": "3.6.9"
  },
  "orig_nbformat": 4
 },
 "nbformat": 4,
 "nbformat_minor": 2
}
