{
 "cells": [
  {
   "cell_type": "markdown",
   "metadata": {},
   "source": [
    "# Playground for downloading datasets"
   ]
  },
  {
   "cell_type": "markdown",
   "metadata": {},
   "source": [
    "## Image net"
   ]
  },
  {
   "cell_type": "code",
   "execution_count": 1,
   "metadata": {},
   "outputs": [],
   "source": [
    "import urllib\n",
    "import requests\n",
    "import json\n",
    "import os\n",
    "from glob import glob\n",
    "import pandas as pd"
   ]
  },
  {
   "cell_type": "code",
   "execution_count": 4,
   "metadata": {},
   "outputs": [],
   "source": [
    "def store_raw_images():\n",
    "    url = 'http://www.image-net.org/api/text/imagenet.synset.geturls?wnid=n04154340'\n",
    "    request = urllib.request.Request(url)\n",
    "    response = urllib.request.urlopen(request)\n",
    "    urls = response.read().decode('utf-8')\n",
    "    return(urls)"
   ]
  },
  {
   "cell_type": "markdown",
   "metadata": {},
   "source": [
    "## Plantnet / GBIF"
   ]
  },
  {
   "cell_type": "code",
   "execution_count": 2,
   "metadata": {},
   "outputs": [],
   "source": [
    "base_url = \"https://api.gbif.org/v1/\"\n",
    "plantnet_key = \"7a3679ef-5582-4aaa-81f0-8c2545cafc81\"\n",
    "\n",
    "PN_data_path = \"../datasets/plantnet_raw\"\n",
    "PN_data_file = \"verbatim.txt\""
   ]
  },
  {
   "cell_type": "code",
   "execution_count": 3,
   "metadata": {},
   "outputs": [
    {
     "name": "stdout",
     "output_type": "stream",
     "text": [
      "citations.txt  meta.xml      multimedia.txt  rights.txt\n",
      "dataset        metadata.xml  occurrence.txt  verbatim.txt\n"
     ]
    }
   ],
   "source": [
    "!ls {PN_data_path}"
   ]
  },
  {
   "cell_type": "code",
   "execution_count": null,
   "metadata": {},
   "outputs": [],
   "source": []
  },
  {
   "cell_type": "code",
   "execution_count": 10,
   "metadata": {},
   "outputs": [
    {
     "name": "stdout",
     "output_type": "stream",
     "text": [
      "Index(['gbifID', 'identifier', 'license', 'publisher', 'references',\n",
      "       'datasetName', 'basisOfRecord', 'occurrenceID', 'individualCount',\n",
      "       'occurrenceStatus', 'eventDate', 'year', 'month', 'day', 'countryCode',\n",
      "       'decimalLatitude', 'decimalLongitude', 'coordinateUncertaintyInMeters',\n",
      "       'acceptedNameUsageID', 'scientificName', 'kingdom', 'phylum', 'class',\n",
      "       'order', 'family', 'genus', 'specificEpithet', 'taxonRank',\n",
      "       'taxonomicStatus', 'datasetKey', 'publishingCountry', 'lastInterpreted',\n",
      "       'issue', 'mediaType', 'hasCoordinate', 'hasGeospatialIssues',\n",
      "       'taxonKey', 'acceptedTaxonKey', 'kingdomKey', 'phylumKey', 'classKey',\n",
      "       'orderKey', 'familyKey', 'genusKey', 'speciesKey', 'species',\n",
      "       'genericName', 'acceptedScientificName', 'verbatimScientificName',\n",
      "       'protocol', 'lastParsed', 'lastCrawled', 'repatriated', 'level0Gid',\n",
      "       'level0Name', 'level1Gid', 'level1Name', 'level2Gid', 'level2Name',\n",
      "       'level3Gid', 'level3Name', 'iucnRedListCategory'],\n",
      "      dtype='object')\n"
     ]
    },
    {
     "data": {
      "text/plain": [
       "0    2927069\n",
       "1    5361909\n",
       "2    2890212\n",
       "3    2927303\n",
       "4    8351737\n",
       "Name: speciesKey, dtype: int64"
      ]
     },
     "execution_count": 10,
     "metadata": {},
     "output_type": "execute_result"
    }
   ],
   "source": [
    "fp = \"../datasets/plantnet_raw/occurrence.txt\"\n",
    "nrow = 5\n",
    "df = pd.read_csv(fp, nrows=nrow, sep='\\t')\n",
    "nas = df.isna().sum()\n",
    "print(nas[nas < nrow].index)\n",
    "df['speciesKey']"
   ]
  },
  {
   "cell_type": "code",
   "execution_count": 12,
   "metadata": {},
   "outputs": [],
   "source": [
    "df = pd.read_csv(fp, sep='\\t')"
   ]
  },
  {
   "cell_type": "code",
   "execution_count": 17,
   "metadata": {},
   "outputs": [
    {
     "data": {
      "text/plain": [
       "36256"
      ]
     },
     "execution_count": 17,
     "metadata": {},
     "output_type": "execute_result"
    }
   ],
   "source": [
    "test = df['countryCode'].value_counts()\n",
    "test['US']"
   ]
  },
  {
   "cell_type": "code",
   "execution_count": 19,
   "metadata": {},
   "outputs": [
    {
     "data": {
      "text/plain": [
       "3039194    706\n",
       "3084015    679\n",
       "3120060    360\n",
       "2926557    311\n",
       "5376075    310\n",
       "          ... \n",
       "7819589      1\n",
       "3170627      1\n",
       "8184083      1\n",
       "5384458      1\n",
       "5414964      1\n",
       "Name: speciesKey, Length: 2488, dtype: int64"
      ]
     },
     "execution_count": 19,
     "metadata": {},
     "output_type": "execute_result"
    }
   ],
   "source": [
    "test = df[~df['speciesKey'].isna() &\n",
    "          (df['countryCode'] == 'US')]['speciesKey'].astype('int').value_counts()\n",
    "test"
   ]
  },
  {
   "cell_type": "code",
   "execution_count": 4,
   "metadata": {},
   "outputs": [
    {
     "name": "stdout",
     "output_type": "stream",
     "text": [
      "gbifID\tabstract\taccessRights\taccrualMethod\taccrualPeriodicity\taccrualPolicy\talternative\taudience\tavailable\tbibliographicCitation\tconformsTo\tcontributor\tcoverage\tcreated\tcreator\tdate\tdateAccepted\tdateCopyrighted\tdateSubmitted\tdescription\teducationLevel\textent\tformat\thasFormat\thasPart\thasVersion\tidentifier\tinstructionalMethod\tisFormatOf\tisPartOf\tisReferencedBy\tisReplacedBy\tisRequiredBy\tisVersionOf\tissued\tlanguage\tlicense\tmediator\tmedium\tmodified\tprovenance\tpublisher\treferences\trelation\treplaces\trequires\trights\trightsHolder\tsource\tspatial\tsubject\ttableOfContents\ttemporal\ttitle\ttype\tvalid\tinstitutionID\tcollectionID\tdatasetID\tinstitutionCode\tcollectionCode\tdatasetName\townerInstitutionCode\tbasisOfRecord\tinformationWithheld\tdataGeneralizations\tdynamicProperties\toccurrenceID\tcatalogNumber\trecordNumber\trecordedBy\tindividualCount\torganismQuantity\torganismQuantityType\tsex\tlifeStage\treproductiveCondition\tbehavior\testablishmentMeans\toccurrenceStatus\tpreparations\tdisposition\tassociatedReferences\tassociatedSequences\tassociatedTaxa\totherCatalogNumbers\toccurrenceRemarks\torganismID\torganismName\torganismScope\tassociatedOccurrences\tassociatedOrganisms\tpreviousIdentifications\torganismRemarks\tmaterialSampleID\teventID\tparentEventID\tfieldNumber\teventDate\teventTime\tstartDayOfYear\tendDayOfYear\tyear\tmonth\tday\tverbatimEventDate\thabitat\tsamplingProtocol\tsamplingEffort\tsampleSizeValue\tsampleSizeUnit\tfieldNotes\teventRemarks\tlocationID\thigherGeographyID\thigherGeography\tcontinent\twaterBody\tislandGroup\tisland\tcountryCode\tstateProvince\tcounty\tmunicipality\tlocality\tverbatimLocality\tverbatimElevation\tverbatimDepth\tminimumDistanceAboveSurfaceInMeters\tmaximumDistanceAboveSurfaceInMeters\tlocationAccordingTo\tlocationRemarks\tdecimalLatitude\tdecimalLongitude\tcoordinateUncertaintyInMeters\tcoordinatePrecision\tpointRadiusSpatialFit\tverbatimCoordinateSystem\tverbatimSRS\tfootprintWKT\tfootprintSRS\tfootprintSpatialFit\tgeoreferencedBy\tgeoreferencedDate\tgeoreferenceProtocol\tgeoreferenceSources\tgeoreferenceVerificationStatus\tgeoreferenceRemarks\tgeologicalContextID\tearliestEonOrLowestEonothem\tlatestEonOrHighestEonothem\tearliestEraOrLowestErathem\tlatestEraOrHighestErathem\tearliestPeriodOrLowestSystem\tlatestPeriodOrHighestSystem\tearliestEpochOrLowestSeries\tlatestEpochOrHighestSeries\tearliestAgeOrLowestStage\tlatestAgeOrHighestStage\tlowestBiostratigraphicZone\thighestBiostratigraphicZone\tlithostratigraphicTerms\tgroup\tformation\tmember\tbed\tidentificationID\tidentificationQualifier\ttypeStatus\tidentifiedBy\tdateIdentified\tidentificationReferences\tidentificationVerificationStatus\tidentificationRemarks\ttaxonID\tscientificNameID\tacceptedNameUsageID\tparentNameUsageID\toriginalNameUsageID\tnameAccordingToID\tnamePublishedInID\ttaxonConceptID\tscientificName\tacceptedNameUsage\tparentNameUsage\toriginalNameUsage\tnameAccordingTo\tnamePublishedIn\tnamePublishedInYear\thigherClassification\tkingdom\tphylum\tclass\torder\tfamily\tgenus\tsubgenus\tspecificEpithet\tinfraspecificEpithet\ttaxonRank\tverbatimTaxonRank\tvernacularName\tnomenclaturalCode\ttaxonomicStatus\tnomenclaturalStatus\ttaxonRemarks\tdatasetKey\tpublishingCountry\tlastInterpreted\televation\televationAccuracy\tdepth\tdepthAccuracy\tdistanceAboveSurface\tdistanceAboveSurfaceAccuracy\tissue\tmediaType\thasCoordinate\thasGeospatialIssues\ttaxonKey\tacceptedTaxonKey\tkingdomKey\tphylumKey\tclassKey\torderKey\tfamilyKey\tgenusKey\tsubgenusKey\tspeciesKey\tspecies\tgenericName\tacceptedScientificName\tverbatimScientificName\ttypifiedName\tprotocol\tlastParsed\tlastCrawled\trepatriated\trelativeOrganismQuantity\trecordedByID\tidentifiedByID\tlevel0Gid\tlevel0Name\tlevel1Gid\tlevel1Name\tlevel2Gid\tlevel2Name\tlevel3Gid\tlevel3Name\tiucnRedListCategory\n",
      "2974286316\t\t\t\t\t\t\t\t\t\t\t\t\t\t\t\t\t\t\t\t\t\t\t\t\t\to-1005953619\t\t\t\t\t\t\t\t\t\tCC_BY_4_0\t\t\t\t\tPl@ntNet\thttps://identify.plantnet.org/observation/weurope/1005953619\t\t\t\t\t\t\t\t\t\t\t\t\t\t\t\t\t\t\tPl@ntNet observations\t\tHUMAN_OBSERVATION\t\t\t\to-1005953619\t\t\t\t1\t\t\t\t\t\t\t\tPRESENT\t\t\t\t\t\t\t\t\t\t\t\t\t\t\t\t\t\t\t2020-04-18T14:52:31\t\t\t\t2020\t4\t18\t\t\t\t\t\t\t\t\t\t\t\t\t\t\t\tFR\t\t\t\t\t\t\t\t\t\t\t\t45.740015\t4.91819\t4.5\t\t\t\t\t\t\t\t\t\t\t\t\t\t\t\t\t\t\t\t\t\t\t\t\t\t\t\t\t\t\t\t\t\t\t\t\t\t\t\t\t\t2927069\t\t\t\t\t\tMarrubium vulgare L.\t\t\t\t\t\t\t\tPlantae\tTracheophyta\tMagnoliopsida\tLamiales\tLamiaceae\tMarrubium\t\tvulgare\t\tSPECIES\t\t\t\tACCEPTED\t\t\t7a3679ef-5582-4aaa-81f0-8c2545cafc81\tFR\t2021-09-23T15:44:19.499Z\t\t\t\t\t\t\tOCCURRENCE_STATUS_INFERRED_FROM_INDIVIDUAL_COUNT;COUNTRY_DERIVED_FROM_COORDINATES\tStillImage\ttrue\tfalse\t2927069\t2927069\t6\t7707728\t220\t408\t2497\t2927068\t\t2927069\tMarrubium vulgare\tMarrubium\tMarrubium vulgare L.\tMarrubium vulgare L.\t\tDWC_ARCHIVE\t2021-09-23T15:44:19.499Z\t2021-09-10T23:43:25.386Z\tfalse\t\t\t\tFRA\tFrance\tFRA.1_1\tAuvergne-Rhône-Alpes\tFRA.1.11_1\tRhône\tFRA.1.11.1_1\tLyon\t\n",
      "2974286318\t\t\t\t\t\t\t\t\t\t\t\t\t\t\t\t\t\t\t\t\t\t\t\t\t\to-1005954186\t\t\t\t\t\t\t\t\t\tCC_BY_4_0\t\t\t\t\tPl@ntNet\thttps://identify.plantnet.org/observation/weurope/1005954186\t\t\t\t\t\t\t\t\t\t\t\t\t\t\t\t\t\t\tPl@ntNet observations\t\tHUMAN_OBSERVATION\t\t\t\to-1005954186\t\t\t\t1\t\t\t\t\t\t\t\tPRESENT\t\t\t\t\t\t\t\t\t\t\t\t\t\t\t\t\t\t\t2020-04-18T13:14:03.493\t\t\t\t2020\t4\t18\t\t\t\t\t\t\t\t\t\t\t\t\t\t\t\tFR\t\t\t\t\t\t\t\t\t\t\t\t48.776586\t2.520121\t65.0\t\t\t\t\t\t\t\t\t\t\t\t\t\t\t\t\t\t\t\t\t\t\t\t\t\t\t\t\t\t\t\t\t\t\t\t\t\t\t\t\t\t5361909\t\t\t\t\t\tFicus carica L.\t\t\t\t\t\t\t\tPlantae\tTracheophyta\tMagnoliopsida\tRosales\tMoraceae\tFicus\t\tcarica\t\tSPECIES\t\t\t\tACCEPTED\t\t\t7a3679ef-5582-4aaa-81f0-8c2545cafc81\tFR\t2021-09-23T15:44:19.501Z\t\t\t\t\t\t\tOCCURRENCE_STATUS_INFERRED_FROM_INDIVIDUAL_COUNT;COORDINATE_ROUNDED;COUNTRY_DERIVED_FROM_COORDINATES\tStillImage\ttrue\tfalse\t5361909\t5361909\t6\t7707728\t220\t691\t6640\t2984588\t\t5361909\tFicus carica\tFicus\tFicus carica L.\tFicus carica L.\t\tDWC_ARCHIVE\t2021-09-23T15:44:19.501Z\t2021-09-10T23:43:25.386Z\tfalse\t\t\t\tFRA\tFrance\tFRA.8_1\tÎle-de-France\tFRA.8.7_1\tVal-de-Marne\tFRA.8.7.1_1\tCréteil\tLC\n",
      "2974286320\t\t\t\t\t\t\t\t\t\t\t\t\t\t\t\t\t\t\t\t\t\t\t\t\t\to-1005954546\t\t\t\t\t\t\t\t\t\tCC_BY_4_0\t\t\t\t\tPl@ntNet\thttps://identify.plantnet.org/observation/weurope/1005954546\t\t\t\t\t\t\t\t\t\t\t\t\t\t\t\t\t\t\tPl@ntNet observations\t\tHUMAN_OBSERVATION\t\t\t\to-1005954546\t\t\t\t1\t\t\t\t\t\t\t\tPRESENT\t\t\t\t\t\t\t\t\t\t\t\t\t\t\t\t\t\t\t2020-04-18T15:26:27\t\t\t\t2020\t4\t18\t\t\t\t\t\t\t\t\t\t\t\t\t\t\t\tFR\t\t\t\t\t\t\t\t\t\t\t\t47.732179\t-1.369439\t20.0\t\t\t\t\t\t\t\t\t\t\t\t\t\t\t\t\t\t\t\t\t\t\t\t\t\t\t\t\t\t\t\t\t\t\t\t\t\t\t\t\t\t2890212\t\t\t\t\t\tGeranium pusillum L.\t\t\t\t\t\t\t\tPlantae\tTracheophyta\tMagnoliopsida\tGeraniales\tGeraniaceae\tGeranium\t\tpusillum\t\tSPECIES\t\t\t\tACCEPTED\t\t\t7a3679ef-5582-4aaa-81f0-8c2545cafc81\tFR\t2021-09-23T15:44:19.504Z\t\t\t\t\t\t\tOCCURRENCE_STATUS_INFERRED_FROM_INDIVIDUAL_COUNT;COORDINATE_ROUNDED;COUNTRY_DERIVED_FROM_COORDINATES\tStillImage\ttrue\tfalse\t2890212\t2890212\t6\t7707728\t220\t624\t4676\t2889949\t\t2890212\tGeranium pusillum\tGeranium\tGeranium pusillum L.\tGeranium pusillum L.\t\tDWC_ARCHIVE\t2021-09-23T15:44:19.504Z\t2021-09-10T23:43:25.386Z\tfalse\t\t\t\tFRA\tFrance\tFRA.12_1\tPays de la Loire\tFRA.12.1_1\tLoire-Atlantique\tFRA.12.1.2_1\tChâteaubriant\t\n",
      "2974286322\t\t\t\t\t\t\t\t\t\t\t\t\t\t\t\t\t\t\t\t\t\t\t\t\t\to-1005954807\t\t\t\t\t\t\t\t\t\tCC_BY_4_0\t\t\t\t\tPl@ntNet\thttps://identify.plantnet.org/observation/weurope/1005954807\t\t\t\t\t\t\t\t\t\t\t\t\t\t\t\t\t\t\tPl@ntNet observations\t\tHUMAN_OBSERVATION\t\t\t\to-1005954807\t\t\t\t1\t\t\t\t\t\t\t\tPRESENT\t\t\t\t\t\t\t\t\t\t\t\t\t\t\t\t\t\t\t2020-04-18T15:34:01\t\t\t\t2020\t4\t18\t\t\t\t\t\t\t\t\t\t\t\t\t\t\t\tFR\t\t\t\t\t\t\t\t\t\t\t\t43.7675\t-0.953333\t\t\t\t\t\t\t\t\t\t\t\t\t\t\t\t\t\t\t\t\t\t\t\t\t\t\t\t\t\t\t\t\t\t\t\t\t\t\t\t\t\t\t2927303\t\t\t\t\t\tLavandula stoechas L.\t\t\t\t\t\t\t\tPlantae\tTracheophyta\tMagnoliopsida\tLamiales\tLamiaceae\tLavandula\t\tstoechas\t\tSPECIES\t\t\t\tACCEPTED\t\t\t7a3679ef-5582-4aaa-81f0-8c2545cafc81\tFR\t2021-09-23T15:44:19.507Z\t\t\t\t\t\t\tOCCURRENCE_STATUS_INFERRED_FROM_INDIVIDUAL_COUNT;COORDINATE_ROUNDED;COUNTRY_DERIVED_FROM_COORDINATES\tStillImage;StillImage\ttrue\tfalse\t2927303\t2927303\t6\t7707728\t220\t408\t2497\t2927302\t\t2927303\tLavandula stoechas\tLavandula\tLavandula stoechas L.\tLavandula stoechas L.\t\tDWC_ARCHIVE\t2021-09-23T15:44:19.507Z\t2021-09-10T23:43:25.386Z\tfalse\t\t\t\tFRA\tFrance\tFRA.10_1\tNouvelle-Aquitaine\tFRA.10.9_1\tLandes\tFRA.10.9.1_1\tDax\t\n",
      "2974286324\t\t\t\t\t\t\t\t\t\t\t\t\t\t\t\t\t\t\t\t\t\t\t\t\t\to-1005954861\t\t\t\t\t\t\t\t\t\tCC_BY_4_0\t\t\t\t\tPl@ntNet\thttps://identify.plantnet.org/observation/weurope/1005954861\t\t\t\t\t\t\t\t\t\t\t\t\t\t\t\t\t\t\tPl@ntNet observations\t\tHUMAN_OBSERVATION\t\t\t\to-1005954861\t\t\t\t1\t\t\t\t\t\t\t\tPRESENT\t\t\t\t\t\t\t\t\t\t\t\t\t\t\t\t\t\t\t2020-04-18T14:37:20\t\t\t\t2020\t4\t18\t\t\t\t\t\t\t\t\t\t\t\t\t\t\t\tGB\t\t\t\t\t\t\t\t\t\t\t\t54.357476\t-7.561227\t\t\t\t\t\t\t\t\t\t\t\t\t\t\t\t\t\t\t\t\t\t\t\t\t\t\t\t\t\t\t\t\t\t\t\t\t\t\t\t\t\t\t8351737\t\t\t\t\t\tHedera helix L.\t\t\t\t\t\t\t\tPlantae\tTracheophyta\tMagnoliopsida\tApiales\tAraliaceae\tHedera\t\thelix\t\tSPECIES\t\t\t\tACCEPTED\t\t\t7a3679ef-5582-4aaa-81f0-8c2545cafc81\tFR\t2021-09-23T15:44:19.509Z\t\t\t\t\t\t\tOCCURRENCE_STATUS_INFERRED_FROM_INDIVIDUAL_COUNT;COORDINATE_ROUNDED;COUNTRY_DERIVED_FROM_COORDINATES\tStillImage\ttrue\tfalse\t8351737\t8351737\t6\t7707728\t220\t1351\t8800\t3036021\t\t8351737\tHedera helix\tHedera\tHedera helix L.\tHedera helix L.\t\tDWC_ARCHIVE\t2021-09-23T15:44:19.509Z\t2021-09-10T23:43:25.386Z\ttrue\t\t\t\tGBR\tUnited Kingdom\tGBR.2_1\tNorthern Ireland\tGBR.2.6_1\tFermanagh and Omagh\tGBR.2.6.1_1\tFermanagh\t\n",
      "2974286326\t\t\t\t\t\t\t\t\t\t\t\t\t\t\t\t\t\t\t\t\t\t\t\t\t\to-1005955004\t\t\t\t\t\t\t\t\t\tCC_BY_4_0\t\t\t\t\tPl@ntNet\thttps://identify.plantnet.org/observation/weurope/1005955004\t\t\t\t\t\t\t\t\t\t\t\t\t\t\t\t\t\t\tPl@ntNet observations\t\tHUMAN_OBSERVATION\t\t\t\to-1005955004\t\t\t\t1\t\t\t\t\t\t\t\tPRESENT\t\t\t\t\t\t\t\t\t\t\t\t\t\t\t\t\t\t\t2020-04-18T14:42:07\t\t\t\t2020\t4\t18\t\t\t\t\t\t\t\t\t\t\t\t\t\t\t\tGB\t\t\t\t\t\t\t\t\t\t\t\t54.357654\t-7.560983\t\t\t\t\t\t\t\t\t\t\t\t\t\t\t\t\t\t\t\t\t\t\t\t\t\t\t\t\t\t\t\t\t\t\t\t\t\t\t\t\t\t\t8174785\t\t\t\t\t\tRosa rubiginosa L.\t\t\t\t\t\t\t\tPlantae\tTracheophyta\tMagnoliopsida\tRosales\tRosaceae\tRosa\t\trubiginosa\t\tSPECIES\t\t\t\tACCEPTED\t\t\t7a3679ef-5582-4aaa-81f0-8c2545cafc81\tFR\t2021-09-23T15:44:19.512Z\t\t\t\t\t\t\tOCCURRENCE_STATUS_INFERRED_FROM_INDIVIDUAL_COUNT;COORDINATE_ROUNDED;COUNTRY_DERIVED_FROM_COORDINATES\tStillImage\ttrue\tfalse\t8174785\t8174785\t6\t7707728\t220\t691\t5015\t8395064\t\t8174785\tRosa rubiginosa\tRosa\tRosa rubiginosa L.\tRosa rubiginosa L.\t\tDWC_ARCHIVE\t2021-09-23T15:44:19.512Z\t2021-09-10T23:43:25.386Z\ttrue\t\t\t\tGBR\tUnited Kingdom\tGBR.2_1\tNorthern Ireland\tGBR.2.6_1\tFermanagh and Omagh\tGBR.2.6.1_1\tFermanagh\t\n",
      "2974286328\t\t\t\t\t\t\t\t\t\t\t\t\t\t\t\t\t\t\t\t\t\t\t\t\t\to-1005955220\t\t\t\t\t\t\t\t\t\tCC_BY_4_0\t\t\t\t\tPl@ntNet\thttps://identify.plantnet.org/observation/weurope/1005955220\t\t\t\t\t\t\t\t\t\t\t\t\t\t\t\t\t\t\tPl@ntNet observations\t\tHUMAN_OBSERVATION\t\t\t\to-1005955220\t\t\t\t1\t\t\t\t\t\t\t\tPRESENT\t\t\t\t\t\t\t\t\t\t\t\t\t\t\t\t\t\t\t2020-04-18T15:49:25\t\t\t\t2020\t4\t18\t\t\t\t\t\t\t\t\t\t\t\t\t\t\t\tES\t\t\t\t\t\t\t\t\t\t\t\t42.772159\t-1.81134\t\t\t\t\t\t\t\t\t\t\t\t\t\t\t\t\t\t\t\t\t\t\t\t\t\t\t\t\t\t\t\t\t\t\t\t\t\t\t\t\t\t\t7866225\t\t\t\t\t\tRanunculus macrophyllus Desf.\t\t\t\t\t\t\t\tPlantae\tTracheophyta\tMagnoliopsida\tRanunculales\tRanunculaceae\tRanunculus\t\tmacrophyllus\t\tSPECIES\t\t\t\tACCEPTED\t\t\t7a3679ef-5582-4aaa-81f0-8c2545cafc81\tFR\t2021-09-23T15:44:19.515Z\t\t\t\t\t\t\tOCCURRENCE_STATUS_INFERRED_FROM_INDIVIDUAL_COUNT;COORDINATE_ROUNDED;COUNTRY_DERIVED_FROM_COORDINATES\tStillImage\ttrue\tfalse\t7866225\t7866225\t6\t7707728\t220\t399\t2410\t3033294\t\t7866225\tRanunculus macrophyllus\tRanunculus\tRanunculus macrophyllus Desf.\tRanunculus macrophyllus Desf.\t\tDWC_ARCHIVE\t2021-09-23T15:44:19.515Z\t2021-09-10T23:43:25.386Z\ttrue\t\t\t\tESP\tSpain\tESP.9_1\tComunidad Foral de Navarra\tESP.9.1_1\tNavarra\tESP.9.1.9_1\tn.a. (193)\t\n",
      "2974286330\t\t\t\t\t\t\t\t\t\t\t\t\t\t\t\t\t\t\t\t\t\t\t\t\t\to-1005955437\t\t\t\t\t\t\t\t\t\tCC_BY_4_0\t\t\t\t\tPl@ntNet\thttps://identify.plantnet.org/observation/weurope/1005955437\t\t\t\t\t\t\t\t\t\t\t\t\t\t\t\t\t\t\tPl@ntNet observations\t\tHUMAN_OBSERVATION\t\t\t\to-1005955437\t\t\t\t1\t\t\t\t\t\t\t\tPRESENT\t\t\t\t\t\t\t\t\t\t\t\t\t\t\t\t\t\t\t2020-04-18T15:54:58\t\t\t\t2020\t4\t18\t\t\t\t\t\t\t\t\t\t\t\t\t\t\t\tFR\t\t\t\t\t\t\t\t\t\t\t\t42.882222\t1.885556\t\t\t\t\t\t\t\t\t\t\t\t\t\t\t\t\t\t\t\t\t\t\t\t\t\t\t\t\t\t\t\t\t\t\t\t\t\t\t\t\t\t\t3169340\t\t\t\t\t\tLysimachia punctata L.\t\t\t\t\t\t\t\tPlantae\tTracheophyta\tMagnoliopsida\tEricales\tPrimulaceae\tLysimachia\t\tpunctata\t\tSPECIES\t\t\t\tACCEPTED\t\t\t7a3679ef-5582-4aaa-81f0-8c2545cafc81\tFR\t2021-09-23T15:44:19.517Z\t\t\t\t\t\t\tOCCURRENCE_STATUS_INFERRED_FROM_INDIVIDUAL_COUNT;COORDINATE_ROUNDED;COUNTRY_DERIVED_FROM_COORDINATES\tStillImage\ttrue\tfalse\t3169340\t3169340\t6\t7707728\t220\t1353\t6674\t3169330\t\t3169340\tLysimachia punctata\tLysimachia\tLysimachia punctata L.\tLysimachia punctata L.\t\tDWC_ARCHIVE\t2021-09-23T15:44:19.517Z\t2021-09-10T23:43:25.386Z\tfalse\t\t\t\tFRA\tFrance\tFRA.11_1\tOccitanie\tFRA.11.1_1\tAriège\tFRA.11.1.1_1\tFoix\tLC\n",
      "2974286332\t\t\t\t\t\t\t\t\t\t\t\t\t\t\t\t\t\t\t\t\t\t\t\t\t\to-1005956166\t\t\t\t\t\t\t\t\t\tCC_BY_4_0\t\t\t\t\tPl@ntNet\thttps://identify.plantnet.org/observation/weurope/1005956166\t\t\t\t\t\t\t\t\t\t\t\t\t\t\t\t\t\t\tPl@ntNet observations\t\tHUMAN_OBSERVATION\t\t\t\to-1005956166\t\t\t\t1\t\t\t\t\t\t\t\tPRESENT\t\t\t\t\t\t\t\t\t\t\t\t\t\t\t\t\t\t\t2020-02-16T14:23:02\t\t\t\t2020\t2\t16\t\t\t\t\t\t\t\t\t\t\t\t\t\t\t\tIT\t\t\t\t\t\t\t\t\t\t\t\t45.181111\t9.443333\t\t\t\t\t\t\t\t\t\t\t\t\t\t\t\t\t\t\t\t\t\t\t\t\t\t\t\t\t\t\t\t\t\t\t\t\t\t\t\t\t\t\t2860425\t\t\t\t\t\tLeucojum aestivum L.\t\t\t\t\t\t\t\tPlantae\tTracheophyta\tLiliopsida\tAsparagales\tAmaryllidaceae\tLeucojum\t\taestivum\t\tSPECIES\t\t\t\tACCEPTED\t\t\t7a3679ef-5582-4aaa-81f0-8c2545cafc81\tFR\t2021-09-23T15:44:19.520Z\t\t\t\t\t\t\tOCCURRENCE_STATUS_INFERRED_FROM_INDIVIDUAL_COUNT;COORDINATE_ROUNDED;COUNTRY_DERIVED_FROM_COORDINATES\tStillImage\ttrue\tfalse\t2860425\t2860425\t6\t7707728\t196\t1169\t7682\t2852742\t\t2860425\tLeucojum aestivum\tLeucojum\tLeucojum aestivum L.\tLeucojum aestivum L.\t\tDWC_ARCHIVE\t2021-09-23T15:44:19.520Z\t2021-09-10T23:43:25.386Z\ttrue\t\t\t\tITA\tItaly\tITA.10_1\tLombardia\tITA.10.10_1\tPavia\tITA.10.10.93_1\tMiradolo Terme\tLC\n"
     ]
    }
   ],
   "source": [
    "!head \"../datasets/plantnet_raw/occurrence.txt\""
   ]
  },
  {
   "cell_type": "code",
   "execution_count": null,
   "metadata": {},
   "outputs": [],
   "source": [
    "pd."
   ]
  },
  {
   "cell_type": "code",
   "execution_count": 15,
   "metadata": {},
   "outputs": [],
   "source": [
    "verbatim_txt = os.path.join(PN_data_path, PN_data_file)"
   ]
  },
  {
   "cell_type": "code",
   "execution_count": 16,
   "metadata": {},
   "outputs": [
    {
     "name": "stdout",
     "output_type": "stream",
     "text": [
      "gbifID\tabstract\taccessRights\taccrualMethod\taccrualPeriodicity\taccrualPolicy\talternative\taudience\tavailable\tbibliographicCitation\tconformsTo\tcontributor\tcoverage\tcreated\tcreator\tdate\tdateAccepted\tdateCopyrighted\tdateSubmitted\tdescription\teducationLevel\textent\tformat\thasFormat\thasPart\thasVersion\tidentifier\tinstructionalMethod\tisFormatOf\tisPartOf\tisReferencedBy\tisReplacedBy\tisRequiredBy\tisVersionOf\tissued\tlanguage\tlicense\tmediator\tmedium\tmodified\tprovenance\tpublisher\treferences\trelation\treplaces\trequires\trights\trightsHolder\tsource\tspatial\tsubject\ttableOfContents\ttemporal\ttitle\ttype\tvalid\tinstitutionID\tcollectionID\tdatasetID\tinstitutionCode\tcollectionCode\tdatasetName\townerInstitutionCode\tbasisOfRecord\tinformationWithheld\tdataGeneralizations\tdynamicProperties\toccurrenceID\tcatalogNumber\trecordNumber\trecordedBy\tindividualCount\torganismQuantity\torganismQuantityType\tsex\tlifeStage\treproductiveCondition\tbehavior\testablishmentMeans\toccurrenceStatus\tpreparations\tdisposition\tassociatedMedia\tassociatedReferences\tassociatedSequences\tassociatedTaxa\totherCatalogNumbers\toccurrenceRemarks\torganismID\torganismName\torganismScope\tassociatedOccurrences\tassociatedOrganisms\tpreviousIdentifications\torganismRemarks\tmaterialSampleID\teventID\tparentEventID\tfieldNumber\teventDate\teventTime\tstartDayOfYear\tendDayOfYear\tyear\tmonth\tday\tverbatimEventDate\thabitat\tsamplingProtocol\tsamplingEffort\tsampleSizeValue\tsampleSizeUnit\tfieldNotes\teventRemarks\tlocationID\thigherGeographyID\thigherGeography\tcontinent\twaterBody\tislandGroup\tisland\tcountry\tcountryCode\tstateProvince\tcounty\tmunicipality\tlocality\tverbatimLocality\tminimumElevationInMeters\tmaximumElevationInMeters\tverbatimElevation\tminimumDepthInMeters\tmaximumDepthInMeters\tverbatimDepth\tminimumDistanceAboveSurfaceInMeters\tmaximumDistanceAboveSurfaceInMeters\tlocationAccordingTo\tlocationRemarks\tdecimalLatitude\tdecimalLongitude\tgeodeticDatum\tcoordinateUncertaintyInMeters\tcoordinatePrecision\tpointRadiusSpatialFit\tverbatimCoordinates\tverbatimLatitude\tverbatimLongitude\tverbatimCoordinateSystem\tverbatimSRS\tfootprintWKT\tfootprintSRS\tfootprintSpatialFit\tgeoreferencedBy\tgeoreferencedDate\tgeoreferenceProtocol\tgeoreferenceSources\tgeoreferenceVerificationStatus\tgeoreferenceRemarks\tgeologicalContextID\tearliestEonOrLowestEonothem\tlatestEonOrHighestEonothem\tearliestEraOrLowestErathem\tlatestEraOrHighestErathem\tearliestPeriodOrLowestSystem\tlatestPeriodOrHighestSystem\tearliestEpochOrLowestSeries\tlatestEpochOrHighestSeries\tearliestAgeOrLowestStage\tlatestAgeOrHighestStage\tlowestBiostratigraphicZone\thighestBiostratigraphicZone\tlithostratigraphicTerms\tgroup\tformation\tmember\tbed\tidentificationID\tidentificationQualifier\ttypeStatus\tidentifiedBy\tdateIdentified\tidentificationReferences\tidentificationVerificationStatus\tidentificationRemarks\ttaxonID\tscientificNameID\tacceptedNameUsageID\tparentNameUsageID\toriginalNameUsageID\tnameAccordingToID\tnamePublishedInID\ttaxonConceptID\tscientificName\tacceptedNameUsage\tparentNameUsage\toriginalNameUsage\tnameAccordingTo\tnamePublishedIn\tnamePublishedInYear\thigherClassification\tkingdom\tphylum\tclass\torder\tfamily\tgenus\tsubgenus\tspecificEpithet\tinfraspecificEpithet\ttaxonRank\tverbatimTaxonRank\tscientificNameAuthorship\tvernacularName\tnomenclaturalCode\ttaxonomicStatus\tnomenclaturalStatus\ttaxonRemarks\trecordedByID\tidentifiedByID\n",
      "2974286316\t\t\t\t\t\t\t\t\t\t\t\t\t\t\t\t\t\t\t\t\t\t\t\t\t\to-1005953619\t\t\t\t\t\t\t\t\t\tcc-by-sa\t\t\t\t\t\thttps://identify.plantnet.org/observation/weurope/1005953619\t\t\t\t\t\t\t\t\t\t\t\t\t\t\t\t\t\t\t\t\tHumanObservation\t\t\t\to-1005953619\t\t\t\t1\t\t\t\t\t\t\t\t\t\t\t\t\t\t\t\t\t\t\t\t\t\t\t\t\t\t\t\t2020-04-18T14:52:31.000Z\t\t\t\t\t\t\t\t\t\t\t\t\t\t\t\t\t\t\t\t\t\t\t\t\t\t\t\t\t\t\t\t\t\t\t\t\t\t\t45.740015\t4.91819\tWGS84\t4.5\t\t\t\t\t\t\t\t\t\t\t\t\t\t\t\t\t\t\t\t\t\t\t\t\t\t\t\t\t\t\t\t\t\t\t\t\t\t\t\t\t\t\t\t\t\t\t\t\t\t\tMarrubium vulgare L.\t\t\t\t\t\t\t\tPlantae\t\t\t\t\t\t\t\t\tspecies\t\tL.\t\t\t\t\t\t\t\n",
      "2974286318\t\t\t\t\t\t\t\t\t\t\t\t\t\t\t\t\t\t\t\t\t\t\t\t\t\to-1005954186\t\t\t\t\t\t\t\t\t\tcc-by-sa\t\t\t\t\t\thttps://identify.plantnet.org/observation/weurope/1005954186\t\t\t\t\t\t\t\t\t\t\t\t\t\t\t\t\t\t\t\t\tHumanObservation\t\t\t\to-1005954186\t\t\t\t1\t\t\t\t\t\t\t\t\t\t\t\t\t\t\t\t\t\t\t\t\t\t\t\t\t\t\t\t2020-04-18T13:14:03.493Z\t\t\t\t\t\t\t\t\t\t\t\t\t\t\t\t\t\t\t\t\t\t\t\t\t\t\t\t\t\t\t\t\t\t\t\t\t\t\t48.7765856269\t2.5201208359\tWGS84\t65\t\t\t\t\t\t\t\t\t\t\t\t\t\t\t\t\t\t\t\t\t\t\t\t\t\t\t\t\t\t\t\t\t\t\t\t\t\t\t\t\t\t\t\t\t\t\t\t\t\t\tFicus carica L.\t\t\t\t\t\t\t\tPlantae\t\t\t\t\t\t\t\t\tspecies\t\tL.\t\t\t\t\t\t\t\n",
      "2974286320\t\t\t\t\t\t\t\t\t\t\t\t\t\t\t\t\t\t\t\t\t\t\t\t\t\to-1005954546\t\t\t\t\t\t\t\t\t\tcc-by-sa\t\t\t\t\t\thttps://identify.plantnet.org/observation/weurope/1005954546\t\t\t\t\t\t\t\t\t\t\t\t\t\t\t\t\t\t\t\t\tHumanObservation\t\t\t\to-1005954546\t\t\t\t1\t\t\t\t\t\t\t\t\t\t\t\t\t\t\t\t\t\t\t\t\t\t\t\t\t\t\t\t2020-04-18T15:26:27.000Z\t\t\t\t\t\t\t\t\t\t\t\t\t\t\t\t\t\t\t\t\t\t\t\t\t\t\t\t\t\t\t\t\t\t\t\t\t\t\t47.7321793651\t-1.3694386091\tWGS84\t20\t\t\t\t\t\t\t\t\t\t\t\t\t\t\t\t\t\t\t\t\t\t\t\t\t\t\t\t\t\t\t\t\t\t\t\t\t\t\t\t\t\t\t\t\t\t\t\t\t\t\tGeranium pusillum L.\t\t\t\t\t\t\t\tPlantae\t\t\t\t\t\t\t\t\tspecies\t\tL.\t\t\t\t\t\t\t\n",
      "2974286322\t\t\t\t\t\t\t\t\t\t\t\t\t\t\t\t\t\t\t\t\t\t\t\t\t\to-1005954807\t\t\t\t\t\t\t\t\t\tcc-by-sa\t\t\t\t\t\thttps://identify.plantnet.org/observation/weurope/1005954807\t\t\t\t\t\t\t\t\t\t\t\t\t\t\t\t\t\t\t\t\tHumanObservation\t\t\t\to-1005954807\t\t\t\t1\t\t\t\t\t\t\t\t\t\t\t\t\t\t\t\t\t\t\t\t\t\t\t\t\t\t\t\t2020-04-18T15:34:01.000Z\t\t\t\t\t\t\t\t\t\t\t\t\t\t\t\t\t\t\t\t\t\t\t\t\t\t\t\t\t\t\t\t\t\t\t\t\t\t\t43.7675\t-0.9533333333333333\tWGS84\t\t\t\t\t\t\t\t\t\t\t\t\t\t\t\t\t\t\t\t\t\t\t\t\t\t\t\t\t\t\t\t\t\t\t\t\t\t\t\t\t\t\t\t\t\t\t\t\t\t\t\tLavandula stoechas L.\t\t\t\t\t\t\t\tPlantae\t\t\t\t\t\t\t\t\tspecies\t\tL.\t\t\t\t\t\t\t\n",
      "2974286324\t\t\t\t\t\t\t\t\t\t\t\t\t\t\t\t\t\t\t\t\t\t\t\t\t\to-1005954861\t\t\t\t\t\t\t\t\t\tcc-by-sa\t\t\t\t\t\thttps://identify.plantnet.org/observation/weurope/1005954861\t\t\t\t\t\t\t\t\t\t\t\t\t\t\t\t\t\t\t\t\tHumanObservation\t\t\t\to-1005954861\t\t\t\t1\t\t\t\t\t\t\t\t\t\t\t\t\t\t\t\t\t\t\t\t\t\t\t\t\t\t\t\t2020-04-18T14:37:20.000Z\t\t\t\t\t\t\t\t\t\t\t\t\t\t\t\t\t\t\t\t\t\t\t\t\t\t\t\t\t\t\t\t\t\t\t\t\t\t\t54.35747555555556\t-7.561226666666666\tWGS84\t\t\t\t\t\t\t\t\t\t\t\t\t\t\t\t\t\t\t\t\t\t\t\t\t\t\t\t\t\t\t\t\t\t\t\t\t\t\t\t\t\t\t\t\t\t\t\t\t\t\t\tHedera helix L.\t\t\t\t\t\t\t\tPlantae\t\t\t\t\t\t\t\t\tspecies\t\tL.\t\t\t\t\t\t\t\n",
      "2974286326\t\t\t\t\t\t\t\t\t\t\t\t\t\t\t\t\t\t\t\t\t\t\t\t\t\to-1005955004\t\t\t\t\t\t\t\t\t\tcc-by-sa\t\t\t\t\t\thttps://identify.plantnet.org/observation/weurope/1005955004\t\t\t\t\t\t\t\t\t\t\t\t\t\t\t\t\t\t\t\t\tHumanObservation\t\t\t\to-1005955004\t\t\t\t1\t\t\t\t\t\t\t\t\t\t\t\t\t\t\t\t\t\t\t\t\t\t\t\t\t\t\t\t2020-04-18T14:42:07.000Z\t\t\t\t\t\t\t\t\t\t\t\t\t\t\t\t\t\t\t\t\t\t\t\t\t\t\t\t\t\t\t\t\t\t\t\t\t\t\t54.35765361111111\t-7.560982777777777\tWGS84\t\t\t\t\t\t\t\t\t\t\t\t\t\t\t\t\t\t\t\t\t\t\t\t\t\t\t\t\t\t\t\t\t\t\t\t\t\t\t\t\t\t\t\t\t\t\t\t\t\t\t\tRosa rubiginosa L.\t\t\t\t\t\t\t\tPlantae\t\t\t\t\t\t\t\t\tspecies\t\tL.\t\t\t\t\t\t\t\n",
      "2974286328\t\t\t\t\t\t\t\t\t\t\t\t\t\t\t\t\t\t\t\t\t\t\t\t\t\to-1005955220\t\t\t\t\t\t\t\t\t\tcc-by-sa\t\t\t\t\t\thttps://identify.plantnet.org/observation/weurope/1005955220\t\t\t\t\t\t\t\t\t\t\t\t\t\t\t\t\t\t\t\t\tHumanObservation\t\t\t\to-1005955220\t\t\t\t1\t\t\t\t\t\t\t\t\t\t\t\t\t\t\t\t\t\t\t\t\t\t\t\t\t\t\t\t2020-04-18T15:49:25.000Z\t\t\t\t\t\t\t\t\t\t\t\t\t\t\t\t\t\t\t\t\t\t\t\t\t\t\t\t\t\t\t\t\t\t\t\t\t\t\t42.77215866666666\t-1.811339638888889\tWGS84\t\t\t\t\t\t\t\t\t\t\t\t\t\t\t\t\t\t\t\t\t\t\t\t\t\t\t\t\t\t\t\t\t\t\t\t\t\t\t\t\t\t\t\t\t\t\t\t\t\t\t\tRanunculus macrophyllus Desf.\t\t\t\t\t\t\t\tPlantae\t\t\t\t\t\t\t\t\tspecies\t\tDesf.\t\t\t\t\t\t\t\n",
      "2974286330\t\t\t\t\t\t\t\t\t\t\t\t\t\t\t\t\t\t\t\t\t\t\t\t\t\to-1005955437\t\t\t\t\t\t\t\t\t\tcc-by-sa\t\t\t\t\t\thttps://identify.plantnet.org/observation/weurope/1005955437\t\t\t\t\t\t\t\t\t\t\t\t\t\t\t\t\t\t\t\t\tHumanObservation\t\t\t\to-1005955437\t\t\t\t1\t\t\t\t\t\t\t\t\t\t\t\t\t\t\t\t\t\t\t\t\t\t\t\t\t\t\t\t2020-04-18T15:54:58.000Z\t\t\t\t\t\t\t\t\t\t\t\t\t\t\t\t\t\t\t\t\t\t\t\t\t\t\t\t\t\t\t\t\t\t\t\t\t\t\t42.882222222222225\t1.8855555555555554\tWGS84\t\t\t\t\t\t\t\t\t\t\t\t\t\t\t\t\t\t\t\t\t\t\t\t\t\t\t\t\t\t\t\t\t\t\t\t\t\t\t\t\t\t\t\t\t\t\t\t\t\t\t\tLysimachia punctata L.\t\t\t\t\t\t\t\tPlantae\t\t\t\t\t\t\t\t\tspecies\t\tL.\t\t\t\t\t\t\t\n",
      "2974286332\t\t\t\t\t\t\t\t\t\t\t\t\t\t\t\t\t\t\t\t\t\t\t\t\t\to-1005956166\t\t\t\t\t\t\t\t\t\tcc-by-sa\t\t\t\t\t\thttps://identify.plantnet.org/observation/weurope/1005956166\t\t\t\t\t\t\t\t\t\t\t\t\t\t\t\t\t\t\t\t\tHumanObservation\t\t\t\to-1005956166\t\t\t\t1\t\t\t\t\t\t\t\t\t\t\t\t\t\t\t\t\t\t\t\t\t\t\t\t\t\t\t\t2020-02-16T14:23:02.000Z\t\t\t\t\t\t\t\t\t\t\t\t\t\t\t\t\t\t\t\t\t\t\t\t\t\t\t\t\t\t\t\t\t\t\t\t\t\t\t45.18111111111111\t9.443333333333333\tWGS84\t\t\t\t\t\t\t\t\t\t\t\t\t\t\t\t\t\t\t\t\t\t\t\t\t\t\t\t\t\t\t\t\t\t\t\t\t\t\t\t\t\t\t\t\t\t\t\t\t\t\t\tLeucojum aestivum L.\t\t\t\t\t\t\t\tPlantae\t\t\t\t\t\t\t\t\tspecies\t\tL.\t\t\t\t\t\t\t\n"
     ]
    }
   ],
   "source": [
    "!head {verbatim_txt}"
   ]
  },
  {
   "cell_type": "code",
   "execution_count": 3,
   "metadata": {},
   "outputs": [],
   "source": [
    "test = requests.get(base_url + \"dataset/\" + plantnet_key + \"/metrics\")"
   ]
  },
  {
   "cell_type": "code",
   "execution_count": 4,
   "metadata": {},
   "outputs": [
    {
     "ename": "JSONDecodeError",
     "evalue": "Expecting value: line 1 column 1 (char 0)",
     "output_type": "error",
     "traceback": [
      "\u001b[0;31m---------------------------------------------------------------------------\u001b[0m",
      "\u001b[0;31mJSONDecodeError\u001b[0m                           Traceback (most recent call last)",
      "\u001b[0;32m<ipython-input-4-98ddfe75dcda>\u001b[0m in \u001b[0;36m<module>\u001b[0;34m\u001b[0m\n\u001b[0;32m----> 1\u001b[0;31m \u001b[0mtest_json\u001b[0m \u001b[0;34m=\u001b[0m \u001b[0mtest\u001b[0m\u001b[0;34m.\u001b[0m\u001b[0mjson\u001b[0m\u001b[0;34m(\u001b[0m\u001b[0;34m)\u001b[0m\u001b[0;34m\u001b[0m\u001b[0;34m\u001b[0m\u001b[0m\n\u001b[0m\u001b[1;32m      2\u001b[0m \u001b[0mtest_json\u001b[0m\u001b[0;34m\u001b[0m\u001b[0;34m\u001b[0m\u001b[0m\n",
      "\u001b[0;32m/usr/local/lib/python3.6/dist-packages/requests/models.py\u001b[0m in \u001b[0;36mjson\u001b[0;34m(self, **kwargs)\u001b[0m\n\u001b[1;32m    908\u001b[0m                     \u001b[0;31m# used.\u001b[0m\u001b[0;34m\u001b[0m\u001b[0;34m\u001b[0m\u001b[0;34m\u001b[0m\u001b[0m\n\u001b[1;32m    909\u001b[0m                     \u001b[0;32mpass\u001b[0m\u001b[0;34m\u001b[0m\u001b[0;34m\u001b[0m\u001b[0m\n\u001b[0;32m--> 910\u001b[0;31m         \u001b[0;32mreturn\u001b[0m \u001b[0mcomplexjson\u001b[0m\u001b[0;34m.\u001b[0m\u001b[0mloads\u001b[0m\u001b[0;34m(\u001b[0m\u001b[0mself\u001b[0m\u001b[0;34m.\u001b[0m\u001b[0mtext\u001b[0m\u001b[0;34m,\u001b[0m \u001b[0;34m**\u001b[0m\u001b[0mkwargs\u001b[0m\u001b[0;34m)\u001b[0m\u001b[0;34m\u001b[0m\u001b[0;34m\u001b[0m\u001b[0m\n\u001b[0m\u001b[1;32m    911\u001b[0m \u001b[0;34m\u001b[0m\u001b[0m\n\u001b[1;32m    912\u001b[0m     \u001b[0;34m@\u001b[0m\u001b[0mproperty\u001b[0m\u001b[0;34m\u001b[0m\u001b[0;34m\u001b[0m\u001b[0m\n",
      "\u001b[0;32m/usr/lib/python3.6/json/__init__.py\u001b[0m in \u001b[0;36mloads\u001b[0;34m(s, encoding, cls, object_hook, parse_float, parse_int, parse_constant, object_pairs_hook, **kw)\u001b[0m\n\u001b[1;32m    352\u001b[0m             \u001b[0mparse_int\u001b[0m \u001b[0;32mis\u001b[0m \u001b[0;32mNone\u001b[0m \u001b[0;32mand\u001b[0m \u001b[0mparse_float\u001b[0m \u001b[0;32mis\u001b[0m \u001b[0;32mNone\u001b[0m \u001b[0;32mand\u001b[0m\u001b[0;34m\u001b[0m\u001b[0;34m\u001b[0m\u001b[0m\n\u001b[1;32m    353\u001b[0m             parse_constant is None and object_pairs_hook is None and not kw):\n\u001b[0;32m--> 354\u001b[0;31m         \u001b[0;32mreturn\u001b[0m \u001b[0m_default_decoder\u001b[0m\u001b[0;34m.\u001b[0m\u001b[0mdecode\u001b[0m\u001b[0;34m(\u001b[0m\u001b[0ms\u001b[0m\u001b[0;34m)\u001b[0m\u001b[0;34m\u001b[0m\u001b[0;34m\u001b[0m\u001b[0m\n\u001b[0m\u001b[1;32m    355\u001b[0m     \u001b[0;32mif\u001b[0m \u001b[0mcls\u001b[0m \u001b[0;32mis\u001b[0m \u001b[0;32mNone\u001b[0m\u001b[0;34m:\u001b[0m\u001b[0;34m\u001b[0m\u001b[0;34m\u001b[0m\u001b[0m\n\u001b[1;32m    356\u001b[0m         \u001b[0mcls\u001b[0m \u001b[0;34m=\u001b[0m \u001b[0mJSONDecoder\u001b[0m\u001b[0;34m\u001b[0m\u001b[0;34m\u001b[0m\u001b[0m\n",
      "\u001b[0;32m/usr/lib/python3.6/json/decoder.py\u001b[0m in \u001b[0;36mdecode\u001b[0;34m(self, s, _w)\u001b[0m\n\u001b[1;32m    337\u001b[0m \u001b[0;34m\u001b[0m\u001b[0m\n\u001b[1;32m    338\u001b[0m         \"\"\"\n\u001b[0;32m--> 339\u001b[0;31m         \u001b[0mobj\u001b[0m\u001b[0;34m,\u001b[0m \u001b[0mend\u001b[0m \u001b[0;34m=\u001b[0m \u001b[0mself\u001b[0m\u001b[0;34m.\u001b[0m\u001b[0mraw_decode\u001b[0m\u001b[0;34m(\u001b[0m\u001b[0ms\u001b[0m\u001b[0;34m,\u001b[0m \u001b[0midx\u001b[0m\u001b[0;34m=\u001b[0m\u001b[0m_w\u001b[0m\u001b[0;34m(\u001b[0m\u001b[0ms\u001b[0m\u001b[0;34m,\u001b[0m \u001b[0;36m0\u001b[0m\u001b[0;34m)\u001b[0m\u001b[0;34m.\u001b[0m\u001b[0mend\u001b[0m\u001b[0;34m(\u001b[0m\u001b[0;34m)\u001b[0m\u001b[0;34m)\u001b[0m\u001b[0;34m\u001b[0m\u001b[0;34m\u001b[0m\u001b[0m\n\u001b[0m\u001b[1;32m    340\u001b[0m         \u001b[0mend\u001b[0m \u001b[0;34m=\u001b[0m \u001b[0m_w\u001b[0m\u001b[0;34m(\u001b[0m\u001b[0ms\u001b[0m\u001b[0;34m,\u001b[0m \u001b[0mend\u001b[0m\u001b[0;34m)\u001b[0m\u001b[0;34m.\u001b[0m\u001b[0mend\u001b[0m\u001b[0;34m(\u001b[0m\u001b[0;34m)\u001b[0m\u001b[0;34m\u001b[0m\u001b[0;34m\u001b[0m\u001b[0m\n\u001b[1;32m    341\u001b[0m         \u001b[0;32mif\u001b[0m \u001b[0mend\u001b[0m \u001b[0;34m!=\u001b[0m \u001b[0mlen\u001b[0m\u001b[0;34m(\u001b[0m\u001b[0ms\u001b[0m\u001b[0;34m)\u001b[0m\u001b[0;34m:\u001b[0m\u001b[0;34m\u001b[0m\u001b[0;34m\u001b[0m\u001b[0m\n",
      "\u001b[0;32m/usr/lib/python3.6/json/decoder.py\u001b[0m in \u001b[0;36mraw_decode\u001b[0;34m(self, s, idx)\u001b[0m\n\u001b[1;32m    355\u001b[0m             \u001b[0mobj\u001b[0m\u001b[0;34m,\u001b[0m \u001b[0mend\u001b[0m \u001b[0;34m=\u001b[0m \u001b[0mself\u001b[0m\u001b[0;34m.\u001b[0m\u001b[0mscan_once\u001b[0m\u001b[0;34m(\u001b[0m\u001b[0ms\u001b[0m\u001b[0;34m,\u001b[0m \u001b[0midx\u001b[0m\u001b[0;34m)\u001b[0m\u001b[0;34m\u001b[0m\u001b[0;34m\u001b[0m\u001b[0m\n\u001b[1;32m    356\u001b[0m         \u001b[0;32mexcept\u001b[0m \u001b[0mStopIteration\u001b[0m \u001b[0;32mas\u001b[0m \u001b[0merr\u001b[0m\u001b[0;34m:\u001b[0m\u001b[0;34m\u001b[0m\u001b[0;34m\u001b[0m\u001b[0m\n\u001b[0;32m--> 357\u001b[0;31m             \u001b[0;32mraise\u001b[0m \u001b[0mJSONDecodeError\u001b[0m\u001b[0;34m(\u001b[0m\u001b[0;34m\"Expecting value\"\u001b[0m\u001b[0;34m,\u001b[0m \u001b[0ms\u001b[0m\u001b[0;34m,\u001b[0m \u001b[0merr\u001b[0m\u001b[0;34m.\u001b[0m\u001b[0mvalue\u001b[0m\u001b[0;34m)\u001b[0m \u001b[0;32mfrom\u001b[0m \u001b[0;32mNone\u001b[0m\u001b[0;34m\u001b[0m\u001b[0;34m\u001b[0m\u001b[0m\n\u001b[0m\u001b[1;32m    358\u001b[0m         \u001b[0;32mreturn\u001b[0m \u001b[0mobj\u001b[0m\u001b[0;34m,\u001b[0m \u001b[0mend\u001b[0m\u001b[0;34m\u001b[0m\u001b[0;34m\u001b[0m\u001b[0m\n",
      "\u001b[0;31mJSONDecodeError\u001b[0m: Expecting value: line 1 column 1 (char 0)"
     ]
    }
   ],
   "source": [
    "test_json = test.json()\n",
    "test_json"
   ]
  },
  {
   "cell_type": "code",
   "execution_count": 41,
   "metadata": {},
   "outputs": [
    {
     "name": "stdout",
     "output_type": "stream",
     "text": [
      "Collecting gbif-dl\n",
      "  Downloading gbif-dl-0.1.0.tar.gz (18 kB)\n",
      "  Installing build dependencies ... \u001b[?25ldone\n",
      "\u001b[?25h  Getting requirements to build wheel ... \u001b[?25ldone\n",
      "\u001b[?25h  Preparing metadata (pyproject.toml) ... \u001b[?25ldone\n",
      "\u001b[?25hCollecting aiohttp-retry>=2.3\n",
      "  Downloading aiohttp_retry-2.4.6-py3-none-any.whl (7.7 kB)\n",
      "Collecting pescador>=2.1.0\n",
      "  Downloading pescador-2.1.0.tar.gz (20 kB)\n",
      "  Preparing metadata (setup.py) ... \u001b[?25ldone\n",
      "\u001b[?25hCollecting aiostream>=0.4.1\n",
      "  Downloading aiostream-0.4.3.tar.gz (20 kB)\n",
      "  Preparing metadata (setup.py) ... \u001b[?25ldone\n",
      "\u001b[?25hCollecting python-dwca-reader\n",
      "  Downloading python_dwca_reader-0.15.0-py3-none-any.whl (37 kB)\n",
      "Collecting filetype>=1.0.0\n",
      "  Downloading filetype-1.0.8-py2.py3-none-any.whl (16 kB)\n",
      "Requirement already satisfied: typing-extensions in /usr/local/lib/python3.6/dist-packages (from gbif-dl) (3.7.4.3)\n",
      "Collecting aiohttp>=3.7.2\n",
      "  Downloading aiohttp-3.8.0-cp36-cp36m-manylinux_2_5_x86_64.manylinux1_x86_64.manylinux_2_12_x86_64.manylinux2010_x86_64.whl (1.1 MB)\n",
      "     |████████████████████████████████| 1.1 MB 1.9 MB/s            \n",
      "\u001b[?25hCollecting aiofiles>=0.6.0\n",
      "  Downloading aiofiles-0.7.0-py3-none-any.whl (13 kB)\n",
      "Collecting pygbif>=0.5.0\n",
      "  Downloading pygbif-0.6.0-py2.py3-none-any.whl (62 kB)\n",
      "     |████████████████████████████████| 62 kB 1.3 MB/s             \n",
      "\u001b[?25hRequirement already satisfied: tqdm in /usr/local/lib/python3.6/dist-packages (from gbif-dl) (4.62.3)\n",
      "Requirement already satisfied: charset-normalizer<3.0,>=2.0 in /usr/local/lib/python3.6/dist-packages (from aiohttp>=3.7.2->gbif-dl) (2.0.4)\n",
      "Collecting multidict<7.0,>=4.5\n",
      "  Downloading multidict-5.2.0-cp36-cp36m-manylinux_2_5_x86_64.manylinux1_x86_64.manylinux_2_12_x86_64.manylinux2010_x86_64.whl (159 kB)\n",
      "     |████████████████████████████████| 159 kB 22.1 MB/s            \n",
      "\u001b[?25hCollecting asynctest==0.13.0\n",
      "  Downloading asynctest-0.13.0-py3-none-any.whl (26 kB)\n",
      "Collecting idna-ssl>=1.0\n",
      "  Downloading idna-ssl-1.1.0.tar.gz (3.4 kB)\n",
      "  Preparing metadata (setup.py) ... \u001b[?25ldone\n",
      "\u001b[?25hCollecting aiosignal>=1.1.2\n",
      "  Downloading aiosignal-1.2.0-py3-none-any.whl (8.2 kB)\n",
      "Collecting async-timeout<5.0,>=4.0.0a3\n",
      "  Downloading async_timeout-4.0.0-py3-none-any.whl (6.1 kB)\n",
      "Collecting attrs>=17.3.0\n",
      "  Downloading attrs-21.2.0-py2.py3-none-any.whl (53 kB)\n",
      "     |████████████████████████████████| 53 kB 3.9 MB/s             \n",
      "\u001b[?25hCollecting frozenlist>=1.1.1\n",
      "  Downloading frozenlist-1.2.0-cp36-cp36m-manylinux_2_5_x86_64.manylinux1_x86_64.manylinux_2_12_x86_64.manylinux2010_x86_64.whl (191 kB)\n",
      "     |████████████████████████████████| 191 kB 13.0 MB/s            \n",
      "\u001b[?25hCollecting yarl<2.0,>=1.0\n",
      "  Downloading yarl-1.7.2-cp36-cp36m-manylinux_2_5_x86_64.manylinux1_x86_64.manylinux_2_12_x86_64.manylinux2010_x86_64.whl (270 kB)\n",
      "     |████████████████████████████████| 270 kB 23.3 MB/s            \n",
      "\u001b[?25hCollecting async_exit_stack\n",
      "  Downloading async_exit_stack-1.0.1-py3-none-any.whl (4.7 kB)\n",
      "Requirement already satisfied: joblib>=0.9 in /usr/local/lib/python3.6/dist-packages (from pescador>=2.1.0->gbif-dl) (1.1.0)\n",
      "Requirement already satisfied: six>=1.8 in /usr/local/lib/python3.6/dist-packages (from pescador>=2.1.0->gbif-dl) (1.15.0)\n",
      "Requirement already satisfied: pyzmq>=15.0 in /usr/local/lib/python3.6/dist-packages (from pescador>=2.1.0->gbif-dl) (22.3.0)\n",
      "Requirement already satisfied: numpy>=1.9 in /usr/local/lib/python3.6/dist-packages (from pescador>=2.1.0->gbif-dl) (1.19.5)\n",
      "Requirement already satisfied: decorator>=4.0 in /usr/local/lib/python3.6/dist-packages (from pescador>=2.1.0->gbif-dl) (5.1.0)\n",
      "Collecting appdirs>=1.4.3\n",
      "  Downloading appdirs-1.4.4-py2.py3-none-any.whl (9.6 kB)\n",
      "Collecting requests-cache\n",
      "  Downloading requests_cache-0.7.5-py3-none-any.whl (39 kB)\n",
      "Requirement already satisfied: requests>2.7 in /usr/local/lib/python3.6/dist-packages (from pygbif>=0.5.0->gbif-dl) (2.26.0)\n",
      "Collecting geojson-rewind\n",
      "  Downloading geojson_rewind-1.0.2-py3-none-any.whl (4.9 kB)\n",
      "Requirement already satisfied: matplotlib in /usr/local/lib/python3.6/dist-packages (from pygbif>=0.5.0->gbif-dl) (3.3.4)\n",
      "Collecting geomet\n",
      "  Downloading geomet-0.3.0-py3-none-any.whl (28 kB)\n",
      "Requirement already satisfied: idna>=2.0 in /usr/lib/python3/dist-packages (from idna-ssl>=1.0->aiohttp>=3.7.2->gbif-dl) (2.6)\n",
      "Requirement already satisfied: urllib3<1.27,>=1.21.1 in /usr/local/lib/python3.6/dist-packages (from requests>2.7->pygbif>=0.5.0->gbif-dl) (1.26.6)\n",
      "Requirement already satisfied: certifi>=2017.4.17 in /usr/local/lib/python3.6/dist-packages (from requests>2.7->pygbif>=0.5.0->gbif-dl) (2021.5.30)\n",
      "Requirement already satisfied: click in /usr/local/lib/python3.6/dist-packages (from geomet->pygbif>=0.5.0->gbif-dl) (8.0.3)\n",
      "Requirement already satisfied: pillow>=6.2.0 in /usr/local/lib/python3.6/dist-packages (from matplotlib->pygbif>=0.5.0->gbif-dl) (8.4.0)\n",
      "Requirement already satisfied: pyparsing!=2.0.4,!=2.1.2,!=2.1.6,>=2.0.3 in /usr/local/lib/python3.6/dist-packages (from matplotlib->pygbif>=0.5.0->gbif-dl) (3.0.4)\n",
      "Requirement already satisfied: kiwisolver>=1.0.1 in /usr/local/lib/python3.6/dist-packages (from matplotlib->pygbif>=0.5.0->gbif-dl) (1.3.1)\n",
      "Requirement already satisfied: cycler>=0.10 in /usr/local/lib/python3.6/dist-packages (from matplotlib->pygbif>=0.5.0->gbif-dl) (0.11.0)\n",
      "Requirement already satisfied: python-dateutil>=2.1 in /usr/local/lib/python3.6/dist-packages (from matplotlib->pygbif>=0.5.0->gbif-dl) (2.8.2)\n",
      "Requirement already satisfied: pyyaml>=5.4 in /usr/local/lib/python3.6/dist-packages (from requests-cache->pygbif>=0.5.0->gbif-dl) (6.0)\n",
      "Requirement already satisfied: itsdangerous>=2.0.1 in /usr/local/lib/python3.6/dist-packages (from requests-cache->pygbif>=0.5.0->gbif-dl) (2.0.1)\n",
      "Collecting url-normalize<2.0,>=1.4\n",
      "  Downloading url_normalize-1.4.3-py2.py3-none-any.whl (6.8 kB)\n",
      "Requirement already satisfied: importlib-metadata in /usr/local/lib/python3.6/dist-packages (from click->geomet->pygbif>=0.5.0->gbif-dl) (4.6.3)\n",
      "Requirement already satisfied: zipp>=0.5 in /usr/local/lib/python3.6/dist-packages (from importlib-metadata->click->geomet->pygbif>=0.5.0->gbif-dl) (3.5.0)\n",
      "Building wheels for collected packages: gbif-dl, aiostream, pescador, idna-ssl\n",
      "  Building wheel for gbif-dl (pyproject.toml) ... \u001b[?25ldone\n",
      "\u001b[?25h  Created wheel for gbif-dl: filename=gbif_dl-0.1.0-py3-none-any.whl size=16439 sha256=cc92c068150dfc09674db6823f95881172e4905b7c725ae7c91defb5cfea1c28\n",
      "  Stored in directory: /root/.cache/pip/wheels/8c/71/af/e0782fd672b4e9e3d494e299d8c6e750f9ed4e3363e34a1d47\n",
      "  Building wheel for aiostream (setup.py) ... \u001b[?25ldone\n",
      "\u001b[?25h  Created wheel for aiostream: filename=aiostream-0.4.3-py3-none-any.whl size=23368 sha256=d78be51f0f4d8f985cab5534e09bb6e805eea6809aa3b058ae39334947b2951a\n",
      "  Stored in directory: /root/.cache/pip/wheels/89/f4/37/cd95338b441223abaf33be8a84e7edf7ff84eb5a58a4d69be8\n",
      "  Building wheel for pescador (setup.py) ... \u001b[?25ldone\n",
      "\u001b[?25h  Created wheel for pescador: filename=pescador-2.1.0-py3-none-any.whl size=21104 sha256=970b740fb5f1743ae30b0f0f7b752f7843476b6abb6677060bf5757f1e7a0a5f\n",
      "  Stored in directory: /root/.cache/pip/wheels/7f/62/ad/aa090dc810d39b1085cd9760e3e0325654b6caa4c0e306aadd\n",
      "  Building wheel for idna-ssl (setup.py) ... \u001b[?25ldone\n",
      "\u001b[?25h  Created wheel for idna-ssl: filename=idna_ssl-1.1.0-py3-none-any.whl size=3178 sha256=204e7c5112095ba9d61798818b73e66c569bd3405d8e422c0312529355c34854\n",
      "  Stored in directory: /root/.cache/pip/wheels/6a/f5/9c/f8331a854f7a8739cf0e74c13854e4dd7b1af11b04fe1dde13\n",
      "Successfully built gbif-dl aiostream pescador idna-ssl\n",
      "Installing collected packages: multidict, frozenlist, yarl, url-normalize, idna-ssl, attrs, asynctest, async-timeout, aiosignal, requests-cache, geomet, geojson-rewind, async-exit-stack, appdirs, aiohttp, python-dwca-reader, pygbif, pescador, filetype, aiostream, aiohttp-retry, aiofiles, gbif-dl\n",
      "Successfully installed aiofiles-0.7.0 aiohttp-3.8.0 aiohttp-retry-2.4.6 aiosignal-1.2.0 aiostream-0.4.3 appdirs-1.4.4 async-exit-stack-1.0.1 async-timeout-4.0.0 asynctest-0.13.0 attrs-21.2.0 filetype-1.0.8 frozenlist-1.2.0 gbif-dl-0.1.0 geojson-rewind-1.0.2 geomet-0.3.0 idna-ssl-1.1.0 multidict-5.2.0 pescador-2.1.0 pygbif-0.6.0 python-dwca-reader-0.15.0 requests-cache-0.7.5 url-normalize-1.4.3 yarl-1.7.2\n",
      "\u001b[33mWARNING: Running pip as the 'root' user can result in broken permissions and conflicting behaviour with the system package manager. It is recommended to use a virtual environment instead: https://pip.pypa.io/warnings/venv\u001b[0m\n"
     ]
    }
   ],
   "source": [
    "!pip install gbif-dl"
   ]
  },
  {
   "cell_type": "code",
   "execution_count": 42,
   "metadata": {},
   "outputs": [],
   "source": [
    "import gbif_dl"
   ]
  },
  {
   "cell_type": "code",
   "execution_count": null,
   "metadata": {},
   "outputs": [],
   "source": [
    "queries = {\n",
    "    \"speciesKey\": ['*'],\n",
    "    \"datasetKey\": [\n",
    "        \"7a3679ef-5582-4aaa-81f0-8c2545cafc81\",  # plantnet\n",
    "    ],\n",
    "    \"limit\": 100\n",
    "}"
   ]
  }
 ],
 "metadata": {
  "interpreter": {
   "hash": "31f2aee4e71d21fbe5cf8b01ff0e069b9275f58929596ceb00d14d90e3e16cd6"
  },
  "kernelspec": {
   "display_name": "Python 3.6.9 64-bit",
   "name": "python3"
  },
  "language_info": {
   "codemirror_mode": {
    "name": "ipython",
    "version": 3
   },
   "file_extension": ".py",
   "mimetype": "text/x-python",
   "name": "python",
   "nbconvert_exporter": "python",
   "pygments_lexer": "ipython3",
   "version": "3.6.9"
  },
  "orig_nbformat": 4
 },
 "nbformat": 4,
 "nbformat_minor": 2
}
