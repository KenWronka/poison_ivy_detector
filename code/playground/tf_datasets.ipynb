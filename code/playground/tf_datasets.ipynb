{
 "cells": [
  {
   "cell_type": "markdown",
   "metadata": {},
   "source": [
    "# Test TF datasets features"
   ]
  },
  {
   "cell_type": "code",
   "execution_count": 14,
   "metadata": {},
   "outputs": [],
   "source": [
    "import tensorflow as tf\n",
    "import pandas as pd\n",
    "import numpy as np\n",
    "from IPython.display import display"
   ]
  },
  {
   "cell_type": "code",
   "execution_count": 64,
   "metadata": {},
   "outputs": [
    {
     "data": {
      "text/plain": [
       "0     0\n",
       "1     2\n",
       "2     4\n",
       "3     6\n",
       "4     8\n",
       "5    10\n",
       "6    12\n",
       "7    14\n",
       "8    16\n",
       "9    18\n",
       "Name: a, dtype: int64"
      ]
     },
     "execution_count": 64,
     "metadata": {},
     "output_type": "execute_result"
    }
   ],
   "source": [
    "X['a']*2"
   ]
  },
  {
   "cell_type": "code",
   "execution_count": 68,
   "metadata": {},
   "outputs": [
    {
     "data": {
      "text/html": [
       "<div>\n",
       "<style scoped>\n",
       "    .dataframe tbody tr th:only-of-type {\n",
       "        vertical-align: middle;\n",
       "    }\n",
       "\n",
       "    .dataframe tbody tr th {\n",
       "        vertical-align: top;\n",
       "    }\n",
       "\n",
       "    .dataframe thead th {\n",
       "        text-align: right;\n",
       "    }\n",
       "</style>\n",
       "<table border=\"1\" class=\"dataframe\">\n",
       "  <thead>\n",
       "    <tr style=\"text-align: right;\">\n",
       "      <th></th>\n",
       "      <th>a</th>\n",
       "    </tr>\n",
       "  </thead>\n",
       "  <tbody>\n",
       "    <tr>\n",
       "      <th>0</th>\n",
       "      <td>0</td>\n",
       "    </tr>\n",
       "    <tr>\n",
       "      <th>1</th>\n",
       "      <td>1</td>\n",
       "    </tr>\n",
       "    <tr>\n",
       "      <th>2</th>\n",
       "      <td>2</td>\n",
       "    </tr>\n",
       "    <tr>\n",
       "      <th>3</th>\n",
       "      <td>3</td>\n",
       "    </tr>\n",
       "    <tr>\n",
       "      <th>4</th>\n",
       "      <td>4</td>\n",
       "    </tr>\n",
       "    <tr>\n",
       "      <th>5</th>\n",
       "      <td>5</td>\n",
       "    </tr>\n",
       "    <tr>\n",
       "      <th>6</th>\n",
       "      <td>6</td>\n",
       "    </tr>\n",
       "    <tr>\n",
       "      <th>7</th>\n",
       "      <td>7</td>\n",
       "    </tr>\n",
       "    <tr>\n",
       "      <th>8</th>\n",
       "      <td>8</td>\n",
       "    </tr>\n",
       "    <tr>\n",
       "      <th>9</th>\n",
       "      <td>9</td>\n",
       "    </tr>\n",
       "  </tbody>\n",
       "</table>\n",
       "</div>"
      ],
      "text/plain": [
       "   a\n",
       "0  0\n",
       "1  1\n",
       "2  2\n",
       "3  3\n",
       "4  4\n",
       "5  5\n",
       "6  6\n",
       "7  7\n",
       "8  8\n",
       "9  9"
      ]
     },
     "metadata": {},
     "output_type": "display_data"
    },
    {
     "data": {
      "text/html": [
       "<div>\n",
       "<style scoped>\n",
       "    .dataframe tbody tr th:only-of-type {\n",
       "        vertical-align: middle;\n",
       "    }\n",
       "\n",
       "    .dataframe tbody tr th {\n",
       "        vertical-align: top;\n",
       "    }\n",
       "\n",
       "    .dataframe thead th {\n",
       "        text-align: right;\n",
       "    }\n",
       "</style>\n",
       "<table border=\"1\" class=\"dataframe\">\n",
       "  <thead>\n",
       "    <tr style=\"text-align: right;\">\n",
       "      <th></th>\n",
       "      <th>label</th>\n",
       "    </tr>\n",
       "  </thead>\n",
       "  <tbody>\n",
       "    <tr>\n",
       "      <th>0</th>\n",
       "      <td>-1</td>\n",
       "    </tr>\n",
       "    <tr>\n",
       "      <th>1</th>\n",
       "      <td>1</td>\n",
       "    </tr>\n",
       "    <tr>\n",
       "      <th>2</th>\n",
       "      <td>3</td>\n",
       "    </tr>\n",
       "    <tr>\n",
       "      <th>3</th>\n",
       "      <td>5</td>\n",
       "    </tr>\n",
       "    <tr>\n",
       "      <th>4</th>\n",
       "      <td>7</td>\n",
       "    </tr>\n",
       "    <tr>\n",
       "      <th>5</th>\n",
       "      <td>9</td>\n",
       "    </tr>\n",
       "    <tr>\n",
       "      <th>6</th>\n",
       "      <td>11</td>\n",
       "    </tr>\n",
       "    <tr>\n",
       "      <th>7</th>\n",
       "      <td>13</td>\n",
       "    </tr>\n",
       "    <tr>\n",
       "      <th>8</th>\n",
       "      <td>15</td>\n",
       "    </tr>\n",
       "    <tr>\n",
       "      <th>9</th>\n",
       "      <td>17</td>\n",
       "    </tr>\n",
       "  </tbody>\n",
       "</table>\n",
       "</div>"
      ],
      "text/plain": [
       "   label\n",
       "0     -1\n",
       "1      1\n",
       "2      3\n",
       "3      5\n",
       "4      7\n",
       "5      9\n",
       "6     11\n",
       "7     13\n",
       "8     15\n",
       "9     17"
      ]
     },
     "metadata": {},
     "output_type": "display_data"
    },
    {
     "data": {
      "text/html": [
       "<div>\n",
       "<style scoped>\n",
       "    .dataframe tbody tr th:only-of-type {\n",
       "        vertical-align: middle;\n",
       "    }\n",
       "\n",
       "    .dataframe tbody tr th {\n",
       "        vertical-align: top;\n",
       "    }\n",
       "\n",
       "    .dataframe thead th {\n",
       "        text-align: right;\n",
       "    }\n",
       "</style>\n",
       "<table border=\"1\" class=\"dataframe\">\n",
       "  <thead>\n",
       "    <tr style=\"text-align: right;\">\n",
       "      <th></th>\n",
       "      <th>desc</th>\n",
       "    </tr>\n",
       "  </thead>\n",
       "  <tbody>\n",
       "    <tr>\n",
       "      <th>0</th>\n",
       "      <td>Value 1</td>\n",
       "    </tr>\n",
       "    <tr>\n",
       "      <th>1</th>\n",
       "      <td>Value 2</td>\n",
       "    </tr>\n",
       "    <tr>\n",
       "      <th>2</th>\n",
       "      <td>Value 3</td>\n",
       "    </tr>\n",
       "    <tr>\n",
       "      <th>3</th>\n",
       "      <td>Value 4</td>\n",
       "    </tr>\n",
       "    <tr>\n",
       "      <th>4</th>\n",
       "      <td>Value 5</td>\n",
       "    </tr>\n",
       "    <tr>\n",
       "      <th>5</th>\n",
       "      <td>Value 6</td>\n",
       "    </tr>\n",
       "    <tr>\n",
       "      <th>6</th>\n",
       "      <td>Value 7</td>\n",
       "    </tr>\n",
       "    <tr>\n",
       "      <th>7</th>\n",
       "      <td>Value 8</td>\n",
       "    </tr>\n",
       "    <tr>\n",
       "      <th>8</th>\n",
       "      <td>Value 9</td>\n",
       "    </tr>\n",
       "    <tr>\n",
       "      <th>9</th>\n",
       "      <td>Value 10</td>\n",
       "    </tr>\n",
       "  </tbody>\n",
       "</table>\n",
       "</div>"
      ],
      "text/plain": [
       "       desc\n",
       "0   Value 1\n",
       "1   Value 2\n",
       "2   Value 3\n",
       "3   Value 4\n",
       "4   Value 5\n",
       "5   Value 6\n",
       "6   Value 7\n",
       "7   Value 8\n",
       "8   Value 9\n",
       "9  Value 10"
      ]
     },
     "metadata": {},
     "output_type": "display_data"
    }
   ],
   "source": [
    "n = 10\n",
    "X = pd.DataFrame([[i] for i in range(n)], columns=['a'])\n",
    "# X['b'] = np.random.randn(n)*0.1 + 4\n",
    "\n",
    "y = pd.DataFrame(X['a']*2).rename({'a': 'label'}, axis=1) - 1\n",
    "desc = pd.DataFrame([f\"Value {i}\" for i in range(1, n+1)], columns=['desc'])\n",
    "\n",
    "display(X, y, desc)"
   ]
  },
  {
   "cell_type": "code",
   "execution_count": 112,
   "metadata": {},
   "outputs": [],
   "source": [
    "ds = tf.data.Dataset.from_tensor_slices((X, y))\n",
    "ds_with_labels = tf.data.Dataset.zip((ds,\n",
    "                                      tf.data.Dataset.from_tensor_slices((desc, )))).batch(4)\n",
    "ds = ds.shuffle(n).batch(4).prefetch(buffer_size=4)"
   ]
  },
  {
   "cell_type": "code",
   "execution_count": 113,
   "metadata": {},
   "outputs": [
    {
     "name": "stdout",
     "output_type": "stream",
     "text": [
      "((<tf.Tensor: shape=(4, 1), dtype=int64, numpy=\n",
      "array([[0],\n",
      "       [1],\n",
      "       [2],\n",
      "       [3]])>, <tf.Tensor: shape=(4, 1), dtype=int64, numpy=\n",
      "array([[-1],\n",
      "       [ 1],\n",
      "       [ 3],\n",
      "       [ 5]])>), (<tf.Tensor: shape=(4, 1), dtype=string, numpy=\n",
      "array([[b'Value 1'],\n",
      "       [b'Value 2'],\n",
      "       [b'Value 3'],\n",
      "       [b'Value 4']], dtype=object)>,))\n",
      "((<tf.Tensor: shape=(4, 1), dtype=int64, numpy=\n",
      "array([[4],\n",
      "       [5],\n",
      "       [6],\n",
      "       [7]])>, <tf.Tensor: shape=(4, 1), dtype=int64, numpy=\n",
      "array([[ 7],\n",
      "       [ 9],\n",
      "       [11],\n",
      "       [13]])>), (<tf.Tensor: shape=(4, 1), dtype=string, numpy=\n",
      "array([[b'Value 5'],\n",
      "       [b'Value 6'],\n",
      "       [b'Value 7'],\n",
      "       [b'Value 8']], dtype=object)>,))\n",
      "((<tf.Tensor: shape=(2, 1), dtype=int64, numpy=\n",
      "array([[8],\n",
      "       [9]])>, <tf.Tensor: shape=(2, 1), dtype=int64, numpy=\n",
      "array([[15],\n",
      "       [17]])>), (<tf.Tensor: shape=(2, 1), dtype=string, numpy=\n",
      "array([[b'Value 9'],\n",
      "       [b'Value 10']], dtype=object)>,))\n"
     ]
    }
   ],
   "source": [
    "for batch in ds_with_labels:\n",
    "    print(batch)"
   ]
  },
  {
   "cell_type": "code",
   "execution_count": 101,
   "metadata": {},
   "outputs": [
    {
     "name": "stdout",
     "output_type": "stream",
     "text": [
      "(<tf.Tensor: shape=(4, 1), dtype=int64, numpy=\n",
      "array([[8],\n",
      "       [9],\n",
      "       [7],\n",
      "       [5]])>, <tf.Tensor: shape=(4, 1), dtype=int64, numpy=\n",
      "array([[15],\n",
      "       [17],\n",
      "       [13],\n",
      "       [ 9]])>)\n",
      "(<tf.Tensor: shape=(4, 1), dtype=int64, numpy=\n",
      "array([[3],\n",
      "       [2],\n",
      "       [1],\n",
      "       [6]])>, <tf.Tensor: shape=(4, 1), dtype=int64, numpy=\n",
      "array([[ 5],\n",
      "       [ 3],\n",
      "       [ 1],\n",
      "       [11]])>)\n",
      "(<tf.Tensor: shape=(2, 1), dtype=int64, numpy=\n",
      "array([[4],\n",
      "       [0]])>, <tf.Tensor: shape=(2, 1), dtype=int64, numpy=\n",
      "array([[ 7],\n",
      "       [-1]])>)\n"
     ]
    }
   ],
   "source": [
    "for batch in ds:\n",
    "    print(batch)"
   ]
  },
  {
   "cell_type": "code",
   "execution_count": 103,
   "metadata": {},
   "outputs": [],
   "source": [
    "model = tf.keras.models.Sequential([\n",
    "    tf.keras.layers.Dense(5, activation='relu', input_shape=(1, )),\n",
    "    tf.keras.layers.Dense(3, activation='relu'),\n",
    "    tf.keras.layers.Dense(1)\n",
    "])"
   ]
  },
  {
   "cell_type": "code",
   "execution_count": 104,
   "metadata": {},
   "outputs": [],
   "source": [
    "model.compile(loss=tf.keras.losses.MAE,\n",
    "              optimizer=tf.keras.optimizers.Adam(learning_rate=0.01),\n",
    "              metrics=['accuracy'])"
   ]
  },
  {
   "cell_type": "code",
   "execution_count": 105,
   "metadata": {},
   "outputs": [
    {
     "name": "stdout",
     "output_type": "stream",
     "text": [
      "Epoch 1/50\n",
      "3/3 [==============================] - 1s 7ms/step - loss: 8.8569 - accuracy: 0.0000e+00\n",
      "Epoch 2/50\n",
      "3/3 [==============================] - 0s 6ms/step - loss: 8.4032 - accuracy: 0.0000e+00\n",
      "Epoch 3/50\n",
      "3/3 [==============================] - 0s 7ms/step - loss: 8.0943 - accuracy: 0.0000e+00\n",
      "Epoch 4/50\n",
      "3/3 [==============================] - 0s 7ms/step - loss: 7.7847 - accuracy: 0.0000e+00\n",
      "Epoch 5/50\n",
      "3/3 [==============================] - 0s 9ms/step - loss: 7.5028 - accuracy: 0.0000e+00\n",
      "Epoch 6/50\n",
      "3/3 [==============================] - 0s 8ms/step - loss: 7.2110 - accuracy: 0.1000\n",
      "Epoch 7/50\n",
      "3/3 [==============================] - 0s 8ms/step - loss: 6.8483 - accuracy: 0.1000\n",
      "Epoch 8/50\n",
      "3/3 [==============================] - 0s 7ms/step - loss: 6.5076 - accuracy: 0.1000\n",
      "Epoch 9/50\n",
      "3/3 [==============================] - 0s 9ms/step - loss: 6.0893 - accuracy: 0.1000\n",
      "Epoch 10/50\n",
      "3/3 [==============================] - 0s 8ms/step - loss: 5.6388 - accuracy: 0.1000\n",
      "Epoch 11/50\n",
      "3/3 [==============================] - 0s 8ms/step - loss: 5.2048 - accuracy: 0.1000\n",
      "Epoch 12/50\n",
      "3/3 [==============================] - 0s 7ms/step - loss: 4.7368 - accuracy: 0.1000\n",
      "Epoch 13/50\n",
      "3/3 [==============================] - 0s 7ms/step - loss: 4.2007 - accuracy: 0.1000\n",
      "Epoch 14/50\n",
      "3/3 [==============================] - 0s 8ms/step - loss: 3.6099 - accuracy: 0.1000\n",
      "Epoch 15/50\n",
      "3/3 [==============================] - 0s 9ms/step - loss: 2.9364 - accuracy: 0.1000\n",
      "Epoch 16/50\n",
      "3/3 [==============================] - 0s 7ms/step - loss: 2.4688 - accuracy: 0.1000\n",
      "Epoch 17/50\n",
      "3/3 [==============================] - 0s 7ms/step - loss: 1.9198 - accuracy: 0.1000\n",
      "Epoch 18/50\n",
      "3/3 [==============================] - 0s 7ms/step - loss: 1.3041 - accuracy: 0.1000\n",
      "Epoch 19/50\n",
      "3/3 [==============================] - 0s 8ms/step - loss: 1.3309 - accuracy: 0.1000\n",
      "Epoch 20/50\n",
      "3/3 [==============================] - 0s 7ms/step - loss: 1.4658 - accuracy: 0.1000\n",
      "Epoch 21/50\n",
      "3/3 [==============================] - 0s 7ms/step - loss: 1.5820 - accuracy: 0.1000\n",
      "Epoch 22/50\n",
      "3/3 [==============================] - 0s 7ms/step - loss: 1.3147 - accuracy: 0.1000\n",
      "Epoch 23/50\n",
      "3/3 [==============================] - 0s 8ms/step - loss: 1.1403 - accuracy: 0.1000\n",
      "Epoch 24/50\n",
      "3/3 [==============================] - 0s 8ms/step - loss: 1.1598 - accuracy: 0.1000\n",
      "Epoch 25/50\n",
      "3/3 [==============================] - 0s 7ms/step - loss: 1.1933 - accuracy: 0.1000\n",
      "Epoch 26/50\n",
      "3/3 [==============================] - 0s 7ms/step - loss: 1.1743 - accuracy: 0.1000\n",
      "Epoch 27/50\n",
      "3/3 [==============================] - 0s 8ms/step - loss: 1.1303 - accuracy: 0.1000\n",
      "Epoch 28/50\n",
      "3/3 [==============================] - 0s 7ms/step - loss: 1.0337 - accuracy: 0.1000\n",
      "Epoch 29/50\n",
      "3/3 [==============================] - 0s 6ms/step - loss: 0.9631 - accuracy: 0.1000\n",
      "Epoch 30/50\n",
      "3/3 [==============================] - 0s 9ms/step - loss: 0.8973 - accuracy: 0.1000\n",
      "Epoch 31/50\n",
      "3/3 [==============================] - 0s 9ms/step - loss: 0.8808 - accuracy: 0.1000\n",
      "Epoch 32/50\n",
      "3/3 [==============================] - 0s 9ms/step - loss: 0.8715 - accuracy: 0.1000\n",
      "Epoch 33/50\n",
      "3/3 [==============================] - 0s 8ms/step - loss: 0.8118 - accuracy: 0.1000\n",
      "Epoch 34/50\n",
      "3/3 [==============================] - 0s 9ms/step - loss: 0.7619 - accuracy: 0.1000\n",
      "Epoch 35/50\n",
      "3/3 [==============================] - 0s 6ms/step - loss: 0.7373 - accuracy: 0.1000\n",
      "Epoch 36/50\n",
      "3/3 [==============================] - 0s 7ms/step - loss: 0.7200 - accuracy: 0.1000\n",
      "Epoch 37/50\n",
      "3/3 [==============================] - 0s 9ms/step - loss: 0.6921 - accuracy: 0.1000\n",
      "Epoch 38/50\n",
      "3/3 [==============================] - 0s 10ms/step - loss: 0.6393 - accuracy: 0.1000\n",
      "Epoch 39/50\n",
      "3/3 [==============================] - 0s 8ms/step - loss: 0.6170 - accuracy: 0.1000\n",
      "Epoch 40/50\n",
      "3/3 [==============================] - 0s 10ms/step - loss: 0.6085 - accuracy: 0.1000\n",
      "Epoch 41/50\n",
      "3/3 [==============================] - 0s 8ms/step - loss: 0.5414 - accuracy: 0.1000\n",
      "Epoch 42/50\n",
      "3/3 [==============================] - 0s 9ms/step - loss: 0.5076 - accuracy: 0.1000\n",
      "Epoch 43/50\n",
      "3/3 [==============================] - 0s 7ms/step - loss: 0.4747 - accuracy: 0.1000\n",
      "Epoch 44/50\n",
      "3/3 [==============================] - 0s 9ms/step - loss: 0.4482 - accuracy: 0.1000\n",
      "Epoch 45/50\n",
      "3/3 [==============================] - 0s 9ms/step - loss: 0.4188 - accuracy: 0.1000\n",
      "Epoch 46/50\n",
      "3/3 [==============================] - 0s 8ms/step - loss: 0.3812 - accuracy: 0.1000\n",
      "Epoch 47/50\n",
      "3/3 [==============================] - 0s 8ms/step - loss: 0.3582 - accuracy: 0.1000\n",
      "Epoch 48/50\n",
      "3/3 [==============================] - 0s 8ms/step - loss: 0.3224 - accuracy: 0.1000\n",
      "Epoch 49/50\n",
      "3/3 [==============================] - 0s 7ms/step - loss: 0.2845 - accuracy: 0.1000\n",
      "Epoch 50/50\n",
      "3/3 [==============================] - 0s 8ms/step - loss: 0.2630 - accuracy: 0.1000\n"
     ]
    },
    {
     "data": {
      "text/plain": [
       "<keras.callbacks.History at 0x7f74342373c8>"
      ]
     },
     "execution_count": 105,
     "metadata": {},
     "output_type": "execute_result"
    }
   ],
   "source": [
    "model.fit(ds, epochs=50)"
   ]
  },
  {
   "cell_type": "code",
   "execution_count": 106,
   "metadata": {},
   "outputs": [
    {
     "data": {
      "text/plain": [
       "array([[9.230188]], dtype=float32)"
      ]
     },
     "execution_count": 106,
     "metadata": {},
     "output_type": "execute_result"
    }
   ],
   "source": [
    "model.predict([[5]])"
   ]
  },
  {
   "cell_type": "code",
   "execution_count": 119,
   "metadata": {},
   "outputs": [
    {
     "name": "stdout",
     "output_type": "stream",
     "text": [
      "[[-0.00680409]\n",
      " [ 1.3416592 ]\n",
      " [ 3.3237505 ]\n",
      " [ 5.292563  ]] [[-1]\n",
      " [ 1]\n",
      " [ 3]\n",
      " [ 5]] [[b'Value 1']\n",
      " [b'Value 2']\n",
      " [b'Value 3']\n",
      " [b'Value 4']]\n",
      "[[ 7.261376]\n",
      " [ 9.230188]\n",
      " [11.199   ]\n",
      " [13.167812]] [[ 7]\n",
      " [ 9]\n",
      " [11]\n",
      " [13]] [[b'Value 5']\n",
      " [b'Value 6']\n",
      " [b'Value 7']\n",
      " [b'Value 8']]\n",
      "[[15.136626]\n",
      " [17.10544 ]] [[15]\n",
      " [17]] [[b'Value 9']\n",
      " [b'Value 10']]\n"
     ]
    }
   ],
   "source": [
    "for val in ds_with_labels:\n",
    "    ((X, y), (labels, )) = val\n",
    "    print(model.predict(X), y.numpy(), labels.numpy())"
   ]
  },
  {
   "cell_type": "code",
   "execution_count": null,
   "metadata": {},
   "outputs": [],
   "source": []
  },
  {
   "cell_type": "code",
   "execution_count": null,
   "metadata": {},
   "outputs": [],
   "source": []
  }
 ],
 "metadata": {
  "interpreter": {
   "hash": "31f2aee4e71d21fbe5cf8b01ff0e069b9275f58929596ceb00d14d90e3e16cd6"
  },
  "kernelspec": {
   "display_name": "Python 3.6.9 64-bit",
   "language": "python",
   "name": "python3"
  },
  "language_info": {
   "codemirror_mode": {
    "name": "ipython",
    "version": 3
   },
   "file_extension": ".py",
   "mimetype": "text/x-python",
   "name": "python",
   "nbconvert_exporter": "python",
   "pygments_lexer": "ipython3",
   "version": "3.6.9"
  },
  "orig_nbformat": 4
 },
 "nbformat": 4,
 "nbformat_minor": 2
}
