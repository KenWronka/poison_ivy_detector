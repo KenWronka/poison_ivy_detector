{
  "cells": [
    {
      "cell_type": "code",
      "execution_count": 4,
      "metadata": {
        "id": "dy4BcTjBFTWx"
      },
      "outputs": [],
      "source": [
        "from pathlib import Path\n",
        "import numpy as np\n",
        "import matplotlib.pyplot as plt\n",
        "\n",
        "import tensorflow as tf"
      ]
    },
    {
      "cell_type": "markdown",
      "metadata": {
        "id": "ceibQLDeGhI4"
      },
      "source": [
        "## Create a Basic Model of the Form y = mx + c"
      ]
    },
    {
      "cell_type": "code",
      "execution_count": 25,
      "metadata": {
        "id": "YIBCsjQNF46Z"
      },
      "outputs": [
        {
          "name": "stdout",
          "output_type": "stream",
          "text": [
            "[-8 -6 -4 -2  0  2  4  6  8 10] [-17.04088579 -12.95622548  -8.9484593   -4.85814225  -0.8697331\n",
            "   2.84736949   7.06092187  11.06872737  14.99017446  19.16439948]\n"
          ]
        }
      ],
      "source": [
        "# Create a simple Keras model.\n",
        "x = np.arange(1,11)*2 - 2*5\n",
        "y = x*2 - 1 + np.random.randn(10)*0.1\n",
        "\n",
        "print(x, y)"
      ]
    },
    {
      "cell_type": "code",
      "execution_count": 26,
      "metadata": {},
      "outputs": [],
      "source": [
        "dataset = tf.data.Dataset.from_tensor_slices(([[val] for val in x], y))"
      ]
    },
    {
      "cell_type": "code",
      "execution_count": 27,
      "metadata": {},
      "outputs": [],
      "source": [
        "dataset = dataset.batch(2)"
      ]
    },
    {
      "cell_type": "code",
      "execution_count": 28,
      "metadata": {},
      "outputs": [
        {
          "data": {
            "text/plain": [
              "[(<tf.Tensor: shape=(2, 1), dtype=int32, numpy=\n",
              "  array([[-8],\n",
              "         [-6]], dtype=int32)>,\n",
              "  <tf.Tensor: shape=(2,), dtype=float64, numpy=array([-17.04088579, -12.95622548])>)]"
            ]
          },
          "execution_count": 28,
          "metadata": {},
          "output_type": "execute_result"
        }
      ],
      "source": [
        "[*dataset.take(1)]"
      ]
    },
    {
      "cell_type": "code",
      "execution_count": 31,
      "metadata": {},
      "outputs": [
        {
          "name": "stdout",
          "output_type": "stream",
          "text": [
            "Epoch 1/500\n",
            "5/5 [==============================] - 0s 7ms/step - loss: 7.0294\n",
            "Epoch 2/500\n",
            "5/5 [==============================] - 0s 8ms/step - loss: 6.8026\n",
            "Epoch 3/500\n",
            "5/5 [==============================] - 0s 9ms/step - loss: 6.5822\n",
            "Epoch 4/500\n",
            "5/5 [==============================] - 0s 8ms/step - loss: 6.3624\n",
            "Epoch 5/500\n",
            "5/5 [==============================] - 0s 6ms/step - loss: 6.1430\n",
            "Epoch 6/500\n",
            "5/5 [==============================] - 0s 8ms/step - loss: 5.9238\n",
            "Epoch 7/500\n",
            "5/5 [==============================] - 0s 6ms/step - loss: 5.7048\n",
            "Epoch 8/500\n",
            "5/5 [==============================] - 0s 7ms/step - loss: 5.4860\n",
            "Epoch 9/500\n",
            "5/5 [==============================] - 0s 7ms/step - loss: 5.2673\n",
            "Epoch 10/500\n",
            "5/5 [==============================] - 0s 7ms/step - loss: 5.0486\n",
            "Epoch 11/500\n",
            "5/5 [==============================] - 0s 6ms/step - loss: 4.8301\n",
            "Epoch 12/500\n",
            "5/5 [==============================] - 0s 7ms/step - loss: 4.6117\n",
            "Epoch 13/500\n",
            "5/5 [==============================] - 0s 7ms/step - loss: 4.3933\n",
            "Epoch 14/500\n",
            "5/5 [==============================] - 0s 7ms/step - loss: 4.1750\n",
            "Epoch 15/500\n",
            "5/5 [==============================] - 0s 7ms/step - loss: 3.9567\n",
            "Epoch 16/500\n",
            "5/5 [==============================] - 0s 8ms/step - loss: 3.7385\n",
            "Epoch 17/500\n",
            "5/5 [==============================] - 0s 7ms/step - loss: 3.5203\n",
            "Epoch 18/500\n",
            "5/5 [==============================] - 0s 8ms/step - loss: 3.3021\n",
            "Epoch 19/500\n",
            "5/5 [==============================] - 0s 7ms/step - loss: 3.0840\n",
            "Epoch 20/500\n",
            "5/5 [==============================] - 0s 7ms/step - loss: 2.8659\n",
            "Epoch 21/500\n",
            "5/5 [==============================] - 0s 7ms/step - loss: 2.6586\n",
            "Epoch 22/500\n",
            "5/5 [==============================] - 0s 7ms/step - loss: 2.4646\n",
            "Epoch 23/500\n",
            "5/5 [==============================] - 0s 7ms/step - loss: 2.2736\n",
            "Epoch 24/500\n",
            "5/5 [==============================] - 0s 7ms/step - loss: 2.0843\n",
            "Epoch 25/500\n",
            "5/5 [==============================] - 0s 7ms/step - loss: 1.8961\n",
            "Epoch 26/500\n",
            "5/5 [==============================] - 0s 8ms/step - loss: 1.7086\n",
            "Epoch 27/500\n",
            "5/5 [==============================] - 0s 7ms/step - loss: 1.5214\n",
            "Epoch 28/500\n",
            "5/5 [==============================] - 0s 7ms/step - loss: 1.3345\n",
            "Epoch 29/500\n",
            "5/5 [==============================] - 0s 7ms/step - loss: 1.1525\n",
            "Epoch 30/500\n",
            "5/5 [==============================] - 0s 7ms/step - loss: 1.0037\n",
            "Epoch 31/500\n",
            "5/5 [==============================] - 0s 7ms/step - loss: 0.8647\n",
            "Epoch 32/500\n",
            "5/5 [==============================] - 0s 7ms/step - loss: 0.7856\n",
            "Epoch 33/500\n",
            "5/5 [==============================] - 0s 7ms/step - loss: 0.7317\n",
            "Epoch 34/500\n",
            "5/5 [==============================] - 0s 6ms/step - loss: 0.6872\n",
            "Epoch 35/500\n",
            "5/5 [==============================] - 0s 7ms/step - loss: 0.6402\n",
            "Epoch 36/500\n",
            "5/5 [==============================] - 0s 7ms/step - loss: 0.5880\n",
            "Epoch 37/500\n",
            "5/5 [==============================] - 0s 9ms/step - loss: 0.5513\n",
            "Epoch 38/500\n",
            "5/5 [==============================] - 0s 9ms/step - loss: 0.5119\n",
            "Epoch 39/500\n",
            "5/5 [==============================] - 0s 8ms/step - loss: 0.4759\n",
            "Epoch 40/500\n",
            "5/5 [==============================] - 0s 7ms/step - loss: 0.4257\n",
            "Epoch 41/500\n",
            "5/5 [==============================] - 0s 6ms/step - loss: 0.3882\n",
            "Epoch 42/500\n",
            "5/5 [==============================] - 0s 6ms/step - loss: 0.3482\n",
            "Epoch 43/500\n",
            "5/5 [==============================] - 0s 7ms/step - loss: 0.3115\n",
            "Epoch 44/500\n",
            "5/5 [==============================] - 0s 7ms/step - loss: 0.2612\n",
            "Epoch 45/500\n",
            "5/5 [==============================] - 0s 7ms/step - loss: 0.2236\n",
            "Epoch 46/500\n",
            "5/5 [==============================] - 0s 8ms/step - loss: 0.1835\n",
            "Epoch 47/500\n",
            "5/5 [==============================] - 0s 8ms/step - loss: 0.1471\n",
            "Epoch 48/500\n",
            "5/5 [==============================] - 0s 8ms/step - loss: 0.0972\n",
            "Epoch 49/500\n",
            "5/5 [==============================] - 0s 9ms/step - loss: 0.0809\n",
            "Epoch 50/500\n",
            "5/5 [==============================] - 0s 8ms/step - loss: 0.0651\n",
            "Epoch 51/500\n",
            "5/5 [==============================] - 0s 8ms/step - loss: 0.0721\n",
            "Epoch 52/500\n",
            "5/5 [==============================] - 0s 7ms/step - loss: 0.0739\n",
            "Epoch 53/500\n",
            "5/5 [==============================] - 0s 7ms/step - loss: 0.0674\n",
            "Epoch 54/500\n",
            "5/5 [==============================] - 0s 7ms/step - loss: 0.0691\n",
            "Epoch 55/500\n",
            "5/5 [==============================] - 0s 7ms/step - loss: 0.0665\n"
          ]
        },
        {
          "data": {
            "text/plain": [
              "<keras.callbacks.History at 0x7ff08028f160>"
            ]
          },
          "execution_count": 31,
          "metadata": {},
          "output_type": "execute_result"
        }
      ],
      "source": [
        "model = tf.keras.models.Sequential([\n",
        "        tf.keras.layers.Dense(units=1, input_shape=[1]),\n",
        "])\n",
        "\n",
        "model.compile(optimizer=tf.keras.optimizers.Adam(learning_rate=0.01),\n",
        "              loss='mean_absolute_error')\n",
        "\n",
        "model.fit(dataset, epochs=500, callbacks=[tf.keras.callbacks.EarlyStopping(patience=5, monitor='loss')])"
      ]
    },
    {
      "cell_type": "markdown",
      "metadata": {
        "id": "EjsB-QICGt6L"
      },
      "source": [
        "## Generate a SavedModel"
      ]
    },
    {
      "cell_type": "code",
      "execution_count": 33,
      "metadata": {
        "id": "a9xcbK7QHOfm"
      },
      "outputs": [],
      "source": [
        "output_path = './model/model_v1'\n",
        "Path(output_path).mkdir(exist_ok=True, parents=True)"
      ]
    },
    {
      "cell_type": "code",
      "execution_count": 34,
      "metadata": {},
      "outputs": [
        {
          "name": "stdout",
          "output_type": "stream",
          "text": [
            "INFO:tensorflow:Assets written to: ./model/model_v1/assets\n"
          ]
        }
      ],
      "source": [
        "model.save(output_path)"
      ]
    },
    {
      "cell_type": "markdown",
      "metadata": {
        "id": "RRtsNwkiGxcO"
      },
      "source": [
        "## Convert the SavedModel to TFLite"
      ]
    },
    {
      "cell_type": "code",
      "execution_count": 35,
      "metadata": {
        "id": "TtM8yKTVTpD3"
      },
      "outputs": [],
      "source": [
        "# Convert the model.\n",
        "converter = tf.lite.TFLiteConverter.from_saved_model(output_path)\n",
        "tflite_model = converter.convert()"
      ]
    },
    {
      "cell_type": "code",
      "execution_count": 36,
      "metadata": {
        "id": "4idYulcNHTdO"
      },
      "outputs": [
        {
          "data": {
            "text/plain": [
              "916"
            ]
          },
          "execution_count": 36,
          "metadata": {},
          "output_type": "execute_result"
        }
      ],
      "source": [
        "tflite_model_file = Path('/model/model_v1.tflite')\n",
        "tflite_model_file.write_bytes(tflite_model)"
      ]
    },
    {
      "cell_type": "markdown",
      "metadata": {
        "id": "HgGvp2yBG25Q"
      },
      "source": [
        "## Initialize the TFLite Interpreter To Try It Out"
      ]
    },
    {
      "cell_type": "code",
      "execution_count": 43,
      "metadata": {},
      "outputs": [
        {
          "data": {
            "text/plain": [
              "[{'name': 'serving_default_dense_8_input:0',\n",
              "  'index': 0,\n",
              "  'shape': array([1, 1], dtype=int32),\n",
              "  'shape_signature': array([-1,  1], dtype=int32),\n",
              "  'dtype': numpy.float32,\n",
              "  'quantization': (0.0, 0),\n",
              "  'quantization_parameters': {'scales': array([], dtype=float32),\n",
              "   'zero_points': array([], dtype=int32),\n",
              "   'quantized_dimension': 0},\n",
              "  'sparsity_parameters': {}}]"
            ]
          },
          "execution_count": 43,
          "metadata": {},
          "output_type": "execute_result"
        }
      ],
      "source": []
    },
    {
      "cell_type": "code",
      "execution_count": 37,
      "metadata": {
        "id": "DOt94wIWF8m7"
      },
      "outputs": [],
      "source": [
        "# Load TFLite model and allocate tensors.\n",
        "interpreter = tf.lite.Interpreter(model_content=tflite_model)\n",
        "interpreter.allocate_tensors()\n",
        "\n",
        "# Get input and output tensors.\n",
        "input_details = interpreter.get_input_details()\n",
        "output_details = interpreter.get_output_details()"
      ]
    },
    {
      "cell_type": "code",
      "execution_count": 44,
      "metadata": {},
      "outputs": [
        {
          "data": {
            "text/plain": [
              "[{'name': 'serving_default_dense_8_input:0',\n",
              "  'index': 0,\n",
              "  'shape': array([1, 1], dtype=int32),\n",
              "  'shape_signature': array([-1,  1], dtype=int32),\n",
              "  'dtype': numpy.float32,\n",
              "  'quantization': (0.0, 0),\n",
              "  'quantization_parameters': {'scales': array([], dtype=float32),\n",
              "   'zero_points': array([], dtype=int32),\n",
              "   'quantized_dimension': 0},\n",
              "  'sparsity_parameters': {}}]"
            ]
          },
          "execution_count": 44,
          "metadata": {},
          "output_type": "execute_result"
        }
      ],
      "source": [
        "input_details"
      ]
    },
    {
      "cell_type": "code",
      "execution_count": 45,
      "metadata": {},
      "outputs": [
        {
          "data": {
            "text/plain": [
              "[{'name': 'StatefulPartitionedCall:0',\n",
              "  'index': 3,\n",
              "  'shape': array([1, 1], dtype=int32),\n",
              "  'shape_signature': array([-1,  1], dtype=int32),\n",
              "  'dtype': numpy.float32,\n",
              "  'quantization': (0.0, 0),\n",
              "  'quantization_parameters': {'scales': array([], dtype=float32),\n",
              "   'zero_points': array([], dtype=int32),\n",
              "   'quantized_dimension': 0},\n",
              "  'sparsity_parameters': {}}]"
            ]
          },
          "execution_count": 45,
          "metadata": {},
          "output_type": "execute_result"
        }
      ],
      "source": [
        "output_details"
      ]
    },
    {
      "cell_type": "code",
      "execution_count": 48,
      "metadata": {},
      "outputs": [
        {
          "name": "stdout",
          "output_type": "stream",
          "text": [
            "[[5.]] [[9.057872]]\n"
          ]
        }
      ],
      "source": [
        "test_in = np.array([[5.]], dtype=np.float32)\n",
        "in_index = input_details[0]['index']\n",
        "out_index = output_details[0]['index']\n",
        "\n",
        "\n",
        "interpreter.set_tensor(in_index, test_in)\n",
        "interpreter.invoke()\n",
        "test_out = interpreter.get_tensor(out_index)\n",
        "print(test_in, test_out)\n"
      ]
    },
    {
      "cell_type": "code",
      "execution_count": null,
      "metadata": {},
      "outputs": [],
      "source": []
    }
  ],
  "metadata": {
    "accelerator": "GPU",
    "colab": {
      "collapsed_sections": [],
      "include_colab_link": true,
      "name": "C2_W1_Lab_1_Linear_Regression.ipynb",
      "private_outputs": true,
      "provenance": [],
      "toc_visible": true
    },
    "interpreter": {
      "hash": "31f2aee4e71d21fbe5cf8b01ff0e069b9275f58929596ceb00d14d90e3e16cd6"
    },
    "kernelspec": {
      "display_name": "Python 3.6.9 64-bit",
      "name": "python3"
    },
    "language_info": {
      "codemirror_mode": {
        "name": "ipython",
        "version": 3
      },
      "file_extension": ".py",
      "mimetype": "text/x-python",
      "name": "python",
      "nbconvert_exporter": "python",
      "pygments_lexer": "ipython3",
      "version": "3.6.9"
    }
  },
  "nbformat": 4,
  "nbformat_minor": 0
}
