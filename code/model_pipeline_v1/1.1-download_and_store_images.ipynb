{
 "cells": [
  {
   "cell_type": "markdown",
   "metadata": {},
   "source": [
    "# Download and store images\n",
    "\n",
    "Create dataset by assembling and resizing images"
   ]
  },
  {
   "cell_type": "markdown",
   "metadata": {},
   "source": [
    "## Config"
   ]
  },
  {
   "cell_type": "code",
   "execution_count": 69,
   "metadata": {},
   "outputs": [],
   "source": [
    "import pandas as pd\n",
    "import numpy as np\n",
    "from simple_image_download import simple_image_download as simp\n",
    "import shutil\n",
    "from glob import glob\n",
    "from pathlib import Path\n",
    "from PIL import Image, UnidentifiedImageError\n",
    "from typing import Tuple, Dict\n",
    "from tqdm import tqdm\n",
    "import logging\n",
    "import matplotlib.pyplot as plt\n",
    "import seaborn as sns\n",
    "import gbif_dl\n",
    "import sqlalchemy as sqa\n",
    "\n",
    "logger = logging.getLogger()\n",
    "logger.setLevel(logging.INFO)\n",
    "logger.propagate = False"
   ]
  },
  {
   "cell_type": "code",
   "execution_count": 6,
   "metadata": {},
   "outputs": [],
   "source": [
    "# Google image download parameters\n",
    "n_positive_examples = 2500\n",
    "n_negative_examples = 2500\n",
    "\n",
    "positive_terms = [\"poison ivy plant\"]\n",
    "\n",
    "default_download_path = Path(\"simple_images\")\n",
    "store_path = Path(\"../datasets/pipeline_v1/downloaded_images\")\n",
    "metadata_loc = Path(\"../datasets/pipeline_v1/downloaded_images/image_metadata.csv\")\n",
    "\n",
    "similar_plants = [\n",
    "    \"Box elder\",\n",
    "    \"Virgin's bower\",\n",
    "    \"Virginia creeper\",\n",
    "    \"Western poison oak\",\n",
    "    \"Poison sumac\",\n",
    "    \"Kudzu\",\n",
    "    \"Blackberries\",\n",
    "    \"Strawberries\",\n",
    "    \"Fragrant sumac\",\n",
    "    \"Hoptree\",\n",
    "] # Source: \"https://en.wikipedia.org/wiki/Toxicodendron_radicans\"\n",
    "negative_terms = [f\"{plant} plant\" for plant in similar_plants]\n",
    "\n",
    "# Plantnet parameters\n",
    "PLANTNET_KEY = \"7a3679ef-5582-4aaa-81f0-8c2545cafc81\"\n",
    "plantnet_dl_target_path = Path(\"../datasets/pipeline_v1/plantnet_raw\")\n",
    "n_plantnet_examples = 2000\n",
    "\n",
    "\n",
    "# ImageNet parameters\n",
    "imagenet_download_path = Path(\"../datasets/pipeline_v1/imagenet_mini_raw/val\")\n",
    "imagenet_term_dict_path = Path(\"../datasets/pipeline_v1/imagenet_mini_raw/words.txt\")\n",
    "\n",
    "# Database parameters\n",
    "db_container = \"metadata_db\"\n",
    "db_user = \"pguser\"\n",
    "db_password = \"pgpassword\"\n",
    "db_port = 5432\n",
    "db_database = \"metadata\"\n",
    "db_prefix = \"postgresql\"\n",
    "metadata_tbl = \"base_images\""
   ]
  },
  {
   "cell_type": "code",
   "execution_count": 7,
   "metadata": {},
   "outputs": [],
   "source": [
    "def resize_by_min_dim(size: Tuple[int, int], min_dim:int =100) -> Tuple[int, int]:\n",
    "    \"\"\"\n",
    "    Resize an image to keep the same proportions and make the smaller\n",
    "    of the two dimensions equal to min_dim\n",
    "    size = (width, height) in pixels\n",
    "    returns (new_width, new_height)\n",
    "    \"\"\"\n",
    "    width, height = size\n",
    "    if (width <= min_dim) or (height <= min_dim):  # No need to resize images which are already small enough\n",
    "        return size\n",
    "    new_height = new_width = None\n",
    "    if width > height:\n",
    "        new_height = min_dim\n",
    "        new_width = int((width/height) * new_height)\n",
    "    else:\n",
    "        new_width = min_dim\n",
    "        new_height = int((height/width) * new_width)\n",
    "    return (new_width, new_height)\n",
    "    \n",
    "\n",
    "def download_images(search_term: str, count: int = 5):\n",
    "    \"\"\"\n",
    "    Downloads images based on search terms to simple_images folder\n",
    "    \"\"\"\n",
    "    # Clear download space so we only keep downloaded images\n",
    "    src_folder = Path(\"simple_images\")  # default property of simple_image_download package\n",
    "    if src_folder.exists():\n",
    "        shutil.rmtree(str(src_folder))\n",
    "    downloader = simp.simple_image_download()\n",
    "    logging.info(f\"Starting download for: {search_term} x {count}\")\n",
    "    downloader.download(search_term, count)\n",
    "    logging.info(f\"Downloaded images for: {search_term} x {count}\")\n",
    "        \n",
    "    \n",
    "    "
   ]
  },
  {
   "cell_type": "code",
   "execution_count": 8,
   "metadata": {},
   "outputs": [],
   "source": [
    "def gather_and_store_image_script(search_term_counts: Dict[str, int],\n",
    "                                  dest_dir: str,\n",
    "                                  img_min_dimen: int = 500,\n",
    "                                  clean_dest_dir: bool = False) -> pd.DataFrame:\n",
    "    \"\"\"\n",
    "    Downloads google image based on a dict of search terms: count of images to download\n",
    "    Downsizes image if they are too large by putting smaller dimension to min_dimen and keeping aspect ratio\n",
    "    If clean_dest_dir, remove all data from destination first\n",
    "    Returns a dataframe of the results\n",
    "    \"\"\"\n",
    "    dest_path = Path(dest_dir)\n",
    "    if dest_path.exists() and (clean_dest_dir == True):\n",
    "      shutil.rmtree(dest_path)\n",
    "      dest_path.mkdir(parents=True, exist_ok=True)\n",
    "    if not dest_path.exists():\n",
    "      dest_path.mkdir(parents=True, exist_ok=True)\n",
    "    \n",
    "    download_dir = Path(\"simple_images\")\n",
    "    image_metadata = []\n",
    "    img_data = {}\n",
    "    \n",
    "    \n",
    "    for search_term, count in search_term_counts.items():\n",
    "      download_images(search_term, count)\n",
    "      for img_loc in glob(str(Path(download_dir, search_term, '*'))):\n",
    "        img_path = Path(img_loc)\n",
    "        file_name = img_path.name.replace(\" \", \"_\")\n",
    "        dest_loc = Path(dest_path, file_name)\n",
    "        \n",
    "        img_data = {\n",
    "          \"download_loc\": str(img_path),\n",
    "          \"final_loc\": str(dest_loc),\n",
    "          \"full_path\": str(dest_loc.absolute().resolve()),\n",
    "          \"search_term\": search_term,\n",
    "          \"source\": \"Google Images\",\n",
    "          \"file_name\": file_name,\n",
    "          \"download_name\": img_path.name\n",
    "        }\n",
    "        \n",
    "        try:\n",
    "          img = Image.open(img_path).convert('RGB')\n",
    "          img_data['read'] = True\n",
    "        except UnidentifiedImageError:\n",
    "          img_data['read'] = False\n",
    "        \n",
    "        if img_data['read']:\n",
    "          img_data['orig_width'], img_data['orig_height'] = img.size\n",
    "          img_data['width'], img_data['height'] = resize_by_min_dim((img_data['orig_width'],\n",
    "                                                                     img_data['orig_height']), min_dim=500)\n",
    "          resized_img = img.resize((img_data['width'], img_data['height']), Image.ANTIALIAS)\n",
    "          resized_img.save(img_data['final_loc'], 'JPEG', quality=90)\n",
    "        \n",
    "        image_metadata.append(img_data)\n",
    "    if download_dir.exists():\n",
    "      shutil.rmtree(str(download_dir))\n",
    "\n",
    "    return(pd.DataFrame(image_metadata).set_index(\"file_name\"))\n",
    "    "
   ]
  },
  {
   "cell_type": "code",
   "execution_count": 9,
   "metadata": {},
   "outputs": [
    {
     "name": "stderr",
     "output_type": "stream",
     "text": [
      "INFO:Starting download for: poison ivy plant x 2500\n"
     ]
    },
    {
     "name": "stdout",
     "output_type": "stream",
     "text": [
      "('Connection aborted.', RemoteDisconnected('Remote end closed connection without response',))\n",
      "('Connection aborted.', RemoteDisconnected('Remote end closed connection without response',))\n",
      "('Connection aborted.', RemoteDisconnected('Remote end closed connection without response',))\n",
      "('Connection aborted.', RemoteDisconnected('Remote end closed connection without response',))\n",
      "('Connection aborted.', RemoteDisconnected('Remote end closed connection without response',))\n",
      "('Connection aborted.', RemoteDisconnected('Remote end closed connection without response',))\n",
      "('Connection aborted.', RemoteDisconnected('Remote end closed connection without response',))\n",
      "('Connection aborted.', RemoteDisconnected('Remote end closed connection without response',))\n",
      "('Connection aborted.', RemoteDisconnected('Remote end closed connection without response',))\n",
      "('Connection aborted.', RemoteDisconnected('Remote end closed connection without response',))\n",
      "('Connection aborted.', RemoteDisconnected('Remote end closed connection without response',))\n",
      "('Connection aborted.', RemoteDisconnected('Remote end closed connection without response',))\n",
      "('Connection aborted.', RemoteDisconnected('Remote end closed connection without response',))\n",
      "('Connection aborted.', RemoteDisconnected('Remote end closed connection without response',))\n",
      "('Connection aborted.', RemoteDisconnected('Remote end closed connection without response',))\n",
      "('Connection aborted.', RemoteDisconnected('Remote end closed connection without response',))\n",
      "('Connection aborted.', RemoteDisconnected('Remote end closed connection without response',))\n",
      "('Connection aborted.', RemoteDisconnected('Remote end closed connection without response',))\n",
      "('Connection aborted.', RemoteDisconnected('Remote end closed connection without response',))\n",
      "('Connection aborted.', RemoteDisconnected('Remote end closed connection without response',))\n",
      "('Connection aborted.', RemoteDisconnected('Remote end closed connection without response',))\n",
      "('Connection aborted.', RemoteDisconnected('Remote end closed connection without response',))\n",
      "('Connection aborted.', RemoteDisconnected('Remote end closed connection without response',))\n",
      "('Connection aborted.', RemoteDisconnected('Remote end closed connection without response',))\n",
      "('Connection aborted.', RemoteDisconnected('Remote end closed connection without response',))\n",
      "('Connection aborted.', RemoteDisconnected('Remote end closed connection without response',))\n",
      "('Connection aborted.', RemoteDisconnected('Remote end closed connection without response',))\n",
      "('Connection aborted.', RemoteDisconnected('Remote end closed connection without response',))\n",
      "('Connection aborted.', RemoteDisconnected('Remote end closed connection without response',))\n",
      "('Connection aborted.', RemoteDisconnected('Remote end closed connection without response',))\n",
      "('Connection aborted.', RemoteDisconnected('Remote end closed connection without response',))\n",
      "('Connection aborted.', RemoteDisconnected('Remote end closed connection without response',))\n",
      "('Connection aborted.', RemoteDisconnected('Remote end closed connection without response',))\n"
     ]
    },
    {
     "name": "stderr",
     "output_type": "stream",
     "text": [
      "INFO:Downloaded images for: poison ivy plant x 2500\n",
      "/usr/local/lib/python3.6/dist-packages/PIL/Image.py:976: UserWarning: Palette images with Transparency expressed in bytes should be converted to RGBA images\n",
      "  \"Palette images with Transparency expressed in bytes should be \"\n"
     ]
    },
    {
     "name": "stdout",
     "output_type": "stream",
     "text": [
      "CPU times: user 3min 54s, sys: 16.3 s, total: 4min 10s\n",
      "Wall time: 20min 33s\n"
     ]
    }
   ],
   "source": [
    "%%time\n",
    "# Positive images\n",
    "n_positive_each = int(n_positive_examples / len(positive_terms))\n",
    "df_pos = gather_and_store_image_script({pos_term: n_positive_each\n",
    "                                        for pos_term in positive_terms},\n",
    "                                       str(Path(store_path, 'positive')))\n",
    "df_pos['label'] = 1\n",
    "df_pos['label_str'] = 'positive'"
   ]
  },
  {
   "cell_type": "code",
   "execution_count": 11,
   "metadata": {},
   "outputs": [
    {
     "name": "stderr",
     "output_type": "stream",
     "text": [
      "INFO:Starting download for: Box elder plant x 250\n",
      "INFO:Downloaded images for: Box elder plant x 250\n",
      "INFO:Starting download for: Virgin's bower plant x 250\n",
      "INFO:Downloaded images for: Virgin's bower plant x 250\n",
      "INFO:Starting download for: Virginia creeper plant x 250\n"
     ]
    },
    {
     "name": "stdout",
     "output_type": "stream",
     "text": [
      "('Connection aborted.', RemoteDisconnected('Remote end closed connection without response',))\n",
      "('Connection aborted.', RemoteDisconnected('Remote end closed connection without response',))\n",
      "('Connection aborted.', RemoteDisconnected('Remote end closed connection without response',))\n"
     ]
    },
    {
     "name": "stderr",
     "output_type": "stream",
     "text": [
      "INFO:Downloaded images for: Virginia creeper plant x 250\n",
      "INFO:Starting download for: Western poison oak plant x 250\n"
     ]
    },
    {
     "name": "stdout",
     "output_type": "stream",
     "text": [
      "HTTPSConnectionPool(host='cleverhomestead.com', port=443): Max retries exceeded with url: /wp-content/uploads/2013/12/poison-ivy-eastern-western-toxicodendron-radicans-rydbergii-featured-1280x640.jpg (Caused by NewConnectionError('<urllib3.connection.HTTPSConnection object at 0x7f6d8d04db00>: Failed to establish a new connection: [Errno 111] Connection refused',))\n",
      "HTTPSConnectionPool(host='cleverhomestead.com', port=443): Max retries exceeded with url: /wp-content/uploads/2013/12/poison-ivy-eastern-western-toxicodendron-radicans-rydbergii-featured-1280x640.jpg (Caused by NewConnectionError('<urllib3.connection.HTTPSConnection object at 0x7f6d8d04efd0>: Failed to establish a new connection: [Errno 111] Connection refused',))\n",
      "HTTPSConnectionPool(host='cleverhomestead.com', port=443): Max retries exceeded with url: /wp-content/uploads/2013/12/poison-ivy-eastern-western-toxicodendron-radicans-rydbergii-featured-1280x640.jpg (Caused by NewConnectionError('<urllib3.connection.HTTPSConnection object at 0x7f6d8d04e470>: Failed to establish a new connection: [Errno 111] Connection refused',))\n",
      "HTTPSConnectionPool(host='cleverhomestead.com', port=443): Max retries exceeded with url: /wp-content/uploads/2013/12/poison-ivy-eastern-western-toxicodendron-radicans-rydbergii-featured-1280x640.jpg (Caused by NewConnectionError('<urllib3.connection.HTTPSConnection object at 0x7f6d8d04dcf8>: Failed to establish a new connection: [Errno 111] Connection refused',))\n"
     ]
    },
    {
     "name": "stderr",
     "output_type": "stream",
     "text": [
      "INFO:Downloaded images for: Western poison oak plant x 250\n",
      "INFO:Starting download for: Poison sumac plant x 250\n"
     ]
    },
    {
     "name": "stdout",
     "output_type": "stream",
     "text": [
      "HTTPSConnectionPool(host='cleverhomestead.com', port=443): Max retries exceeded with url: /wp-content/uploads/2013/02/poison-sumac-toxicodendron-vernix-featured-1280x640.jpg (Caused by NewConnectionError('<urllib3.connection.HTTPSConnection object at 0x7f6d8d049da0>: Failed to establish a new connection: [Errno 111] Connection refused',))\n",
      "HTTPSConnectionPool(host='cleverhomestead.com', port=443): Max retries exceeded with url: /wp-content/uploads/2013/02/poison-sumac-toxicodendron-vernix-featured-1280x640.jpg (Caused by NewConnectionError('<urllib3.connection.HTTPSConnection object at 0x7f6d8d0066d8>: Failed to establish a new connection: [Errno 111] Connection refused',))\n",
      "HTTPSConnectionPool(host='cleverhomestead.com', port=443): Max retries exceeded with url: /wp-content/uploads/2013/02/poison-sumac-toxicodendron-vernix-featured-1280x640.jpg (Caused by NewConnectionError('<urllib3.connection.HTTPSConnection object at 0x7f6d8d006470>: Failed to establish a new connection: [Errno 111] Connection refused',))\n"
     ]
    },
    {
     "name": "stderr",
     "output_type": "stream",
     "text": [
      "INFO:Downloaded images for: Poison sumac plant x 250\n",
      "INFO:Starting download for: Kudzu plant x 250\n"
     ]
    },
    {
     "name": "stdout",
     "output_type": "stream",
     "text": [
      "('Connection aborted.', RemoteDisconnected('Remote end closed connection without response',))\n",
      "('Connection aborted.', OSError(0, 'Error'))\n",
      "('Connection aborted.', RemoteDisconnected('Remote end closed connection without response',))\n",
      "('Connection aborted.', OSError(0, 'Error'))\n",
      "('Connection aborted.', RemoteDisconnected('Remote end closed connection without response',))\n",
      "('Connection aborted.', OSError(0, 'Error'))\n",
      "('Connection aborted.', RemoteDisconnected('Remote end closed connection without response',))\n"
     ]
    },
    {
     "name": "stderr",
     "output_type": "stream",
     "text": [
      "INFO:Downloaded images for: Kudzu plant x 250\n",
      "INFO:Starting download for: Blackberries plant x 250\n"
     ]
    },
    {
     "name": "stdout",
     "output_type": "stream",
     "text": [
      "HTTPSConnectionPool(host='www.willisorchards.com', port=443): Max retries exceeded with url: //system/products/images/858/original/natchez_thornless_blackberry_plant-image2.jpg?1370582558 (Caused by SSLError(SSLError(1, '[SSL: CERTIFICATE_VERIFY_FAILED] certificate verify failed (_ssl.c:852)'),))\n",
      "HTTPSConnectionPool(host='www.willisorchards.com', port=443): Max retries exceeded with url: //system/products/images/858/original/natchez_thornless_blackberry_plant-image2.jpg?1370582558 (Caused by SSLError(SSLError(1, '[SSL: CERTIFICATE_VERIFY_FAILED] certificate verify failed (_ssl.c:852)'),))\n",
      "HTTPSConnectionPool(host='www.willisorchards.com', port=443): Max retries exceeded with url: //system/products/images/858/original/natchez_thornless_blackberry_plant-image2.jpg?1370582558 (Caused by SSLError(SSLError(1, '[SSL: CERTIFICATE_VERIFY_FAILED] certificate verify failed (_ssl.c:852)'),))\n"
     ]
    },
    {
     "name": "stderr",
     "output_type": "stream",
     "text": [
      "INFO:Downloaded images for: Blackberries plant x 250\n",
      "INFO:Starting download for: Strawberries plant x 250\n"
     ]
    },
    {
     "name": "stdout",
     "output_type": "stream",
     "text": [
      "HTTPSConnectionPool(host='wiki.nurserylive.com', port=443): Max retries exceeded with url: /uploads/default/original/1X/5d4fca7fec9be8618e016588350d62ad547a1691.png (Caused by SSLError(SSLError(1, '[SSL: CERTIFICATE_VERIFY_FAILED] certificate verify failed (_ssl.c:852)'),))\n",
      "HTTPSConnectionPool(host='wiki.nurserylive.com', port=443): Max retries exceeded with url: /uploads/default/original/1X/5d4fca7fec9be8618e016588350d62ad547a1691.png (Caused by SSLError(SSLError(1, '[SSL: CERTIFICATE_VERIFY_FAILED] certificate verify failed (_ssl.c:852)'),))\n",
      "HTTPSConnectionPool(host='wiki.nurserylive.com', port=443): Max retries exceeded with url: /uploads/default/original/1X/5d4fca7fec9be8618e016588350d62ad547a1691.png (Caused by SSLError(SSLError(1, '[SSL: CERTIFICATE_VERIFY_FAILED] certificate verify failed (_ssl.c:852)'),))\n"
     ]
    },
    {
     "name": "stderr",
     "output_type": "stream",
     "text": [
      "INFO:Downloaded images for: Strawberries plant x 250\n",
      "INFO:Starting download for: Fragrant sumac plant x 250\n",
      "WARNING:Certificate did not match expected hostname: 64.209.142.95. Certificate: {'subject': ((('commonName', 'www.estabrooksonline.com'),),), 'issuer': ((('countryName', 'US'),), (('organizationName', 'DigiCert Inc'),), (('organizationalUnitName', 'www.digicert.com'),), (('commonName', 'RapidSSL RSA CA 2018'),)), 'version': 3, 'serialNumber': '05F73E85D20D28DAD4A2E6974F51B32A', 'notBefore': 'Jan 16 00:00:00 2020 GMT', 'notAfter': 'Apr 16 12:00:00 2022 GMT', 'subjectAltName': (('DNS', 'www.estabrooksonline.com'), ('DNS', 'estabrooksonline.com')), 'OCSP': ('http://status.rapidssl.com',), 'caIssuers': ('http://cacerts.rapidssl.com/RapidSSLRSACA2018.crt',), 'crlDistributionPoints': ('http://cdp.rapidssl.com/RapidSSLRSACA2018.crl',)}\n"
     ]
    },
    {
     "name": "stdout",
     "output_type": "stream",
     "text": [
      "HTTPSConnectionPool(host='64.209.142.95', port=443): Max retries exceeded with url: /images/products/rhus_lacette.jpg (Caused by SSLError(CertificateError(\"hostname '64.209.142.95' doesn't match either of 'www.estabrooksonline.com', 'estabrooksonline.com'\",),))\n"
     ]
    },
    {
     "name": "stderr",
     "output_type": "stream",
     "text": [
      "WARNING:Certificate did not match expected hostname: 64.209.142.95. Certificate: {'subject': ((('commonName', 'www.estabrooksonline.com'),),), 'issuer': ((('countryName', 'US'),), (('organizationName', 'DigiCert Inc'),), (('organizationalUnitName', 'www.digicert.com'),), (('commonName', 'RapidSSL RSA CA 2018'),)), 'version': 3, 'serialNumber': '05F73E85D20D28DAD4A2E6974F51B32A', 'notBefore': 'Jan 16 00:00:00 2020 GMT', 'notAfter': 'Apr 16 12:00:00 2022 GMT', 'subjectAltName': (('DNS', 'www.estabrooksonline.com'), ('DNS', 'estabrooksonline.com')), 'OCSP': ('http://status.rapidssl.com',), 'caIssuers': ('http://cacerts.rapidssl.com/RapidSSLRSACA2018.crt',), 'crlDistributionPoints': ('http://cdp.rapidssl.com/RapidSSLRSACA2018.crl',)}\n"
     ]
    },
    {
     "name": "stdout",
     "output_type": "stream",
     "text": [
      "HTTPSConnectionPool(host='64.209.142.95', port=443): Max retries exceeded with url: /images/products/rhus_lacette.jpg (Caused by SSLError(CertificateError(\"hostname '64.209.142.95' doesn't match either of 'www.estabrooksonline.com', 'estabrooksonline.com'\",),))\n"
     ]
    },
    {
     "name": "stderr",
     "output_type": "stream",
     "text": [
      "WARNING:Certificate did not match expected hostname: 64.209.142.95. Certificate: {'subject': ((('commonName', 'www.estabrooksonline.com'),),), 'issuer': ((('countryName', 'US'),), (('organizationName', 'DigiCert Inc'),), (('organizationalUnitName', 'www.digicert.com'),), (('commonName', 'RapidSSL RSA CA 2018'),)), 'version': 3, 'serialNumber': '05F73E85D20D28DAD4A2E6974F51B32A', 'notBefore': 'Jan 16 00:00:00 2020 GMT', 'notAfter': 'Apr 16 12:00:00 2022 GMT', 'subjectAltName': (('DNS', 'www.estabrooksonline.com'), ('DNS', 'estabrooksonline.com')), 'OCSP': ('http://status.rapidssl.com',), 'caIssuers': ('http://cacerts.rapidssl.com/RapidSSLRSACA2018.crt',), 'crlDistributionPoints': ('http://cdp.rapidssl.com/RapidSSLRSACA2018.crl',)}\n"
     ]
    },
    {
     "name": "stdout",
     "output_type": "stream",
     "text": [
      "HTTPSConnectionPool(host='64.209.142.95', port=443): Max retries exceeded with url: /images/products/rhus_lacette.jpg (Caused by SSLError(CertificateError(\"hostname '64.209.142.95' doesn't match either of 'www.estabrooksonline.com', 'estabrooksonline.com'\",),))\n"
     ]
    },
    {
     "name": "stderr",
     "output_type": "stream",
     "text": [
      "INFO:Downloaded images for: Fragrant sumac plant x 250\n",
      "INFO:Starting download for: Hoptree plant x 250\n"
     ]
    },
    {
     "name": "stdout",
     "output_type": "stream",
     "text": [
      "HTTPSConnectionPool(host='centraldata.gardenconnect.com', port=443): Max retries exceeded with url: /files/images/plantguide/plant_3011dda0aa_n.jpg (Caused by NewConnectionError('<urllib3.connection.HTTPSConnection object at 0x7f6d8cf27eb8>: Failed to establish a new connection: [Errno 111] Connection refused',))\n",
      "HTTPSConnectionPool(host='centraldata.gardenconnect.com', port=443): Max retries exceeded with url: /files/images/plantguide/plant_b984a5c4de_n.jpg (Caused by NewConnectionError('<urllib3.connection.HTTPSConnection object at 0x7f6d8cf27278>: Failed to establish a new connection: [Errno 111] Connection refused',))\n",
      "HTTPSConnectionPool(host='centraldata.gardenconnect.com', port=443): Max retries exceeded with url: /files/images/plantguide/plant_3011dda0aa_n.jpg (Caused by NewConnectionError('<urllib3.connection.HTTPSConnection object at 0x7f6d8cfd22e8>: Failed to establish a new connection: [Errno 111] Connection refused',))\n",
      "HTTPSConnectionPool(host='centraldata.gardenconnect.com', port=443): Max retries exceeded with url: /files/images/plantguide/plant_b984a5c4de_n.jpg (Caused by NewConnectionError('<urllib3.connection.HTTPSConnection object at 0x7f6d8cfd2a90>: Failed to establish a new connection: [Errno 111] Connection refused',))\n",
      "HTTPSConnectionPool(host='centraldata.gardenconnect.com', port=443): Max retries exceeded with url: /files/images/plantguide/plant_3011dda0aa_n.jpg (Caused by NewConnectionError('<urllib3.connection.HTTPSConnection object at 0x7f6d8cf27a20>: Failed to establish a new connection: [Errno 111] Connection refused',))\n",
      "HTTPSConnectionPool(host='centraldata.gardenconnect.com', port=443): Max retries exceeded with url: /files/images/plantguide/plant_b984a5c4de_n.jpg (Caused by NewConnectionError('<urllib3.connection.HTTPSConnection object at 0x7f6d8cfd2128>: Failed to establish a new connection: [Errno 111] Connection refused',))\n"
     ]
    },
    {
     "name": "stderr",
     "output_type": "stream",
     "text": [
      "INFO:Downloaded images for: Hoptree plant x 250\n"
     ]
    },
    {
     "name": "stdout",
     "output_type": "stream",
     "text": [
      "CPU times: user 2min 47s, sys: 9.05 s, total: 2min 56s\n",
      "Wall time: 19min 43s\n"
     ]
    }
   ],
   "source": [
    "%%time\n",
    "# Negative images\n",
    "n_negative_each = int(n_negative_examples / len(negative_terms))\n",
    "df_neg = gather_and_store_image_script({neg_term: n_negative_each\n",
    "                                        for neg_term in negative_terms},\n",
    "                                       str(Path(store_path, 'negative')),\n",
    "                                       clean_dest_dir=False)\n",
    "df_neg['label'] = 0\n",
    "df_neg['label_str'] = 'negative'"
   ]
  },
  {
   "cell_type": "markdown",
   "metadata": {},
   "source": [
    "## Supplement with ImageNet and PlantNet data "
   ]
  },
  {
   "cell_type": "markdown",
   "metadata": {},
   "source": [
    "### Plantnet Data"
   ]
  },
  {
   "cell_type": "code",
   "execution_count": 12,
   "metadata": {},
   "outputs": [],
   "source": [
    "\n",
    "def gather_and_store_plantnet_images(dest_dir: str, download_dir: str,\n",
    "                                     nb_samples: int =5, min_dim: int = 5) -> pd.DataFrame:\n",
    "    \"\"\"\n",
    "    Downloads images via gbif_dl from Plantnet database\n",
    "    Resizes and moves to dest_dir for final storage\n",
    "    \"\"\"\n",
    "    # Download images based on query\n",
    "    query = {\n",
    "        \"datasetKey\": [\n",
    "            PLANTNET_KEY,\n",
    "        ]\n",
    "    }\n",
    "    data_generator = gbif_dl.api.generate_urls(\n",
    "        queries=query,\n",
    "        label=\"speciesKey\",\n",
    "        nb_samples=nb_samples)\n",
    "    gbif_dl.io.download(data_generator, root=download_dir)\n",
    "    logging.info(\"Downloaded images\")\n",
    "\n",
    "    # Move + resize images, store metadata    \n",
    "    image_metadata = []\n",
    "    dest_path = Path(dest_dir)\n",
    "    for n_iter, img_loc in enumerate(glob(str(Path(plantnet_dl_target_path, '**', '*')))):\n",
    "        img_path = Path(img_loc)\n",
    "        species_code = img_path.parents[0].name\n",
    "        file_name = f\"Plantnet_image-{n_iter+1}_species-{species_code}.jpg\"\n",
    "        download_name = img_path.name\n",
    "        dest_loc = Path(dest_path, file_name)\n",
    "            \n",
    "        img_data = {\n",
    "            \"download_loc\": str(img_path),\n",
    "            \"final_loc\": str(dest_loc),\n",
    "            \"full_path\": str(dest_loc.absolute().resolve()),\n",
    "            \"search_term\": species_code,\n",
    "            \"source\": \"Plantnet\",\n",
    "            \"file_name\": file_name,\n",
    "            \"download_name\": download_name\n",
    "        }\n",
    "            \n",
    "        try:\n",
    "            img = Image.open(img_path).convert('RGB')\n",
    "            img_data['read'] = True\n",
    "        except UnidentifiedImageError:\n",
    "            img_data['read'] = False\n",
    "        \n",
    "        if img_data['read']:\n",
    "            img_data['orig_width'], img_data['orig_height'] = img.size\n",
    "            img_data['width'], img_data['height'] = resize_by_min_dim((img_data['orig_width'],\n",
    "                                                                        img_data['orig_height']), min_dim=min_dim)\n",
    "            resized_img = img.resize((img_data['width'], img_data['height']), Image.ANTIALIAS)\n",
    "            resized_img.save(img_data['final_loc'], 'JPEG', quality=90)\n",
    "        \n",
    "        image_metadata.append(img_data)\n",
    "    return(pd.DataFrame(image_metadata).set_index(\"file_name\"))\n"
   ]
  },
  {
   "cell_type": "code",
   "execution_count": 13,
   "metadata": {},
   "outputs": [
    {
     "name": "stdout",
     "output_type": "stream",
     "text": [
      "2000\n"
     ]
    },
    {
     "name": "stderr",
     "output_type": "stream",
     "text": [
      "2000 Files [00:12, 153.91 Files/s]\n",
      "INFO:Downloaded images\n"
     ]
    },
    {
     "name": "stdout",
     "output_type": "stream",
     "text": [
      "CPU times: user 32 s, sys: 472 ms, total: 32.4 s\n",
      "Wall time: 45.9 s\n"
     ]
    }
   ],
   "source": [
    "%%time\n",
    "df_PN = gather_and_store_plantnet_images(dest_dir=str(Path(store_path, 'negative')),\n",
    "                                         download_dir=str(plantnet_dl_target_path),\n",
    "                                         nb_samples=n_plantnet_examples)\n",
    "df_PN['label'] = 0\n",
    "df_PN['label_str'] = 'negative'"
   ]
  },
  {
   "cell_type": "markdown",
   "metadata": {},
   "source": [
    "### Imagenet\n",
    "\n",
    "Imagenet images were downloaded directly from: https://www.kaggle.com/ifigotin/imagenetmini-1000"
   ]
  },
  {
   "cell_type": "code",
   "execution_count": 14,
   "metadata": {},
   "outputs": [],
   "source": [
    "imagenet_term_dict = {}\n",
    "with open(imagenet_term_dict_path, 'r') as f:\n",
    "    for i, line in enumerate(f.readlines()):\n",
    "        term_id, terms = line.split(None, maxsplit=1)\n",
    "        imagenet_term_dict[term_id] = terms.replace('\\n', '')"
   ]
  },
  {
   "cell_type": "code",
   "execution_count": 15,
   "metadata": {},
   "outputs": [
    {
     "data": {
      "text/plain": [
       "['shiva, shivah, shibah',\n",
       " 'epoch, date of reference',\n",
       " 'clotting time',\n",
       " 'rotational latency, latency',\n",
       " 'probation',\n",
       " 'probation',\n",
       " 'processing time',\n",
       " 'air alert',\n",
       " 'command processing overhead time, command processing overhead, command overhead, overhead',\n",
       " 'Great Schism',\n",
       " 'question time',\n",
       " 'real time',\n",
       " 'real time',\n",
       " 'regency',\n",
       " 'snap',\n",
       " 'study hall',\n",
       " 'Transfiguration, Transfiguration Day, August 6',\n",
       " 'usance',\n",
       " 'window',\n",
       " '9/11, 9-11, September 11, Sept. 11, Sep 11']"
      ]
     },
     "execution_count": 15,
     "metadata": {},
     "output_type": "execute_result"
    }
   ],
   "source": [
    "[*imagenet_term_dict.values()][-20:]"
   ]
  },
  {
   "cell_type": "code",
   "execution_count": 16,
   "metadata": {},
   "outputs": [],
   "source": [
    "\n",
    "def gather_and_store_local_downloaded_images(dest_dir: str, local_download_dir: str,\n",
    "                                             term_dict: Dict[str, str],\n",
    "                                             min_dim: int = 500,\n",
    "                                             source_name: str = \"Imagenet\") -> pd.DataFrame:\n",
    "    \"\"\"\n",
    "    Gathers pre-downloaded images stored in a local directory\n",
    "    Moves destination directory\n",
    "    Resizes images down to have a smaller dimension of \"min_dim\" and stores as jpg\n",
    "    Uses nid_dict to assign search terms from subfolder names\n",
    "    Stores metadata in dataframe and returns dataframe\n",
    "    \"\"\"\n",
    "\n",
    "    # Move + resize images, store metadata    \n",
    "    image_metadata = []\n",
    "    dest_path = Path(dest_dir)\n",
    "    for n_iter, img_loc in enumerate(glob(str(Path(local_download_dir, '**', '*')))):\n",
    "        img_path = Path(img_loc)\n",
    "        image_key = img_path.parents[0].name\n",
    "        image_term = term_dict[image_key]\n",
    "        file_name = f\"{source_name}_image-{n_iter+1}_term_{image_key}.jpg\"\n",
    "        download_name = img_path.name\n",
    "        dest_loc = Path(dest_path, file_name)\n",
    "            \n",
    "        img_data = {\n",
    "            \"download_loc\": str(img_path),\n",
    "            \"final_loc\": str(dest_loc),\n",
    "            \"full_path\": str(dest_loc.absolute().resolve()),\n",
    "            \"search_term\": f\"{image_key}: {image_term}\",\n",
    "            \"source\": source_name,\n",
    "            \"file_name\": file_name,\n",
    "            \"download_name\": download_name\n",
    "        }\n",
    "            \n",
    "        try:\n",
    "            img = Image.open(img_path).convert('RGB')\n",
    "            img_data['read'] = True\n",
    "        except UnidentifiedImageError:\n",
    "            img_data['read'] = False\n",
    "        \n",
    "        if img_data['read']:\n",
    "            img_data['orig_width'], img_data['orig_height'] = img.size\n",
    "            img_data['width'], img_data['height'] = resize_by_min_dim((img_data['orig_width'],\n",
    "                                                                        img_data['orig_height']), min_dim=min_dim)\n",
    "            resized_img = img.resize((img_data['width'], img_data['height']), Image.ANTIALIAS)\n",
    "            resized_img.save(img_data['final_loc'], 'JPEG', quality=90)\n",
    "        \n",
    "        image_metadata.append(img_data)\n",
    "    return(pd.DataFrame(image_metadata).set_index(\"file_name\"))\n"
   ]
  },
  {
   "cell_type": "code",
   "execution_count": 50,
   "metadata": {},
   "outputs": [
    {
     "name": "stdout",
     "output_type": "stream",
     "text": [
      "CPU times: user 50.2 s, sys: 5.5 s, total: 55.7 s\n",
      "Wall time: 55.7 s\n"
     ]
    }
   ],
   "source": [
    "%%time\n",
    "df_IN = gather_and_store_local_downloaded_images(dest_dir=str(Path(store_path, 'negative')),\n",
    "                                                 local_download_dir=str(imagenet_download_path),\n",
    "                                                 term_dict=imagenet_term_dict,\n",
    "                                                 source_name=\"Imagenet\")\n",
    "\n",
    "df_IN['label'] = 0\n",
    "df_IN['label_str'] = 'negative'"
   ]
  },
  {
   "cell_type": "code",
   "execution_count": 51,
   "metadata": {},
   "outputs": [
    {
     "data": {
      "text/html": [
       "<div>\n",
       "<style scoped>\n",
       "    .dataframe tbody tr th:only-of-type {\n",
       "        vertical-align: middle;\n",
       "    }\n",
       "\n",
       "    .dataframe tbody tr th {\n",
       "        vertical-align: top;\n",
       "    }\n",
       "\n",
       "    .dataframe thead th {\n",
       "        text-align: right;\n",
       "    }\n",
       "</style>\n",
       "<table border=\"1\" class=\"dataframe\">\n",
       "  <thead>\n",
       "    <tr style=\"text-align: right;\">\n",
       "      <th></th>\n",
       "      <th>download_loc</th>\n",
       "      <th>final_loc</th>\n",
       "      <th>full_path</th>\n",
       "      <th>search_term</th>\n",
       "      <th>source</th>\n",
       "      <th>download_name</th>\n",
       "      <th>read</th>\n",
       "      <th>orig_width</th>\n",
       "      <th>orig_height</th>\n",
       "      <th>width</th>\n",
       "      <th>height</th>\n",
       "      <th>label</th>\n",
       "      <th>label_str</th>\n",
       "    </tr>\n",
       "    <tr>\n",
       "      <th>file_name</th>\n",
       "      <th></th>\n",
       "      <th></th>\n",
       "      <th></th>\n",
       "      <th></th>\n",
       "      <th></th>\n",
       "      <th></th>\n",
       "      <th></th>\n",
       "      <th></th>\n",
       "      <th></th>\n",
       "      <th></th>\n",
       "      <th></th>\n",
       "      <th></th>\n",
       "      <th></th>\n",
       "    </tr>\n",
       "  </thead>\n",
       "  <tbody>\n",
       "    <tr>\n",
       "      <th>Imagenet_image-1_term_n01689811.jpg</th>\n",
       "      <td>../datasets/pipeline_v1/imagenet_mini_raw/val/...</td>\n",
       "      <td>../datasets/pipeline_v1/downloaded_images/nega...</td>\n",
       "      <td>/home/code/datasets/pipeline_v1/downloaded_ima...</td>\n",
       "      <td>n01689811: alligator lizard</td>\n",
       "      <td>Imagenet</td>\n",
       "      <td>ILSVRC2012_val_00016357.JPEG</td>\n",
       "      <td>True</td>\n",
       "      <td>500</td>\n",
       "      <td>375</td>\n",
       "      <td>500</td>\n",
       "      <td>375</td>\n",
       "      <td>0</td>\n",
       "      <td>negative</td>\n",
       "    </tr>\n",
       "    <tr>\n",
       "      <th>Imagenet_image-2_term_n01689811.jpg</th>\n",
       "      <td>../datasets/pipeline_v1/imagenet_mini_raw/val/...</td>\n",
       "      <td>../datasets/pipeline_v1/downloaded_images/nega...</td>\n",
       "      <td>/home/code/datasets/pipeline_v1/downloaded_ima...</td>\n",
       "      <td>n01689811: alligator lizard</td>\n",
       "      <td>Imagenet</td>\n",
       "      <td>ILSVRC2012_val_00038667.JPEG</td>\n",
       "      <td>True</td>\n",
       "      <td>500</td>\n",
       "      <td>387</td>\n",
       "      <td>500</td>\n",
       "      <td>387</td>\n",
       "      <td>0</td>\n",
       "      <td>negative</td>\n",
       "    </tr>\n",
       "    <tr>\n",
       "      <th>Imagenet_image-3_term_n01689811.jpg</th>\n",
       "      <td>../datasets/pipeline_v1/imagenet_mini_raw/val/...</td>\n",
       "      <td>../datasets/pipeline_v1/downloaded_images/nega...</td>\n",
       "      <td>/home/code/datasets/pipeline_v1/downloaded_ima...</td>\n",
       "      <td>n01689811: alligator lizard</td>\n",
       "      <td>Imagenet</td>\n",
       "      <td>ILSVRC2012_val_00043624.JPEG</td>\n",
       "      <td>True</td>\n",
       "      <td>500</td>\n",
       "      <td>375</td>\n",
       "      <td>500</td>\n",
       "      <td>375</td>\n",
       "      <td>0</td>\n",
       "      <td>negative</td>\n",
       "    </tr>\n",
       "    <tr>\n",
       "      <th>Imagenet_image-4_term_n04591713.jpg</th>\n",
       "      <td>../datasets/pipeline_v1/imagenet_mini_raw/val/...</td>\n",
       "      <td>../datasets/pipeline_v1/downloaded_images/nega...</td>\n",
       "      <td>/home/code/datasets/pipeline_v1/downloaded_ima...</td>\n",
       "      <td>n04591713: wine bottle</td>\n",
       "      <td>Imagenet</td>\n",
       "      <td>ILSVRC2012_val_00028267.JPEG</td>\n",
       "      <td>True</td>\n",
       "      <td>375</td>\n",
       "      <td>500</td>\n",
       "      <td>375</td>\n",
       "      <td>500</td>\n",
       "      <td>0</td>\n",
       "      <td>negative</td>\n",
       "    </tr>\n",
       "    <tr>\n",
       "      <th>Imagenet_image-5_term_n04591713.jpg</th>\n",
       "      <td>../datasets/pipeline_v1/imagenet_mini_raw/val/...</td>\n",
       "      <td>../datasets/pipeline_v1/downloaded_images/nega...</td>\n",
       "      <td>/home/code/datasets/pipeline_v1/downloaded_ima...</td>\n",
       "      <td>n04591713: wine bottle</td>\n",
       "      <td>Imagenet</td>\n",
       "      <td>ILSVRC2012_val_00021988.JPEG</td>\n",
       "      <td>True</td>\n",
       "      <td>463</td>\n",
       "      <td>500</td>\n",
       "      <td>463</td>\n",
       "      <td>500</td>\n",
       "      <td>0</td>\n",
       "      <td>negative</td>\n",
       "    </tr>\n",
       "  </tbody>\n",
       "</table>\n",
       "</div>"
      ],
      "text/plain": [
       "                                                                          download_loc  \\\n",
       "file_name                                                                                \n",
       "Imagenet_image-1_term_n01689811.jpg  ../datasets/pipeline_v1/imagenet_mini_raw/val/...   \n",
       "Imagenet_image-2_term_n01689811.jpg  ../datasets/pipeline_v1/imagenet_mini_raw/val/...   \n",
       "Imagenet_image-3_term_n01689811.jpg  ../datasets/pipeline_v1/imagenet_mini_raw/val/...   \n",
       "Imagenet_image-4_term_n04591713.jpg  ../datasets/pipeline_v1/imagenet_mini_raw/val/...   \n",
       "Imagenet_image-5_term_n04591713.jpg  ../datasets/pipeline_v1/imagenet_mini_raw/val/...   \n",
       "\n",
       "                                                                             final_loc  \\\n",
       "file_name                                                                                \n",
       "Imagenet_image-1_term_n01689811.jpg  ../datasets/pipeline_v1/downloaded_images/nega...   \n",
       "Imagenet_image-2_term_n01689811.jpg  ../datasets/pipeline_v1/downloaded_images/nega...   \n",
       "Imagenet_image-3_term_n01689811.jpg  ../datasets/pipeline_v1/downloaded_images/nega...   \n",
       "Imagenet_image-4_term_n04591713.jpg  ../datasets/pipeline_v1/downloaded_images/nega...   \n",
       "Imagenet_image-5_term_n04591713.jpg  ../datasets/pipeline_v1/downloaded_images/nega...   \n",
       "\n",
       "                                                                             full_path  \\\n",
       "file_name                                                                                \n",
       "Imagenet_image-1_term_n01689811.jpg  /home/code/datasets/pipeline_v1/downloaded_ima...   \n",
       "Imagenet_image-2_term_n01689811.jpg  /home/code/datasets/pipeline_v1/downloaded_ima...   \n",
       "Imagenet_image-3_term_n01689811.jpg  /home/code/datasets/pipeline_v1/downloaded_ima...   \n",
       "Imagenet_image-4_term_n04591713.jpg  /home/code/datasets/pipeline_v1/downloaded_ima...   \n",
       "Imagenet_image-5_term_n04591713.jpg  /home/code/datasets/pipeline_v1/downloaded_ima...   \n",
       "\n",
       "                                                     search_term    source  \\\n",
       "file_name                                                                    \n",
       "Imagenet_image-1_term_n01689811.jpg  n01689811: alligator lizard  Imagenet   \n",
       "Imagenet_image-2_term_n01689811.jpg  n01689811: alligator lizard  Imagenet   \n",
       "Imagenet_image-3_term_n01689811.jpg  n01689811: alligator lizard  Imagenet   \n",
       "Imagenet_image-4_term_n04591713.jpg       n04591713: wine bottle  Imagenet   \n",
       "Imagenet_image-5_term_n04591713.jpg       n04591713: wine bottle  Imagenet   \n",
       "\n",
       "                                                    download_name  read  \\\n",
       "file_name                                                                 \n",
       "Imagenet_image-1_term_n01689811.jpg  ILSVRC2012_val_00016357.JPEG  True   \n",
       "Imagenet_image-2_term_n01689811.jpg  ILSVRC2012_val_00038667.JPEG  True   \n",
       "Imagenet_image-3_term_n01689811.jpg  ILSVRC2012_val_00043624.JPEG  True   \n",
       "Imagenet_image-4_term_n04591713.jpg  ILSVRC2012_val_00028267.JPEG  True   \n",
       "Imagenet_image-5_term_n04591713.jpg  ILSVRC2012_val_00021988.JPEG  True   \n",
       "\n",
       "                                     orig_width  orig_height  width  height  \\\n",
       "file_name                                                                     \n",
       "Imagenet_image-1_term_n01689811.jpg         500          375    500     375   \n",
       "Imagenet_image-2_term_n01689811.jpg         500          387    500     387   \n",
       "Imagenet_image-3_term_n01689811.jpg         500          375    500     375   \n",
       "Imagenet_image-4_term_n04591713.jpg         375          500    375     500   \n",
       "Imagenet_image-5_term_n04591713.jpg         463          500    463     500   \n",
       "\n",
       "                                     label label_str  \n",
       "file_name                                             \n",
       "Imagenet_image-1_term_n01689811.jpg      0  negative  \n",
       "Imagenet_image-2_term_n01689811.jpg      0  negative  \n",
       "Imagenet_image-3_term_n01689811.jpg      0  negative  \n",
       "Imagenet_image-4_term_n04591713.jpg      0  negative  \n",
       "Imagenet_image-5_term_n04591713.jpg      0  negative  "
      ]
     },
     "execution_count": 51,
     "metadata": {},
     "output_type": "execute_result"
    }
   ],
   "source": [
    "df_IN.head()"
   ]
  },
  {
   "cell_type": "markdown",
   "metadata": {},
   "source": [
    "## Analyze and store metadata"
   ]
  },
  {
   "cell_type": "code",
   "execution_count": 52,
   "metadata": {},
   "outputs": [
    {
     "data": {
      "text/html": [
       "<div>\n",
       "<style scoped>\n",
       "    .dataframe tbody tr th:only-of-type {\n",
       "        vertical-align: middle;\n",
       "    }\n",
       "\n",
       "    .dataframe tbody tr th {\n",
       "        vertical-align: top;\n",
       "    }\n",
       "\n",
       "    .dataframe thead th {\n",
       "        text-align: right;\n",
       "    }\n",
       "</style>\n",
       "<table border=\"1\" class=\"dataframe\">\n",
       "  <thead>\n",
       "    <tr style=\"text-align: right;\">\n",
       "      <th></th>\n",
       "      <th>download_loc</th>\n",
       "      <th>final_loc</th>\n",
       "      <th>full_path</th>\n",
       "      <th>search_term</th>\n",
       "      <th>source</th>\n",
       "      <th>read</th>\n",
       "      <th>orig_width</th>\n",
       "      <th>orig_height</th>\n",
       "      <th>width</th>\n",
       "      <th>height</th>\n",
       "      <th>label</th>\n",
       "      <th>label_str</th>\n",
       "      <th>download_name</th>\n",
       "    </tr>\n",
       "    <tr>\n",
       "      <th>file_name</th>\n",
       "      <th></th>\n",
       "      <th></th>\n",
       "      <th></th>\n",
       "      <th></th>\n",
       "      <th></th>\n",
       "      <th></th>\n",
       "      <th></th>\n",
       "      <th></th>\n",
       "      <th></th>\n",
       "      <th></th>\n",
       "      <th></th>\n",
       "      <th></th>\n",
       "      <th></th>\n",
       "    </tr>\n",
       "  </thead>\n",
       "  <tbody>\n",
       "    <tr>\n",
       "      <th>poison_ivy_plant_1095.jpg</th>\n",
       "      <td>simple_images/poison ivy plant/poison ivy plan...</td>\n",
       "      <td>../datasets/pipeline_v1/downloaded_images/posi...</td>\n",
       "      <td>/home/code/datasets/pipeline_v1/downloaded_ima...</td>\n",
       "      <td>poison ivy plant</td>\n",
       "      <td>Google Images</td>\n",
       "      <td>True</td>\n",
       "      <td>1024.0</td>\n",
       "      <td>575.0</td>\n",
       "      <td>890.0</td>\n",
       "      <td>500.0</td>\n",
       "      <td>1</td>\n",
       "      <td>positive</td>\n",
       "      <td>NaN</td>\n",
       "    </tr>\n",
       "    <tr>\n",
       "      <th>poison_ivy_plant_1556.jpg</th>\n",
       "      <td>simple_images/poison ivy plant/poison ivy plan...</td>\n",
       "      <td>../datasets/pipeline_v1/downloaded_images/posi...</td>\n",
       "      <td>/home/code/datasets/pipeline_v1/downloaded_ima...</td>\n",
       "      <td>poison ivy plant</td>\n",
       "      <td>Google Images</td>\n",
       "      <td>True</td>\n",
       "      <td>750.0</td>\n",
       "      <td>500.0</td>\n",
       "      <td>750.0</td>\n",
       "      <td>500.0</td>\n",
       "      <td>1</td>\n",
       "      <td>positive</td>\n",
       "      <td>NaN</td>\n",
       "    </tr>\n",
       "    <tr>\n",
       "      <th>poison_ivy_plant_1294.jpg</th>\n",
       "      <td>simple_images/poison ivy plant/poison ivy plan...</td>\n",
       "      <td>../datasets/pipeline_v1/downloaded_images/posi...</td>\n",
       "      <td>/home/code/datasets/pipeline_v1/downloaded_ima...</td>\n",
       "      <td>poison ivy plant</td>\n",
       "      <td>Google Images</td>\n",
       "      <td>True</td>\n",
       "      <td>1800.0</td>\n",
       "      <td>1013.0</td>\n",
       "      <td>888.0</td>\n",
       "      <td>500.0</td>\n",
       "      <td>1</td>\n",
       "      <td>positive</td>\n",
       "      <td>NaN</td>\n",
       "    </tr>\n",
       "    <tr>\n",
       "      <th>poison_ivy_plant_964.jpg</th>\n",
       "      <td>simple_images/poison ivy plant/poison ivy plan...</td>\n",
       "      <td>../datasets/pipeline_v1/downloaded_images/posi...</td>\n",
       "      <td>/home/code/datasets/pipeline_v1/downloaded_ima...</td>\n",
       "      <td>poison ivy plant</td>\n",
       "      <td>Google Images</td>\n",
       "      <td>True</td>\n",
       "      <td>480.0</td>\n",
       "      <td>310.0</td>\n",
       "      <td>480.0</td>\n",
       "      <td>310.0</td>\n",
       "      <td>1</td>\n",
       "      <td>positive</td>\n",
       "      <td>NaN</td>\n",
       "    </tr>\n",
       "    <tr>\n",
       "      <th>poison_ivy_plant_1526.jpg</th>\n",
       "      <td>simple_images/poison ivy plant/poison ivy plan...</td>\n",
       "      <td>../datasets/pipeline_v1/downloaded_images/posi...</td>\n",
       "      <td>/home/code/datasets/pipeline_v1/downloaded_ima...</td>\n",
       "      <td>poison ivy plant</td>\n",
       "      <td>Google Images</td>\n",
       "      <td>True</td>\n",
       "      <td>1600.0</td>\n",
       "      <td>1031.0</td>\n",
       "      <td>775.0</td>\n",
       "      <td>500.0</td>\n",
       "      <td>1</td>\n",
       "      <td>positive</td>\n",
       "      <td>NaN</td>\n",
       "    </tr>\n",
       "  </tbody>\n",
       "</table>\n",
       "</div>"
      ],
      "text/plain": [
       "                                                                download_loc  \\\n",
       "file_name                                                                      \n",
       "poison_ivy_plant_1095.jpg  simple_images/poison ivy plant/poison ivy plan...   \n",
       "poison_ivy_plant_1556.jpg  simple_images/poison ivy plant/poison ivy plan...   \n",
       "poison_ivy_plant_1294.jpg  simple_images/poison ivy plant/poison ivy plan...   \n",
       "poison_ivy_plant_964.jpg   simple_images/poison ivy plant/poison ivy plan...   \n",
       "poison_ivy_plant_1526.jpg  simple_images/poison ivy plant/poison ivy plan...   \n",
       "\n",
       "                                                                   final_loc  \\\n",
       "file_name                                                                      \n",
       "poison_ivy_plant_1095.jpg  ../datasets/pipeline_v1/downloaded_images/posi...   \n",
       "poison_ivy_plant_1556.jpg  ../datasets/pipeline_v1/downloaded_images/posi...   \n",
       "poison_ivy_plant_1294.jpg  ../datasets/pipeline_v1/downloaded_images/posi...   \n",
       "poison_ivy_plant_964.jpg   ../datasets/pipeline_v1/downloaded_images/posi...   \n",
       "poison_ivy_plant_1526.jpg  ../datasets/pipeline_v1/downloaded_images/posi...   \n",
       "\n",
       "                                                                   full_path  \\\n",
       "file_name                                                                      \n",
       "poison_ivy_plant_1095.jpg  /home/code/datasets/pipeline_v1/downloaded_ima...   \n",
       "poison_ivy_plant_1556.jpg  /home/code/datasets/pipeline_v1/downloaded_ima...   \n",
       "poison_ivy_plant_1294.jpg  /home/code/datasets/pipeline_v1/downloaded_ima...   \n",
       "poison_ivy_plant_964.jpg   /home/code/datasets/pipeline_v1/downloaded_ima...   \n",
       "poison_ivy_plant_1526.jpg  /home/code/datasets/pipeline_v1/downloaded_ima...   \n",
       "\n",
       "                                search_term         source  read  orig_width  \\\n",
       "file_name                                                                      \n",
       "poison_ivy_plant_1095.jpg  poison ivy plant  Google Images  True      1024.0   \n",
       "poison_ivy_plant_1556.jpg  poison ivy plant  Google Images  True       750.0   \n",
       "poison_ivy_plant_1294.jpg  poison ivy plant  Google Images  True      1800.0   \n",
       "poison_ivy_plant_964.jpg   poison ivy plant  Google Images  True       480.0   \n",
       "poison_ivy_plant_1526.jpg  poison ivy plant  Google Images  True      1600.0   \n",
       "\n",
       "                           orig_height  width  height  label label_str  \\\n",
       "file_name                                                                \n",
       "poison_ivy_plant_1095.jpg        575.0  890.0   500.0      1  positive   \n",
       "poison_ivy_plant_1556.jpg        500.0  750.0   500.0      1  positive   \n",
       "poison_ivy_plant_1294.jpg       1013.0  888.0   500.0      1  positive   \n",
       "poison_ivy_plant_964.jpg         310.0  480.0   310.0      1  positive   \n",
       "poison_ivy_plant_1526.jpg       1031.0  775.0   500.0      1  positive   \n",
       "\n",
       "                          download_name  \n",
       "file_name                                \n",
       "poison_ivy_plant_1095.jpg           NaN  \n",
       "poison_ivy_plant_1556.jpg           NaN  \n",
       "poison_ivy_plant_1294.jpg           NaN  \n",
       "poison_ivy_plant_964.jpg            NaN  \n",
       "poison_ivy_plant_1526.jpg           NaN  "
      ]
     },
     "execution_count": 52,
     "metadata": {},
     "output_type": "execute_result"
    }
   ],
   "source": [
    "df_ims = pd.concat([df_pos, df_neg, df_PN, df_IN])\n",
    "df_ims.head()"
   ]
  },
  {
   "cell_type": "code",
   "execution_count": 53,
   "metadata": {},
   "outputs": [
    {
     "data": {
      "image/png": "[encoded data removed]",
      "text/plain": [
       "<Figure size 432x288 with 1 Axes>"
      ]
     },
     "metadata": {
      "needs_background": "light"
     },
     "output_type": "display_data"
    }
   ],
   "source": [
    "sns.countplot(data=df_ims, x='label_str', hue='read')\n",
    "plt.title(\"Successfully read images by label\")\n",
    "plt.show()"
   ]
  },
  {
   "cell_type": "code",
   "execution_count": 54,
   "metadata": {},
   "outputs": [
    {
     "data": {
      "image/png": "[encoded data removed]",
      "text/plain": [
       "<Figure size 432x288 with 1 Axes>"
      ]
     },
     "metadata": {
      "needs_background": "light"
     },
     "output_type": "display_data"
    }
   ],
   "source": [
    "df_plot = df_ims[df_ims['source'] == 'Google Images']\n",
    "term_counts = df_plot['search_term'].value_counts()\n",
    "\n",
    "df_plot = df_plot.groupby(['search_term', 'read'])[['label_str']] \\\n",
    "    .count() \\\n",
    "    .rename({'label_str': 'count'}, axis=1) \\\n",
    "    .reset_index()\n",
    "    \n",
    "df_plot['frac'] = df_plot.apply(lambda row: row['count'] / term_counts[row['search_term']], axis=1)\n",
    "# df_plot.set_index('read').unstack()\n",
    "df_plot = df_plot.set_index(['search_term', 'read']).unstack()\n",
    "df_plot.plot.bar(y='frac', stacked=True, title='Readable images by search term for Google Images')\n",
    "plt.show()\n",
    "# sns.barplot(data=df_plot, x='search_term', y='frac', hue='read', dodge=False, s)"
   ]
  },
  {
   "cell_type": "code",
   "execution_count": 55,
   "metadata": {},
   "outputs": [
    {
     "data": {
      "image/png": "[encoded data removed]",
      "text/plain": [
       "<Figure size 432x288 with 1 Axes>"
      ]
     },
     "metadata": {
      "needs_background": "light"
     },
     "output_type": "display_data"
    }
   ],
   "source": [
    "sns.countplot(data=df_ims, x='source', hue='read')\n",
    "plt.title(\"Successfully read images by data source\")\n",
    "plt.show()"
   ]
  },
  {
   "cell_type": "markdown",
   "metadata": {},
   "source": [
    "### Make as CSV"
   ]
  },
  {
   "cell_type": "code",
   "execution_count": 56,
   "metadata": {},
   "outputs": [],
   "source": [
    "df_ims.to_csv(metadata_loc)"
   ]
  },
  {
   "cell_type": "markdown",
   "metadata": {},
   "source": [
    "### Make database"
   ]
  },
  {
   "cell_type": "code",
   "execution_count": 57,
   "metadata": {},
   "outputs": [
    {
     "name": "stdout",
     "output_type": "stream",
     "text": [
      "Database metadata already exists\n"
     ]
    }
   ],
   "source": [
    "def create_db_if_not_exists(db_name:str,\n",
    "                            user:str = \"postgres\",\n",
    "                            password:str = \"postgres\",\n",
    "                            port:int = 5432,\n",
    "                            prefix:str = \"postgresql\",\n",
    "                            server:str = \"localhost\",\n",
    "                            default_db:str = \"postgres\") -> None:\n",
    "    con_str = f\"{prefix}://{user}:{password}@{server}:{port}/{default_db}\"\n",
    "    with sqa.create_engine(con_str).connect() as con:\n",
    "        db_query = \"SELECT datname FROM pg_catalog.pg_database\"\n",
    "        dbs = set(db_val[0] for db_val in con.execute(db_query).fetchall())\n",
    "        if db_name in dbs:\n",
    "            print(f\"Database {db_name} already exists\")\n",
    "        else:\n",
    "            con.execute(\"commit\")\n",
    "            con.execute(f\"CREATE DATABASE {db_name}\")\n",
    "            \n",
    "create_db_if_not_exists(db_database, db_user, db_password, db_port, db_prefix, db_container)"
   ]
  },
  {
   "cell_type": "code",
   "execution_count": 58,
   "metadata": {},
   "outputs": [
    {
     "data": {
      "text/html": [
       "<div>\n",
       "<style scoped>\n",
       "    .dataframe tbody tr th:only-of-type {\n",
       "        vertical-align: middle;\n",
       "    }\n",
       "\n",
       "    .dataframe tbody tr th {\n",
       "        vertical-align: top;\n",
       "    }\n",
       "\n",
       "    .dataframe thead th {\n",
       "        text-align: right;\n",
       "    }\n",
       "</style>\n",
       "<table border=\"1\" class=\"dataframe\">\n",
       "  <thead>\n",
       "    <tr style=\"text-align: right;\">\n",
       "      <th></th>\n",
       "      <th>file_name</th>\n",
       "      <th>download_loc</th>\n",
       "      <th>final_loc</th>\n",
       "      <th>full_path</th>\n",
       "      <th>search_term</th>\n",
       "      <th>source</th>\n",
       "      <th>read</th>\n",
       "      <th>orig_width</th>\n",
       "      <th>orig_height</th>\n",
       "      <th>width</th>\n",
       "      <th>height</th>\n",
       "      <th>label</th>\n",
       "      <th>label_str</th>\n",
       "      <th>download_name</th>\n",
       "    </tr>\n",
       "    <tr>\n",
       "      <th>image_name</th>\n",
       "      <th></th>\n",
       "      <th></th>\n",
       "      <th></th>\n",
       "      <th></th>\n",
       "      <th></th>\n",
       "      <th></th>\n",
       "      <th></th>\n",
       "      <th></th>\n",
       "      <th></th>\n",
       "      <th></th>\n",
       "      <th></th>\n",
       "      <th></th>\n",
       "      <th></th>\n",
       "      <th></th>\n",
       "    </tr>\n",
       "  </thead>\n",
       "  <tbody>\n",
       "    <tr>\n",
       "      <th>poison_ivy_plant_1095</th>\n",
       "      <td>poison_ivy_plant_1095.jpg</td>\n",
       "      <td>simple_images/poison ivy plant/poison ivy plan...</td>\n",
       "      <td>../datasets/pipeline_v1/downloaded_images/posi...</td>\n",
       "      <td>/home/code/datasets/pipeline_v1/downloaded_ima...</td>\n",
       "      <td>poison ivy plant</td>\n",
       "      <td>Google Images</td>\n",
       "      <td>True</td>\n",
       "      <td>1024.0</td>\n",
       "      <td>575.0</td>\n",
       "      <td>890.0</td>\n",
       "      <td>500.0</td>\n",
       "      <td>1</td>\n",
       "      <td>positive</td>\n",
       "      <td>NaN</td>\n",
       "    </tr>\n",
       "    <tr>\n",
       "      <th>poison_ivy_plant_1556</th>\n",
       "      <td>poison_ivy_plant_1556.jpg</td>\n",
       "      <td>simple_images/poison ivy plant/poison ivy plan...</td>\n",
       "      <td>../datasets/pipeline_v1/downloaded_images/posi...</td>\n",
       "      <td>/home/code/datasets/pipeline_v1/downloaded_ima...</td>\n",
       "      <td>poison ivy plant</td>\n",
       "      <td>Google Images</td>\n",
       "      <td>True</td>\n",
       "      <td>750.0</td>\n",
       "      <td>500.0</td>\n",
       "      <td>750.0</td>\n",
       "      <td>500.0</td>\n",
       "      <td>1</td>\n",
       "      <td>positive</td>\n",
       "      <td>NaN</td>\n",
       "    </tr>\n",
       "    <tr>\n",
       "      <th>poison_ivy_plant_1294</th>\n",
       "      <td>poison_ivy_plant_1294.jpg</td>\n",
       "      <td>simple_images/poison ivy plant/poison ivy plan...</td>\n",
       "      <td>../datasets/pipeline_v1/downloaded_images/posi...</td>\n",
       "      <td>/home/code/datasets/pipeline_v1/downloaded_ima...</td>\n",
       "      <td>poison ivy plant</td>\n",
       "      <td>Google Images</td>\n",
       "      <td>True</td>\n",
       "      <td>1800.0</td>\n",
       "      <td>1013.0</td>\n",
       "      <td>888.0</td>\n",
       "      <td>500.0</td>\n",
       "      <td>1</td>\n",
       "      <td>positive</td>\n",
       "      <td>NaN</td>\n",
       "    </tr>\n",
       "    <tr>\n",
       "      <th>poison_ivy_plant_964</th>\n",
       "      <td>poison_ivy_plant_964.jpg</td>\n",
       "      <td>simple_images/poison ivy plant/poison ivy plan...</td>\n",
       "      <td>../datasets/pipeline_v1/downloaded_images/posi...</td>\n",
       "      <td>/home/code/datasets/pipeline_v1/downloaded_ima...</td>\n",
       "      <td>poison ivy plant</td>\n",
       "      <td>Google Images</td>\n",
       "      <td>True</td>\n",
       "      <td>480.0</td>\n",
       "      <td>310.0</td>\n",
       "      <td>480.0</td>\n",
       "      <td>310.0</td>\n",
       "      <td>1</td>\n",
       "      <td>positive</td>\n",
       "      <td>NaN</td>\n",
       "    </tr>\n",
       "    <tr>\n",
       "      <th>poison_ivy_plant_1526</th>\n",
       "      <td>poison_ivy_plant_1526.jpg</td>\n",
       "      <td>simple_images/poison ivy plant/poison ivy plan...</td>\n",
       "      <td>../datasets/pipeline_v1/downloaded_images/posi...</td>\n",
       "      <td>/home/code/datasets/pipeline_v1/downloaded_ima...</td>\n",
       "      <td>poison ivy plant</td>\n",
       "      <td>Google Images</td>\n",
       "      <td>True</td>\n",
       "      <td>1600.0</td>\n",
       "      <td>1031.0</td>\n",
       "      <td>775.0</td>\n",
       "      <td>500.0</td>\n",
       "      <td>1</td>\n",
       "      <td>positive</td>\n",
       "      <td>NaN</td>\n",
       "    </tr>\n",
       "  </tbody>\n",
       "</table>\n",
       "</div>"
      ],
      "text/plain": [
       "                                       file_name  \\\n",
       "image_name                                         \n",
       "poison_ivy_plant_1095  poison_ivy_plant_1095.jpg   \n",
       "poison_ivy_plant_1556  poison_ivy_plant_1556.jpg   \n",
       "poison_ivy_plant_1294  poison_ivy_plant_1294.jpg   \n",
       "poison_ivy_plant_964    poison_ivy_plant_964.jpg   \n",
       "poison_ivy_plant_1526  poison_ivy_plant_1526.jpg   \n",
       "\n",
       "                                                            download_loc  \\\n",
       "image_name                                                                 \n",
       "poison_ivy_plant_1095  simple_images/poison ivy plant/poison ivy plan...   \n",
       "poison_ivy_plant_1556  simple_images/poison ivy plant/poison ivy plan...   \n",
       "poison_ivy_plant_1294  simple_images/poison ivy plant/poison ivy plan...   \n",
       "poison_ivy_plant_964   simple_images/poison ivy plant/poison ivy plan...   \n",
       "poison_ivy_plant_1526  simple_images/poison ivy plant/poison ivy plan...   \n",
       "\n",
       "                                                               final_loc  \\\n",
       "image_name                                                                 \n",
       "poison_ivy_plant_1095  ../datasets/pipeline_v1/downloaded_images/posi...   \n",
       "poison_ivy_plant_1556  ../datasets/pipeline_v1/downloaded_images/posi...   \n",
       "poison_ivy_plant_1294  ../datasets/pipeline_v1/downloaded_images/posi...   \n",
       "poison_ivy_plant_964   ../datasets/pipeline_v1/downloaded_images/posi...   \n",
       "poison_ivy_plant_1526  ../datasets/pipeline_v1/downloaded_images/posi...   \n",
       "\n",
       "                                                               full_path  \\\n",
       "image_name                                                                 \n",
       "poison_ivy_plant_1095  /home/code/datasets/pipeline_v1/downloaded_ima...   \n",
       "poison_ivy_plant_1556  /home/code/datasets/pipeline_v1/downloaded_ima...   \n",
       "poison_ivy_plant_1294  /home/code/datasets/pipeline_v1/downloaded_ima...   \n",
       "poison_ivy_plant_964   /home/code/datasets/pipeline_v1/downloaded_ima...   \n",
       "poison_ivy_plant_1526  /home/code/datasets/pipeline_v1/downloaded_ima...   \n",
       "\n",
       "                            search_term         source  read  orig_width  \\\n",
       "image_name                                                                 \n",
       "poison_ivy_plant_1095  poison ivy plant  Google Images  True      1024.0   \n",
       "poison_ivy_plant_1556  poison ivy plant  Google Images  True       750.0   \n",
       "poison_ivy_plant_1294  poison ivy plant  Google Images  True      1800.0   \n",
       "poison_ivy_plant_964   poison ivy plant  Google Images  True       480.0   \n",
       "poison_ivy_plant_1526  poison ivy plant  Google Images  True      1600.0   \n",
       "\n",
       "                       orig_height  width  height  label label_str  \\\n",
       "image_name                                                           \n",
       "poison_ivy_plant_1095        575.0  890.0   500.0      1  positive   \n",
       "poison_ivy_plant_1556        500.0  750.0   500.0      1  positive   \n",
       "poison_ivy_plant_1294       1013.0  888.0   500.0      1  positive   \n",
       "poison_ivy_plant_964         310.0  480.0   310.0      1  positive   \n",
       "poison_ivy_plant_1526       1031.0  775.0   500.0      1  positive   \n",
       "\n",
       "                      download_name  \n",
       "image_name                           \n",
       "poison_ivy_plant_1095           NaN  \n",
       "poison_ivy_plant_1556           NaN  \n",
       "poison_ivy_plant_1294           NaN  \n",
       "poison_ivy_plant_964            NaN  \n",
       "poison_ivy_plant_1526           NaN  "
      ]
     },
     "execution_count": 58,
     "metadata": {},
     "output_type": "execute_result"
    }
   ],
   "source": [
    "df_db = df_ims[df_ims['read'] == True].copy()\n",
    "df_db.reset_index(inplace=True)\n",
    "df_db.index = df_db['file_name'].map(lambda f_name: f_name.replace(\".jpg\", \"\"))\n",
    "df_db.index.name = \"image_name\"\n",
    "df_db.head()"
   ]
  },
  {
   "cell_type": "code",
   "execution_count": 45,
   "metadata": {},
   "outputs": [
    {
     "name": "stdout",
     "output_type": "stream",
     "text": [
      "10748 10748\n"
     ]
    }
   ],
   "source": [
    "print(len(df_db.index), df_db.index.nunique())"
   ]
  },
  {
   "cell_type": "markdown",
   "metadata": {},
   "source": [
    "df_db[df_db['download_name'].isna()].head()"
   ]
  },
  {
   "cell_type": "code",
   "execution_count": 59,
   "metadata": {},
   "outputs": [
    {
     "name": "stdout",
     "output_type": "stream",
     "text": [
      "file_name           0\n",
      "download_loc        0\n",
      "final_loc           0\n",
      "full_path           0\n",
      "search_term         0\n",
      "source              0\n",
      "read                0\n",
      "orig_width          0\n",
      "orig_height         0\n",
      "width               0\n",
      "height              0\n",
      "label               0\n",
      "label_str           0\n",
      "download_name    4408\n",
      "dtype: int64\n"
     ]
    }
   ],
   "source": [
    "print(df_db.isna().sum())"
   ]
  },
  {
   "cell_type": "code",
   "execution_count": 25,
   "metadata": {},
   "outputs": [],
   "source": [
    "con_str = f\"{db_prefix}://{db_user}:{db_password}@{db_container}:{db_port}/{db_database}\"\n",
    "engine = sqa.create_engine(con_str)"
   ]
  },
  {
   "cell_type": "code",
   "execution_count": 60,
   "metadata": {},
   "outputs": [],
   "source": [
    "create_table_query = f\"\"\"\n",
    "CREATE TABLE {metadata_tbl} (\n",
    "    image_name VARCHAR(300) UNIQUE NOT NULL,\n",
    "    file_name VARCHAR(300) UNIQUE NOT NULL,\n",
    "    download_loc VARCHAR(300),\n",
    "    final_loc VARCHAR(300) NOT NULL,\n",
    "    full_path VARCHAR(500) NOT NULL,\n",
    "    search_term VARCHAR(300),\n",
    "    source VARCHAR(100) NOT NULL,\n",
    "    read BOOLEAN NOT NULL,\n",
    "    orig_width SMALLINT,\n",
    "    orig_height SMALLINT,\n",
    "    width SMALLINT NOT NULL,\n",
    "    height SMALLINT NOT NULL,\n",
    "    label SMALLINT NOT NULL,\n",
    "    label_str VARCHAR(100),\n",
    "    download_name VARCHAR(300),\n",
    "    PRIMARY KEY(image_name)\n",
    ")\n",
    "\"\"\"\n",
    "\n",
    "# Store base image data to database, dropping first if it exists then applying above schema\n",
    "with engine.connect() as con:\n",
    "    con.execute(f\"DROP TABLE IF EXISTS {metadata_tbl}\")\n",
    "    con.execute(create_table_query)\n",
    "    df_db.to_sql(metadata_tbl, con, if_exists=\"append\", index_label=df_db.index.name)"
   ]
  },
  {
   "cell_type": "code",
   "execution_count": 61,
   "metadata": {},
   "outputs": [],
   "source": [
    "def get_primary_key_query(tbl):\n",
    "    query = f\"\"\"SELECT c.column_name, c.data_type\n",
    "                FROM information_schema.table_constraints tc \n",
    "                JOIN information_schema.constraint_column_usage AS ccu USING (constraint_schema, constraint_name) \n",
    "                JOIN information_schema.columns AS c ON c.table_schema = tc.constraint_schema\n",
    "                AND tc.table_name = c.table_name AND ccu.column_name = c.column_name\n",
    "                WHERE constraint_type = 'PRIMARY KEY' and tc.table_name = '{tbl}';\n",
    "                \"\"\"\n",
    "    return(query)"
   ]
  },
  {
   "cell_type": "code",
   "execution_count": 66,
   "metadata": {},
   "outputs": [
    {
     "name": "stdout",
     "output_type": "stream",
     "text": [
      "Primary keys: [('image_name', 'character varying')]\n"
     ]
    },
    {
     "data": {
      "text/html": [
       "<div>\n",
       "<style scoped>\n",
       "    .dataframe tbody tr th:only-of-type {\n",
       "        vertical-align: middle;\n",
       "    }\n",
       "\n",
       "    .dataframe tbody tr th {\n",
       "        vertical-align: top;\n",
       "    }\n",
       "\n",
       "    .dataframe thead th {\n",
       "        text-align: right;\n",
       "    }\n",
       "</style>\n",
       "<table border=\"1\" class=\"dataframe\">\n",
       "  <thead>\n",
       "    <tr style=\"text-align: right;\">\n",
       "      <th></th>\n",
       "      <th>file_name</th>\n",
       "      <th>download_loc</th>\n",
       "      <th>final_loc</th>\n",
       "      <th>full_path</th>\n",
       "      <th>search_term</th>\n",
       "      <th>source</th>\n",
       "      <th>read</th>\n",
       "      <th>orig_width</th>\n",
       "      <th>orig_height</th>\n",
       "      <th>width</th>\n",
       "      <th>height</th>\n",
       "      <th>label</th>\n",
       "      <th>label_str</th>\n",
       "      <th>download_name</th>\n",
       "    </tr>\n",
       "    <tr>\n",
       "      <th>image_name</th>\n",
       "      <th></th>\n",
       "      <th></th>\n",
       "      <th></th>\n",
       "      <th></th>\n",
       "      <th></th>\n",
       "      <th></th>\n",
       "      <th></th>\n",
       "      <th></th>\n",
       "      <th></th>\n",
       "      <th></th>\n",
       "      <th></th>\n",
       "      <th></th>\n",
       "      <th></th>\n",
       "      <th></th>\n",
       "    </tr>\n",
       "  </thead>\n",
       "  <tbody>\n",
       "    <tr>\n",
       "      <th>poison_ivy_plant_1095</th>\n",
       "      <td>poison_ivy_plant_1095.jpg</td>\n",
       "      <td>simple_images/poison ivy plant/poison ivy plan...</td>\n",
       "      <td>../datasets/pipeline_v1/downloaded_images/posi...</td>\n",
       "      <td>/home/code/datasets/pipeline_v1/downloaded_ima...</td>\n",
       "      <td>poison ivy plant</td>\n",
       "      <td>Google Images</td>\n",
       "      <td>True</td>\n",
       "      <td>1024</td>\n",
       "      <td>575</td>\n",
       "      <td>890</td>\n",
       "      <td>500</td>\n",
       "      <td>1</td>\n",
       "      <td>positive</td>\n",
       "      <td>None</td>\n",
       "    </tr>\n",
       "    <tr>\n",
       "      <th>poison_ivy_plant_1556</th>\n",
       "      <td>poison_ivy_plant_1556.jpg</td>\n",
       "      <td>simple_images/poison ivy plant/poison ivy plan...</td>\n",
       "      <td>../datasets/pipeline_v1/downloaded_images/posi...</td>\n",
       "      <td>/home/code/datasets/pipeline_v1/downloaded_ima...</td>\n",
       "      <td>poison ivy plant</td>\n",
       "      <td>Google Images</td>\n",
       "      <td>True</td>\n",
       "      <td>750</td>\n",
       "      <td>500</td>\n",
       "      <td>750</td>\n",
       "      <td>500</td>\n",
       "      <td>1</td>\n",
       "      <td>positive</td>\n",
       "      <td>None</td>\n",
       "    </tr>\n",
       "    <tr>\n",
       "      <th>poison_ivy_plant_1294</th>\n",
       "      <td>poison_ivy_plant_1294.jpg</td>\n",
       "      <td>simple_images/poison ivy plant/poison ivy plan...</td>\n",
       "      <td>../datasets/pipeline_v1/downloaded_images/posi...</td>\n",
       "      <td>/home/code/datasets/pipeline_v1/downloaded_ima...</td>\n",
       "      <td>poison ivy plant</td>\n",
       "      <td>Google Images</td>\n",
       "      <td>True</td>\n",
       "      <td>1800</td>\n",
       "      <td>1013</td>\n",
       "      <td>888</td>\n",
       "      <td>500</td>\n",
       "      <td>1</td>\n",
       "      <td>positive</td>\n",
       "      <td>None</td>\n",
       "    </tr>\n",
       "    <tr>\n",
       "      <th>poison_ivy_plant_964</th>\n",
       "      <td>poison_ivy_plant_964.jpg</td>\n",
       "      <td>simple_images/poison ivy plant/poison ivy plan...</td>\n",
       "      <td>../datasets/pipeline_v1/downloaded_images/posi...</td>\n",
       "      <td>/home/code/datasets/pipeline_v1/downloaded_ima...</td>\n",
       "      <td>poison ivy plant</td>\n",
       "      <td>Google Images</td>\n",
       "      <td>True</td>\n",
       "      <td>480</td>\n",
       "      <td>310</td>\n",
       "      <td>480</td>\n",
       "      <td>310</td>\n",
       "      <td>1</td>\n",
       "      <td>positive</td>\n",
       "      <td>None</td>\n",
       "    </tr>\n",
       "    <tr>\n",
       "      <th>poison_ivy_plant_1526</th>\n",
       "      <td>poison_ivy_plant_1526.jpg</td>\n",
       "      <td>simple_images/poison ivy plant/poison ivy plan...</td>\n",
       "      <td>../datasets/pipeline_v1/downloaded_images/posi...</td>\n",
       "      <td>/home/code/datasets/pipeline_v1/downloaded_ima...</td>\n",
       "      <td>poison ivy plant</td>\n",
       "      <td>Google Images</td>\n",
       "      <td>True</td>\n",
       "      <td>1600</td>\n",
       "      <td>1031</td>\n",
       "      <td>775</td>\n",
       "      <td>500</td>\n",
       "      <td>1</td>\n",
       "      <td>positive</td>\n",
       "      <td>None</td>\n",
       "    </tr>\n",
       "  </tbody>\n",
       "</table>\n",
       "</div>"
      ],
      "text/plain": [
       "                                       file_name  \\\n",
       "image_name                                         \n",
       "poison_ivy_plant_1095  poison_ivy_plant_1095.jpg   \n",
       "poison_ivy_plant_1556  poison_ivy_plant_1556.jpg   \n",
       "poison_ivy_plant_1294  poison_ivy_plant_1294.jpg   \n",
       "poison_ivy_plant_964    poison_ivy_plant_964.jpg   \n",
       "poison_ivy_plant_1526  poison_ivy_plant_1526.jpg   \n",
       "\n",
       "                                                            download_loc  \\\n",
       "image_name                                                                 \n",
       "poison_ivy_plant_1095  simple_images/poison ivy plant/poison ivy plan...   \n",
       "poison_ivy_plant_1556  simple_images/poison ivy plant/poison ivy plan...   \n",
       "poison_ivy_plant_1294  simple_images/poison ivy plant/poison ivy plan...   \n",
       "poison_ivy_plant_964   simple_images/poison ivy plant/poison ivy plan...   \n",
       "poison_ivy_plant_1526  simple_images/poison ivy plant/poison ivy plan...   \n",
       "\n",
       "                                                               final_loc  \\\n",
       "image_name                                                                 \n",
       "poison_ivy_plant_1095  ../datasets/pipeline_v1/downloaded_images/posi...   \n",
       "poison_ivy_plant_1556  ../datasets/pipeline_v1/downloaded_images/posi...   \n",
       "poison_ivy_plant_1294  ../datasets/pipeline_v1/downloaded_images/posi...   \n",
       "poison_ivy_plant_964   ../datasets/pipeline_v1/downloaded_images/posi...   \n",
       "poison_ivy_plant_1526  ../datasets/pipeline_v1/downloaded_images/posi...   \n",
       "\n",
       "                                                               full_path  \\\n",
       "image_name                                                                 \n",
       "poison_ivy_plant_1095  /home/code/datasets/pipeline_v1/downloaded_ima...   \n",
       "poison_ivy_plant_1556  /home/code/datasets/pipeline_v1/downloaded_ima...   \n",
       "poison_ivy_plant_1294  /home/code/datasets/pipeline_v1/downloaded_ima...   \n",
       "poison_ivy_plant_964   /home/code/datasets/pipeline_v1/downloaded_ima...   \n",
       "poison_ivy_plant_1526  /home/code/datasets/pipeline_v1/downloaded_ima...   \n",
       "\n",
       "                            search_term         source  read  orig_width  \\\n",
       "image_name                                                                 \n",
       "poison_ivy_plant_1095  poison ivy plant  Google Images  True        1024   \n",
       "poison_ivy_plant_1556  poison ivy plant  Google Images  True         750   \n",
       "poison_ivy_plant_1294  poison ivy plant  Google Images  True        1800   \n",
       "poison_ivy_plant_964   poison ivy plant  Google Images  True         480   \n",
       "poison_ivy_plant_1526  poison ivy plant  Google Images  True        1600   \n",
       "\n",
       "                       orig_height  width  height  label label_str  \\\n",
       "image_name                                                           \n",
       "poison_ivy_plant_1095          575    890     500      1  positive   \n",
       "poison_ivy_plant_1556          500    750     500      1  positive   \n",
       "poison_ivy_plant_1294         1013    888     500      1  positive   \n",
       "poison_ivy_plant_964           310    480     310      1  positive   \n",
       "poison_ivy_plant_1526         1031    775     500      1  positive   \n",
       "\n",
       "                      download_name  \n",
       "image_name                           \n",
       "poison_ivy_plant_1095          None  \n",
       "poison_ivy_plant_1556          None  \n",
       "poison_ivy_plant_1294          None  \n",
       "poison_ivy_plant_964           None  \n",
       "poison_ivy_plant_1526          None  "
      ]
     },
     "execution_count": 66,
     "metadata": {},
     "output_type": "execute_result"
    }
   ],
   "source": [
    "# Check that it is working\n",
    "with engine.connect() as con:\n",
    "    test_res = pd.read_sql_query(f\"SELECT * FROM {metadata_tbl} LIMIT 5\", con, index_col='image_name')\n",
    "    test_keys = con.execute(get_primary_key_query(metadata_tbl)).fetchall()\n",
    "print(\"Primary keys:\", test_keys)\n",
    "test_res"
   ]
  }
 ],
 "metadata": {
  "interpreter": {
   "hash": "31f2aee4e71d21fbe5cf8b01ff0e069b9275f58929596ceb00d14d90e3e16cd6"
  },
  "kernelspec": {
   "display_name": "Python 3.6.9 64-bit",
   "name": "python3"
  },
  "language_info": {
   "codemirror_mode": {
    "name": "ipython",
    "version": 3
   },
   "file_extension": ".py",
   "mimetype": "text/x-python",
   "name": "python",
   "nbconvert_exporter": "python",
   "pygments_lexer": "ipython3",
   "version": "3.6.9"
  },
  "orig_nbformat": 4
 },
 "nbformat": 4,
 "nbformat_minor": 2
}
