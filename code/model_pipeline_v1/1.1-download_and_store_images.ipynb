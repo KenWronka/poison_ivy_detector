{
 "cells": [
  {
   "cell_type": "markdown",
   "metadata": {},
   "source": [
    "# Download and store images\n",
    "\n",
    "Create dataset by assembling and resizing images"
   ]
  },
  {
   "cell_type": "markdown",
   "metadata": {},
   "source": [
    "## Config"
   ]
  },
  {
   "cell_type": "code",
   "execution_count": 64,
   "metadata": {},
   "outputs": [
    {
     "name": "stderr",
     "output_type": "stream",
     "text": [
      "INFO:matplotlib.font_manager:Generating new fontManager, this may take some time...\n"
     ]
    }
   ],
   "source": [
    "import pandas as pd\n",
    "import numpy as np\n",
    "from simple_image_download import simple_image_download as simp\n",
    "import shutil\n",
    "from glob import glob\n",
    "from pathlib import Path\n",
    "from PIL import Image, UnidentifiedImageError\n",
    "from typing import Tuple, Dict\n",
    "from tqdm import tqdm\n",
    "import logging\n",
    "import matplotlib.pyplot as plt\n",
    "import seaborn as sns\n",
    "\n",
    "logger = logging.getLogger()\n",
    "logger.setLevel(logging.INFO)\n",
    "logger.propagate = False"
   ]
  },
  {
   "cell_type": "code",
   "execution_count": 44,
   "metadata": {},
   "outputs": [],
   "source": [
    "n_positive_examples = 2500\n",
    "n_negative_examples = 2500\n",
    "\n",
    "positive_terms = [\"poison ivy plant\"]\n",
    "\n",
    "default_download_path = Path(\"simple_images\")\n",
    "store_path = Path(\"../datasets/pipeline_v1/downloaded_images\")\n",
    "metadata_loc = Path(\"../datasets/pipeline_v1/raw_downloads/image_metadata.csv\")\n",
    "\n",
    "similar_plants = [\n",
    "    \"Box elder\",\n",
    "    \"Virgin's bower\",\n",
    "    \"Virginia creeper\",\n",
    "    \"Western poison oak\",\n",
    "    \"Poison sumac\",\n",
    "    \"Kudzu\",\n",
    "    \"Blackberries\",\n",
    "    \"Strawberries\",\n",
    "    \"Fragrant sumac\",\n",
    "    \"Hoptree\",\n",
    "] # Source: \"https://en.wikipedia.org/wiki/Toxicodendron_radicans\"\n",
    "negative_terms = [f\"{plant} plant\" for plant in similar_plants]"
   ]
  },
  {
   "cell_type": "code",
   "execution_count": 11,
   "metadata": {},
   "outputs": [],
   "source": [
    "simp.simple_image_download().download(positive_terms[0], 1)"
   ]
  },
  {
   "cell_type": "code",
   "execution_count": 46,
   "metadata": {},
   "outputs": [],
   "source": [
    "def resize_by_min_dim(size: Tuple[int, int], min_dim:int =100) -> Tuple[int, int]:\n",
    "    \"\"\"\n",
    "    Resize an image to keep the same proportions and make the smaller\n",
    "    of the two dimensions equal to min_dim\n",
    "    size = (width, height) in pixels\n",
    "    returns (new_width, new_height)\n",
    "    \"\"\"\n",
    "    width, height = size\n",
    "    if (width <= min_dim) or (height <= min_dim):  # No need to resize images which are already small enough\n",
    "        return size\n",
    "    new_height = new_width = None\n",
    "    if width > height:\n",
    "        new_height = min_dim\n",
    "        new_width = int((width/height) * new_height)\n",
    "    else:\n",
    "        new_width = min_dim\n",
    "        new_height = int((height/width) * new_width)\n",
    "    return (new_width, new_height)\n",
    "    \n",
    "\n",
    "def download_images(search_term: str, count: int = 5):\n",
    "    \"\"\"\n",
    "    Downloads images based on search terms to simple_images folder\n",
    "    \"\"\"\n",
    "    # Clear download space so we only keep downloaded images\n",
    "    src_folder = Path(\"simple_images\")  # default property of simple_image_download package\n",
    "    if src_folder.exists():\n",
    "        shutil.rmtree(str(src_folder))\n",
    "    downloader = simp.simple_image_download()\n",
    "    logging.info(f\"Starting download for: {search_term} x {count}\")\n",
    "    downloader.download(search_term, count)\n",
    "    logging.info(f\"Downloaded images for: {search_term} x {count}\")\n",
    "        \n",
    "    \n",
    "    "
   ]
  },
  {
   "cell_type": "code",
   "execution_count": 58,
   "metadata": {},
   "outputs": [],
   "source": [
    "def gather_and_store_image_script(search_term_counts: Dict[str, int],\n",
    "                                  dest_dir: str,\n",
    "                                  img_min_dimen: int = 500,\n",
    "                                  clean_dest_dir: bool = False) -> pd.DataFrame:\n",
    "    \"\"\"\n",
    "    Downloads google image based on a dict of search terms: count of images to download\n",
    "    Downsizes image if they are too large by putting smaller dimension to min_dimen and keeping aspect ratio\n",
    "    If clean_dest_dir, remove all data from destination first\n",
    "    Returns a dataframe of the results\n",
    "    \"\"\"\n",
    "    dest_path = Path(dest_dir)\n",
    "    if dest_path.exists() and (clean_dest_dir == True):\n",
    "      shutil.rmtree(dest_path)\n",
    "      dest_path.mkdir(parents=True, exist_ok=True)\n",
    "    if not dest_path.exists():\n",
    "      dest_path.mkdir(parents=True, exist_ok=True)\n",
    "    \n",
    "    download_dir = Path(\"simple_images\")\n",
    "    image_metadata = []\n",
    "    img_data = {}\n",
    "    \n",
    "    \n",
    "    for search_term, count in search_term_counts.items():\n",
    "      download_images(search_term, count)\n",
    "      for img_loc in glob(str(Path(download_dir, search_term, '*'))):\n",
    "        img_path = Path(img_loc)\n",
    "        file_name = img_path.name.replace(\" \", \"_\")\n",
    "        dest_loc = Path(dest_path, file_name)\n",
    "        \n",
    "        img_data = {\n",
    "          \"download_loc\": str(img_path),\n",
    "          \"final_loc\": str(dest_loc),\n",
    "          \"full_path\": str(dest_loc.absolute().resolve()),\n",
    "          \"search_term\": search_term,\n",
    "          \"source\": \"Google Images\",\n",
    "          \"file_name\": file_name\n",
    "        }\n",
    "        \n",
    "        try:\n",
    "          img = Image.open(img_path).convert('RGB')\n",
    "          img_data['read'] = True\n",
    "        except UnidentifiedImageError:\n",
    "          img_data['read'] = False\n",
    "        \n",
    "        if img_data['read']:\n",
    "          img_data['orig_width'], img_data['orig_height'] = img.size\n",
    "          img_data['width'], img_data['height'] = resize_by_min_dim((img_data['orig_width'],\n",
    "                                                                     img_data['orig_height']), min_dim=500)\n",
    "          resized_img = img.resize((img_data['width'], img_data['height']), Image.ANTIALIAS)\n",
    "          resized_img.save(img_data['final_loc'], 'JPEG', quality=90)\n",
    "        \n",
    "        image_metadata.append(img_data)\n",
    "    if download_dir.exists():\n",
    "      shutil.rmtree(str(download_dir))\n",
    "\n",
    "    return(pd.DataFrame(image_metadata).set_index(\"file_name\"))\n",
    "    "
   ]
  },
  {
   "cell_type": "code",
   "execution_count": 55,
   "metadata": {},
   "outputs": [
    {
     "name": "stderr",
     "output_type": "stream",
     "text": [
      "INFO:root:Downloaded all images\n",
      "INFO:root:Starting download for: poison ivy plant x 2500\n"
     ]
    },
    {
     "name": "stdout",
     "output_type": "stream",
     "text": [
      "HTTPSConnectionPool(host='naturework.com', port=443): Max retries exceeded with url: /wp-content/uploads/2013/06/Poison_Ivy-Early-May_coloring.jpg (Caused by NewConnectionError('<urllib3.connection.HTTPSConnection object at 0x7f3a41d86be0>: Failed to establish a new connection: [Errno 111] Connection refused',))\n",
      "HTTPSConnectionPool(host='naturework.com', port=443): Max retries exceeded with url: /wp-content/uploads/2013/06/Poison_Ivy-Early-May_coloring.jpg (Caused by NewConnectionError('<urllib3.connection.HTTPSConnection object at 0x7f3a41ce59b0>: Failed to establish a new connection: [Errno 111] Connection refused',))\n",
      "HTTPSConnectionPool(host='naturework.com', port=443): Max retries exceeded with url: /wp-content/uploads/2013/06/Poison_Ivy-Early-May_coloring.jpg (Caused by NewConnectionError('<urllib3.connection.HTTPSConnection object at 0x7f3a41ce7f98>: Failed to establish a new connection: [Errno 111] Connection refused',))\n",
      "HTTPSConnectionPool(host='naturework.com', port=443): Max retries exceeded with url: /wp-content/uploads/2013/06/Poison_Ivy-Early-May_coloring.jpg (Caused by NewConnectionError('<urllib3.connection.HTTPSConnection object at 0x7f3a41ce5240>: Failed to establish a new connection: [Errno 111] Connection refused',))\n",
      "HTTPSConnectionPool(host='naturework.com', port=443): Max retries exceeded with url: /wp-content/uploads/2013/06/Poison_Ivy-Early-May_coloring.jpg (Caused by NewConnectionError('<urllib3.connection.HTTPSConnection object at 0x7f3a41e24128>: Failed to establish a new connection: [Errno 111] Connection refused',))\n",
      "HTTPSConnectionPool(host='naturework.com', port=443): Max retries exceeded with url: /wp-content/uploads/2013/06/Poison_Ivy-Early-May_coloring.jpg (Caused by NewConnectionError('<urllib3.connection.HTTPSConnection object at 0x7f3a41ce54e0>: Failed to establish a new connection: [Errno 111] Connection refused',))\n",
      "HTTPSConnectionPool(host='naturework.com', port=443): Max retries exceeded with url: /wp-content/uploads/2013/06/Poison_Ivy-Early-May_coloring.jpg (Caused by NewConnectionError('<urllib3.connection.HTTPSConnection object at 0x7f3a41ce72e8>: Failed to establish a new connection: [Errno 111] Connection refused',))\n",
      "HTTPSConnectionPool(host='naturework.com', port=443): Max retries exceeded with url: /wp-content/uploads/2013/06/Poison_Ivy-Early-May_coloring.jpg (Caused by NewConnectionError('<urllib3.connection.HTTPSConnection object at 0x7f3a41d4a1d0>: Failed to establish a new connection: [Errno 111] Connection refused',))\n",
      "HTTPSConnectionPool(host='naturework.com', port=443): Max retries exceeded with url: /wp-content/uploads/2013/06/Poison_Ivy-Early-May_coloring.jpg (Caused by NewConnectionError('<urllib3.connection.HTTPSConnection object at 0x7f3a41ce7e48>: Failed to establish a new connection: [Errno 111] Connection refused',))\n",
      "HTTPSConnectionPool(host='naturework.com', port=443): Max retries exceeded with url: /wp-content/uploads/2013/06/Poison_Ivy-Early-May_coloring.jpg (Caused by NewConnectionError('<urllib3.connection.HTTPSConnection object at 0x7f3a426d2e48>: Failed to establish a new connection: [Errno 111] Connection refused',))\n",
      "HTTPSConnectionPool(host='naturework.com', port=443): Max retries exceeded with url: /wp-content/uploads/2013/06/Poison_Ivy-Early-May_coloring.jpg (Caused by NewConnectionError('<urllib3.connection.HTTPSConnection object at 0x7f3a42f1c6a0>: Failed to establish a new connection: [Errno 111] Connection refused',))\n",
      "HTTPSConnectionPool(host='naturework.com', port=443): Max retries exceeded with url: /wp-content/uploads/2013/06/Poison_Ivy-Early-May_coloring.jpg (Caused by NewConnectionError('<urllib3.connection.HTTPSConnection object at 0x7f3a41ce5748>: Failed to establish a new connection: [Errno 111] Connection refused',))\n",
      "HTTPSConnectionPool(host='naturework.com', port=443): Max retries exceeded with url: /wp-content/uploads/2013/06/Poison_Ivy-Early-May_coloring.jpg (Caused by NewConnectionError('<urllib3.connection.HTTPSConnection object at 0x7f3a41ce55c0>: Failed to establish a new connection: [Errno 111] Connection refused',))\n",
      "HTTPSConnectionPool(host='naturework.com', port=443): Max retries exceeded with url: /wp-content/uploads/2013/06/Poison_Ivy-Early-May_coloring.jpg (Caused by NewConnectionError('<urllib3.connection.HTTPSConnection object at 0x7f3a41d9eeb8>: Failed to establish a new connection: [Errno 111] Connection refused',))\n",
      "HTTPSConnectionPool(host='naturework.com', port=443): Max retries exceeded with url: /wp-content/uploads/2013/06/Poison_Ivy-Early-May_coloring.jpg (Caused by NewConnectionError('<urllib3.connection.HTTPSConnection object at 0x7f3a426edef0>: Failed to establish a new connection: [Errno 111] Connection refused',))\n",
      "HTTPSConnectionPool(host='www.brandywine.org', port=443): Max retries exceeded with url: /sites/default/files/styles/block_img_md/public/1_HEADER_Mature%20poison%20ivy%2C%20credit%20R.A.%20Nonenmac.jpg?itok (Caused by NewConnectionError('<urllib3.connection.HTTPSConnection object at 0x7f3a426d27f0>: Failed to establish a new connection: [Errno -3] Temporary failure in name resolution',))\n",
      "HTTPSConnectionPool(host='naturework.com', port=443): Max retries exceeded with url: /wp-content/uploads/2013/06/Poison_Ivy-Early-May_coloring.jpg (Caused by NewConnectionError('<urllib3.connection.HTTPSConnection object at 0x7f3a41ce7da0>: Failed to establish a new connection: [Errno 111] Connection refused',))\n",
      "HTTPSConnectionPool(host='naturework.com', port=443): Max retries exceeded with url: /wp-content/uploads/2013/06/Poison_Ivy-Early-May_coloring.jpg (Caused by NewConnectionError('<urllib3.connection.HTTPSConnection object at 0x7f3a41ce7b00>: Failed to establish a new connection: [Errno 111] Connection refused',))\n",
      "HTTPSConnectionPool(host='naturework.com', port=443): Max retries exceeded with url: /wp-content/uploads/2013/06/Poison_Ivy-Early-May_coloring.jpg (Caused by NewConnectionError('<urllib3.connection.HTTPSConnection object at 0x7f3a41e24358>: Failed to establish a new connection: [Errno 111] Connection refused',))\n",
      "HTTPSConnectionPool(host='naturework.com', port=443): Max retries exceeded with url: /wp-content/uploads/2013/06/Poison_Ivy-Early-May_coloring.jpg (Caused by NewConnectionError('<urllib3.connection.HTTPSConnection object at 0x7f3a42f1c048>: Failed to establish a new connection: [Errno 111] Connection refused',))\n",
      "HTTPSConnectionPool(host='naturework.com', port=443): Max retries exceeded with url: /wp-content/uploads/2013/06/Poison_Ivy-Early-May_coloring.jpg (Caused by NewConnectionError('<urllib3.connection.HTTPSConnection object at 0x7f3a41ce5940>: Failed to establish a new connection: [Errno 111] Connection refused',))\n",
      "HTTPSConnectionPool(host='naturework.com', port=443): Max retries exceeded with url: /wp-content/uploads/2013/06/Poison_Ivy-Early-May_coloring.jpg (Caused by NewConnectionError('<urllib3.connection.HTTPSConnection object at 0x7f3a426d2080>: Failed to establish a new connection: [Errno 111] Connection refused',))\n",
      "HTTPSConnectionPool(host='www.aces.edu', port=443): Max retries exceeded with url: /wp-content/uploads/2020/08/hero-photo-scaled.jpg (Caused by NewConnectionError('<urllib3.connection.HTTPSConnection object at 0x7f3a42fd3198>: Failed to establish a new connection: [Errno 111] Connection refused',))\n",
      "HTTPSConnectionPool(host='naturework.com', port=443): Max retries exceeded with url: /wp-content/uploads/2013/06/Poison_Ivy-Early-May_coloring.jpg (Caused by NewConnectionError('<urllib3.connection.HTTPSConnection object at 0x7f3a41d9e1d0>: Failed to establish a new connection: [Errno 111] Connection refused',))\n",
      "HTTPSConnectionPool(host='naturework.com', port=443): Max retries exceeded with url: /wp-content/uploads/2013/06/Poison_Ivy-Early-May_coloring.jpg (Caused by NewConnectionError('<urllib3.connection.HTTPSConnection object at 0x7f3a426d2908>: Failed to establish a new connection: [Errno 111] Connection refused',))\n",
      "HTTPSConnectionPool(host='naturework.com', port=443): Max retries exceeded with url: /wp-content/uploads/2013/06/Poison_Ivy-Early-May_coloring.jpg (Caused by NewConnectionError('<urllib3.connection.HTTPSConnection object at 0x7f3a42fd3438>: Failed to establish a new connection: [Errno 111] Connection refused',))\n",
      "HTTPSConnectionPool(host='naturework.com', port=443): Max retries exceeded with url: /wp-content/uploads/2013/06/Poison_Ivy-Early-May_coloring.jpg (Caused by NewConnectionError('<urllib3.connection.HTTPSConnection object at 0x7f3a4c9e7d30>: Failed to establish a new connection: [Errno 111] Connection refused',))\n",
      "HTTPSConnectionPool(host='naturework.com', port=443): Max retries exceeded with url: /wp-content/uploads/2013/06/Poison_Ivy-Early-May_coloring.jpg (Caused by NewConnectionError('<urllib3.connection.HTTPSConnection object at 0x7f3a41ce70b8>: Failed to establish a new connection: [Errno 111] Connection refused',))\n",
      "HTTPSConnectionPool(host='naturework.com', port=443): Max retries exceeded with url: /wp-content/uploads/2013/06/Poison_Ivy-Early-May_coloring.jpg (Caused by NewConnectionError('<urllib3.connection.HTTPSConnection object at 0x7f3a42f1ce48>: Failed to establish a new connection: [Errno 111] Connection refused',))\n",
      "HTTPSConnectionPool(host='naturework.com', port=443): Max retries exceeded with url: /wp-content/uploads/2013/06/Poison_Ivy-Early-May_coloring.jpg (Caused by NewConnectionError('<urllib3.connection.HTTPSConnection object at 0x7f3a42f1cbe0>: Failed to establish a new connection: [Errno 111] Connection refused',))\n",
      "HTTPSConnectionPool(host='naturework.com', port=443): Max retries exceeded with url: /wp-content/uploads/2013/06/Poison_Ivy-Early-May_coloring.jpg (Caused by NewConnectionError('<urllib3.connection.HTTPSConnection object at 0x7f3a41ce7eb8>: Failed to establish a new connection: [Errno 111] Connection refused',))\n",
      "HTTPSConnectionPool(host='naturework.com', port=443): Max retries exceeded with url: /wp-content/uploads/2013/06/Poison_Ivy-Early-May_coloring.jpg (Caused by NewConnectionError('<urllib3.connection.HTTPSConnection object at 0x7f3a41ce5e10>: Failed to establish a new connection: [Errno 111] Connection refused',))\n",
      "HTTPSConnectionPool(host='naturework.com', port=443): Max retries exceeded with url: /wp-content/uploads/2013/06/Poison_Ivy-Early-May_coloring.jpg (Caused by NewConnectionError('<urllib3.connection.HTTPSConnection object at 0x7f3a42f1c438>: Failed to establish a new connection: [Errno 111] Connection refused',))\n",
      "HTTPSConnectionPool(host='www.brandywine.org', port=443): Max retries exceeded with url: /sites/default/files/styles/block_img_md/public/1_HEADER_Mature%20poison%20ivy%2C%20credit%20R.A.%20Nonenmac.jpg?itok (Caused by NewConnectionError('<urllib3.connection.HTTPSConnection object at 0x7f3a42f1c550>: Failed to establish a new connection: [Errno -3] Temporary failure in name resolution',))\n"
     ]
    },
    {
     "name": "stderr",
     "output_type": "stream",
     "text": [
      "INFO:root:Downloaded images for: poison ivy plant x 2500\n",
      "/usr/local/lib/python3.6/dist-packages/PIL/Image.py:976: UserWarning: Palette images with Transparency expressed in bytes should be converted to RGBA images\n",
      "  \"Palette images with Transparency expressed in bytes should be \"\n"
     ]
    }
   ],
   "source": [
    "# Positive images\n",
    "n_positive_each = int(n_positive_examples / len(positive_terms))\n",
    "df_pos = gather_and_store_image_script({pos_term: n_positive_each\n",
    "                                        for pos_term in positive_terms},\n",
    "                                       str(Path(store_path, 'positive')))\n",
    "df_pos['label'] = 1\n",
    "df_pos['label_str'] = 'positive'"
   ]
  },
  {
   "cell_type": "code",
   "execution_count": 59,
   "metadata": {},
   "outputs": [
    {
     "name": "stderr",
     "output_type": "stream",
     "text": [
      "INFO:root:Starting download for: Box elder plant x 250\n",
      "INFO:root:Downloaded images for: Box elder plant x 250\n",
      "/usr/local/lib/python3.6/dist-packages/PIL/Image.py:976: UserWarning: Palette images with Transparency expressed in bytes should be converted to RGBA images\n",
      "  \"Palette images with Transparency expressed in bytes should be \"\n",
      "INFO:root:Starting download for: Virgin's bower plant x 250\n",
      "INFO:root:Downloaded images for: Virgin's bower plant x 250\n",
      "INFO:root:Starting download for: Virginia creeper plant x 250\n"
     ]
    },
    {
     "name": "stdout",
     "output_type": "stream",
     "text": [
      "('Connection aborted.', RemoteDisconnected('Remote end closed connection without response',))\n",
      "('Connection aborted.', RemoteDisconnected('Remote end closed connection without response',))\n",
      "('Connection aborted.', RemoteDisconnected('Remote end closed connection without response',))\n",
      "('Connection aborted.', RemoteDisconnected('Remote end closed connection without response',))\n",
      "('Connection aborted.', RemoteDisconnected('Remote end closed connection without response',))\n",
      "('Connection aborted.', RemoteDisconnected('Remote end closed connection without response',))\n"
     ]
    },
    {
     "name": "stderr",
     "output_type": "stream",
     "text": [
      "INFO:root:Downloaded images for: Virginia creeper plant x 250\n",
      "INFO:root:Starting download for: Western poison oak plant x 250\n"
     ]
    },
    {
     "name": "stdout",
     "output_type": "stream",
     "text": [
      "HTTPSConnectionPool(host='cleverhomestead.com', port=443): Max retries exceeded with url: /wp-content/uploads/2013/12/poison-ivy-eastern-western-toxicodendron-radicans-rydbergii-featured-1280x640.jpg (Caused by NewConnectionError('<urllib3.connection.HTTPSConnection object at 0x7f3a4cfe1a58>: Failed to establish a new connection: [Errno -3] Temporary failure in name resolution',))\n"
     ]
    },
    {
     "name": "stderr",
     "output_type": "stream",
     "text": [
      "INFO:root:Downloaded images for: Western poison oak plant x 250\n",
      "INFO:root:Starting download for: Poison sumac plant x 250\n",
      "INFO:root:Downloaded images for: Poison sumac plant x 250\n",
      "INFO:root:Starting download for: Kudzu plant x 250\n"
     ]
    },
    {
     "name": "stdout",
     "output_type": "stream",
     "text": [
      "('Connection aborted.', RemoteDisconnected('Remote end closed connection without response',))\n",
      "('Connection aborted.', RemoteDisconnected('Remote end closed connection without response',))\n",
      "('Connection aborted.', RemoteDisconnected('Remote end closed connection without response',))\n",
      "('Connection aborted.', RemoteDisconnected('Remote end closed connection without response',))\n"
     ]
    },
    {
     "name": "stderr",
     "output_type": "stream",
     "text": [
      "INFO:root:Downloaded images for: Kudzu plant x 250\n",
      "INFO:root:Starting download for: Blackberries plant x 250\n",
      "INFO:root:Downloaded images for: Blackberries plant x 250\n",
      "INFO:root:Starting download for: Strawberries plant x 250\n",
      "INFO:root:Downloaded images for: Strawberries plant x 250\n",
      "INFO:root:Starting download for: Fragrant sumac plant x 250\n",
      "WARNING:urllib3.connection:Certificate did not match expected hostname: 64.209.142.95. Certificate: {'subject': ((('commonName', 'www.estabrooksonline.com'),),), 'issuer': ((('countryName', 'US'),), (('organizationName', 'DigiCert Inc'),), (('organizationalUnitName', 'www.digicert.com'),), (('commonName', 'RapidSSL RSA CA 2018'),)), 'version': 3, 'serialNumber': '05F73E85D20D28DAD4A2E6974F51B32A', 'notBefore': 'Jan 16 00:00:00 2020 GMT', 'notAfter': 'Apr 16 12:00:00 2022 GMT', 'subjectAltName': (('DNS', 'www.estabrooksonline.com'), ('DNS', 'estabrooksonline.com')), 'OCSP': ('http://status.rapidssl.com',), 'caIssuers': ('http://cacerts.rapidssl.com/RapidSSLRSACA2018.crt',), 'crlDistributionPoints': ('http://cdp.rapidssl.com/RapidSSLRSACA2018.crl',)}\n"
     ]
    },
    {
     "name": "stdout",
     "output_type": "stream",
     "text": [
      "HTTPSConnectionPool(host='64.209.142.95', port=443): Max retries exceeded with url: /images/products/rhus_lacette.jpg (Caused by SSLError(CertificateError(\"hostname '64.209.142.95' doesn't match either of 'www.estabrooksonline.com', 'estabrooksonline.com'\",),))\n"
     ]
    },
    {
     "name": "stderr",
     "output_type": "stream",
     "text": [
      "WARNING:urllib3.connection:Certificate did not match expected hostname: 64.209.142.95. Certificate: {'subject': ((('commonName', 'www.estabrooksonline.com'),),), 'issuer': ((('countryName', 'US'),), (('organizationName', 'DigiCert Inc'),), (('organizationalUnitName', 'www.digicert.com'),), (('commonName', 'RapidSSL RSA CA 2018'),)), 'version': 3, 'serialNumber': '05F73E85D20D28DAD4A2E6974F51B32A', 'notBefore': 'Jan 16 00:00:00 2020 GMT', 'notAfter': 'Apr 16 12:00:00 2022 GMT', 'subjectAltName': (('DNS', 'www.estabrooksonline.com'), ('DNS', 'estabrooksonline.com')), 'OCSP': ('http://status.rapidssl.com',), 'caIssuers': ('http://cacerts.rapidssl.com/RapidSSLRSACA2018.crt',), 'crlDistributionPoints': ('http://cdp.rapidssl.com/RapidSSLRSACA2018.crl',)}\n"
     ]
    },
    {
     "name": "stdout",
     "output_type": "stream",
     "text": [
      "HTTPSConnectionPool(host='64.209.142.95', port=443): Max retries exceeded with url: /images/products/rhus_lacette.jpg (Caused by SSLError(CertificateError(\"hostname '64.209.142.95' doesn't match either of 'www.estabrooksonline.com', 'estabrooksonline.com'\",),))\n"
     ]
    },
    {
     "name": "stderr",
     "output_type": "stream",
     "text": [
      "WARNING:urllib3.connection:Certificate did not match expected hostname: 64.209.142.95. Certificate: {'subject': ((('commonName', 'www.estabrooksonline.com'),),), 'issuer': ((('countryName', 'US'),), (('organizationName', 'DigiCert Inc'),), (('organizationalUnitName', 'www.digicert.com'),), (('commonName', 'RapidSSL RSA CA 2018'),)), 'version': 3, 'serialNumber': '05F73E85D20D28DAD4A2E6974F51B32A', 'notBefore': 'Jan 16 00:00:00 2020 GMT', 'notAfter': 'Apr 16 12:00:00 2022 GMT', 'subjectAltName': (('DNS', 'www.estabrooksonline.com'), ('DNS', 'estabrooksonline.com')), 'OCSP': ('http://status.rapidssl.com',), 'caIssuers': ('http://cacerts.rapidssl.com/RapidSSLRSACA2018.crt',), 'crlDistributionPoints': ('http://cdp.rapidssl.com/RapidSSLRSACA2018.crl',)}\n"
     ]
    },
    {
     "name": "stdout",
     "output_type": "stream",
     "text": [
      "HTTPSConnectionPool(host='64.209.142.95', port=443): Max retries exceeded with url: /images/products/rhus_lacette.jpg (Caused by SSLError(CertificateError(\"hostname '64.209.142.95' doesn't match either of 'www.estabrooksonline.com', 'estabrooksonline.com'\",),))\n"
     ]
    },
    {
     "name": "stderr",
     "output_type": "stream",
     "text": [
      "INFO:root:Downloaded images for: Fragrant sumac plant x 250\n",
      "INFO:root:Starting download for: Hoptree plant x 250\n"
     ]
    },
    {
     "name": "stdout",
     "output_type": "stream",
     "text": [
      "HTTPSConnectionPool(host='centraldata.gardenconnect.com', port=443): Max retries exceeded with url: /files/images/plantguide/plant_3011dda0aa_n.jpg (Caused by NewConnectionError('<urllib3.connection.HTTPSConnection object at 0x7f3a4cf38cf8>: Failed to establish a new connection: [Errno 111] Connection refused',))\n",
      "HTTPSConnectionPool(host='centraldata.gardenconnect.com', port=443): Max retries exceeded with url: /files/images/plantguide/plant_3011dda0aa_n.jpg (Caused by NewConnectionError('<urllib3.connection.HTTPSConnection object at 0x7f3a4cee1748>: Failed to establish a new connection: [Errno 111] Connection refused',))\n",
      "HTTPSConnectionPool(host='centraldata.gardenconnect.com', port=443): Max retries exceeded with url: /files/images/plantguide/plant_3011dda0aa_n.jpg (Caused by NewConnectionError('<urllib3.connection.HTTPSConnection object at 0x7f3a4cf385c0>: Failed to establish a new connection: [Errno 111] Connection refused',))\n"
     ]
    },
    {
     "name": "stderr",
     "output_type": "stream",
     "text": [
      "INFO:root:Downloaded images for: Hoptree plant x 250\n"
     ]
    }
   ],
   "source": [
    "# Negative images\n",
    "n_negative_each = int(n_negative_examples / len(negative_terms))\n",
    "df_neg = gather_and_store_image_script({neg_term: n_negative_each\n",
    "                                        for neg_term in negative_terms},\n",
    "                                       str(Path(store_path, 'negative')),\n",
    "                                       clean_dest_dir=False)\n",
    "df_neg['label'] = 0\n",
    "df_neg['label_str'] = 'negative'"
   ]
  },
  {
   "cell_type": "markdown",
   "metadata": {},
   "source": [
    "## Supplement with ImageNet and PlantNet data "
   ]
  },
  {
   "cell_type": "code",
   "execution_count": 60,
   "metadata": {},
   "outputs": [],
   "source": [
    "# TODO"
   ]
  },
  {
   "cell_type": "markdown",
   "metadata": {},
   "source": [
    "## Analyze and store metadata"
   ]
  },
  {
   "cell_type": "code",
   "execution_count": 63,
   "metadata": {},
   "outputs": [
    {
     "data": {
      "text/html": [
       "<div>\n",
       "<style scoped>\n",
       "    .dataframe tbody tr th:only-of-type {\n",
       "        vertical-align: middle;\n",
       "    }\n",
       "\n",
       "    .dataframe tbody tr th {\n",
       "        vertical-align: top;\n",
       "    }\n",
       "\n",
       "    .dataframe thead th {\n",
       "        text-align: right;\n",
       "    }\n",
       "</style>\n",
       "<table border=\"1\" class=\"dataframe\">\n",
       "  <thead>\n",
       "    <tr style=\"text-align: right;\">\n",
       "      <th></th>\n",
       "      <th>download_loc</th>\n",
       "      <th>final_loc</th>\n",
       "      <th>full_path</th>\n",
       "      <th>search_term</th>\n",
       "      <th>source</th>\n",
       "      <th>read</th>\n",
       "      <th>orig_width</th>\n",
       "      <th>orig_height</th>\n",
       "      <th>width</th>\n",
       "      <th>height</th>\n",
       "      <th>label</th>\n",
       "      <th>label_str</th>\n",
       "    </tr>\n",
       "    <tr>\n",
       "      <th>file_name</th>\n",
       "      <th></th>\n",
       "      <th></th>\n",
       "      <th></th>\n",
       "      <th></th>\n",
       "      <th></th>\n",
       "      <th></th>\n",
       "      <th></th>\n",
       "      <th></th>\n",
       "      <th></th>\n",
       "      <th></th>\n",
       "      <th></th>\n",
       "      <th></th>\n",
       "    </tr>\n",
       "  </thead>\n",
       "  <tbody>\n",
       "    <tr>\n",
       "      <th>poison_ivy_plant_1.jpg</th>\n",
       "      <td>simple_images/poison ivy plant/poison ivy plan...</td>\n",
       "      <td>../datasets/pipeline_v1/downloaded_images/posi...</td>\n",
       "      <td>/home/code/datasets/pipeline_v1/downloaded_ima...</td>\n",
       "      <td>poison ivy plant</td>\n",
       "      <td>Google Images</td>\n",
       "      <td>True</td>\n",
       "      <td>120.0</td>\n",
       "      <td>44.0</td>\n",
       "      <td>120.0</td>\n",
       "      <td>44.0</td>\n",
       "      <td>1</td>\n",
       "      <td>positive</td>\n",
       "    </tr>\n",
       "    <tr>\n",
       "      <th>poison_ivy_plant_10.jpg</th>\n",
       "      <td>simple_images/poison ivy plant/poison ivy plan...</td>\n",
       "      <td>../datasets/pipeline_v1/downloaded_images/posi...</td>\n",
       "      <td>/home/code/datasets/pipeline_v1/downloaded_ima...</td>\n",
       "      <td>poison ivy plant</td>\n",
       "      <td>Google Images</td>\n",
       "      <td>True</td>\n",
       "      <td>800.0</td>\n",
       "      <td>450.0</td>\n",
       "      <td>800.0</td>\n",
       "      <td>450.0</td>\n",
       "      <td>1</td>\n",
       "      <td>positive</td>\n",
       "    </tr>\n",
       "    <tr>\n",
       "      <th>poison_ivy_plant_100.jpg</th>\n",
       "      <td>simple_images/poison ivy plant/poison ivy plan...</td>\n",
       "      <td>../datasets/pipeline_v1/downloaded_images/posi...</td>\n",
       "      <td>/home/code/datasets/pipeline_v1/downloaded_ima...</td>\n",
       "      <td>poison ivy plant</td>\n",
       "      <td>Google Images</td>\n",
       "      <td>True</td>\n",
       "      <td>4250.0</td>\n",
       "      <td>2833.0</td>\n",
       "      <td>750.0</td>\n",
       "      <td>500.0</td>\n",
       "      <td>1</td>\n",
       "      <td>positive</td>\n",
       "    </tr>\n",
       "    <tr>\n",
       "      <th>poison_ivy_plant_1000.jpg</th>\n",
       "      <td>simple_images/poison ivy plant/poison ivy plan...</td>\n",
       "      <td>../datasets/pipeline_v1/downloaded_images/posi...</td>\n",
       "      <td>/home/code/datasets/pipeline_v1/downloaded_ima...</td>\n",
       "      <td>poison ivy plant</td>\n",
       "      <td>Google Images</td>\n",
       "      <td>True</td>\n",
       "      <td>722.0</td>\n",
       "      <td>406.0</td>\n",
       "      <td>722.0</td>\n",
       "      <td>406.0</td>\n",
       "      <td>1</td>\n",
       "      <td>positive</td>\n",
       "    </tr>\n",
       "    <tr>\n",
       "      <th>poison_ivy_plant_1001.jpg</th>\n",
       "      <td>simple_images/poison ivy plant/poison ivy plan...</td>\n",
       "      <td>../datasets/pipeline_v1/downloaded_images/posi...</td>\n",
       "      <td>/home/code/datasets/pipeline_v1/downloaded_ima...</td>\n",
       "      <td>poison ivy plant</td>\n",
       "      <td>Google Images</td>\n",
       "      <td>True</td>\n",
       "      <td>1280.0</td>\n",
       "      <td>720.0</td>\n",
       "      <td>888.0</td>\n",
       "      <td>500.0</td>\n",
       "      <td>1</td>\n",
       "      <td>positive</td>\n",
       "    </tr>\n",
       "  </tbody>\n",
       "</table>\n",
       "</div>"
      ],
      "text/plain": [
       "                                                                download_loc  \\\n",
       "file_name                                                                      \n",
       "poison_ivy_plant_1.jpg     simple_images/poison ivy plant/poison ivy plan...   \n",
       "poison_ivy_plant_10.jpg    simple_images/poison ivy plant/poison ivy plan...   \n",
       "poison_ivy_plant_100.jpg   simple_images/poison ivy plant/poison ivy plan...   \n",
       "poison_ivy_plant_1000.jpg  simple_images/poison ivy plant/poison ivy plan...   \n",
       "poison_ivy_plant_1001.jpg  simple_images/poison ivy plant/poison ivy plan...   \n",
       "\n",
       "                                                                   final_loc  \\\n",
       "file_name                                                                      \n",
       "poison_ivy_plant_1.jpg     ../datasets/pipeline_v1/downloaded_images/posi...   \n",
       "poison_ivy_plant_10.jpg    ../datasets/pipeline_v1/downloaded_images/posi...   \n",
       "poison_ivy_plant_100.jpg   ../datasets/pipeline_v1/downloaded_images/posi...   \n",
       "poison_ivy_plant_1000.jpg  ../datasets/pipeline_v1/downloaded_images/posi...   \n",
       "poison_ivy_plant_1001.jpg  ../datasets/pipeline_v1/downloaded_images/posi...   \n",
       "\n",
       "                                                                   full_path  \\\n",
       "file_name                                                                      \n",
       "poison_ivy_plant_1.jpg     /home/code/datasets/pipeline_v1/downloaded_ima...   \n",
       "poison_ivy_plant_10.jpg    /home/code/datasets/pipeline_v1/downloaded_ima...   \n",
       "poison_ivy_plant_100.jpg   /home/code/datasets/pipeline_v1/downloaded_ima...   \n",
       "poison_ivy_plant_1000.jpg  /home/code/datasets/pipeline_v1/downloaded_ima...   \n",
       "poison_ivy_plant_1001.jpg  /home/code/datasets/pipeline_v1/downloaded_ima...   \n",
       "\n",
       "                                search_term         source  read  orig_width  \\\n",
       "file_name                                                                      \n",
       "poison_ivy_plant_1.jpg     poison ivy plant  Google Images  True       120.0   \n",
       "poison_ivy_plant_10.jpg    poison ivy plant  Google Images  True       800.0   \n",
       "poison_ivy_plant_100.jpg   poison ivy plant  Google Images  True      4250.0   \n",
       "poison_ivy_plant_1000.jpg  poison ivy plant  Google Images  True       722.0   \n",
       "poison_ivy_plant_1001.jpg  poison ivy plant  Google Images  True      1280.0   \n",
       "\n",
       "                           orig_height  width  height  label label_str  \n",
       "file_name                                                               \n",
       "poison_ivy_plant_1.jpg            44.0  120.0    44.0      1  positive  \n",
       "poison_ivy_plant_10.jpg          450.0  800.0   450.0      1  positive  \n",
       "poison_ivy_plant_100.jpg        2833.0  750.0   500.0      1  positive  \n",
       "poison_ivy_plant_1000.jpg        406.0  722.0   406.0      1  positive  \n",
       "poison_ivy_plant_1001.jpg        720.0  888.0   500.0      1  positive  "
      ]
     },
     "execution_count": 63,
     "metadata": {},
     "output_type": "execute_result"
    }
   ],
   "source": [
    "df_ims = pd.concat([df_pos, df_neg])\n",
    "df_ims.head()"
   ]
  },
  {
   "cell_type": "code",
   "execution_count": null,
   "metadata": {},
   "outputs": [],
   "source": []
  }
 ],
 "metadata": {
  "interpreter": {
   "hash": "31f2aee4e71d21fbe5cf8b01ff0e069b9275f58929596ceb00d14d90e3e16cd6"
  },
  "kernelspec": {
   "display_name": "Python 3.6.9 64-bit",
   "name": "python3"
  },
  "language_info": {
   "codemirror_mode": {
    "name": "ipython",
    "version": 3
   },
   "file_extension": ".py",
   "mimetype": "text/x-python",
   "name": "python",
   "nbconvert_exporter": "python",
   "pygments_lexer": "ipython3",
   "version": "3.6.9"
  },
  "orig_nbformat": 4
 },
 "nbformat": 4,
 "nbformat_minor": 2
}
