{
 "cells": [
  {
   "cell_type": "markdown",
   "metadata": {},
   "source": [
    "# Create datasets\n",
    "\n",
    "Use pre-prepared image downloads to create datasets with train/test splits for model"
   ]
  },
  {
   "cell_type": "markdown",
   "metadata": {},
   "source": [
    "## Config"
   ]
  },
  {
   "cell_type": "code",
   "execution_count": 4,
   "metadata": {},
   "outputs": [],
   "source": [
    "import pandas as pd\n",
    "import sqlalchemy as sqa\n",
    "from sklearn.model_selection import train_test_split\n",
    "import json\n",
    "from typing import Dict, Union"
   ]
  },
  {
   "cell_type": "code",
   "execution_count": null,
   "metadata": {},
   "outputs": [],
   "source": [
    "# PARAMETERS\n",
    "# Database parameters\n",
    "db_container = \"metadata_db\"\n",
    "db_user = \"pguser\"\n",
    "db_password = \"pgpassword\"\n",
    "db_port = 5432\n",
    "db_database = \"metadata\"\n",
    "db_prefix = \"postgresql\"\n",
    "metadata_tbl = \"base_images\"\n",
    "datasets_tbl = \"datasets\"\n",
    "dataset_img_tbl = \"dataset_images\"\n",
    "\n",
    "\n",
    "# Dataset parameters\n",
    "datasets = [\n",
    "    # TODO\n",
    "]"
   ]
  },
  {
   "cell_type": "code",
   "execution_count": null,
   "metadata": {},
   "outputs": [],
   "source": [
    "class Image_Dataset_Builder():\n",
    "    \"\"\"\n",
    "    Class for creating a dataset from a metadata table and configs\n",
    "    \"\"\"\n",
    "    df_img: Union(pd.DataFrame, None) = None\n",
    "    def __init__(self):\n",
    "        pass\n",
    "    \n",
    "    \n",
    "    # TODO\n",
    "    # Clear data associated with this dataset from dataset\n",
    "    def clear_db_data(self):\n",
    "        pass\n",
    "    \n",
    "    # TODO\n",
    "    # Create (if not exists) or clear (if exists) data from target directory\n",
    "    def clear_target_dir(self):\n",
    "        pass\n",
    "    \n",
    "    # TODO\n",
    "    # Use config to create dataframe of desired image outputs\n",
    "    def create_image_df(self):\n",
    "        pass\n",
    "    \n",
    "    # TODO\n",
    "    # Copy files from image dataframe from source to target directory\n",
    "    def copy_image_files(self):\n",
    "        pass\n",
    "    \n",
    "    # TODO\n",
    "    # Store associated data to the metadata db (dataset table and dataset images table)\n",
    "    def store_db_metadata(self):\n",
    "        pass\n",
    "    \n",
    "    \n",
    "    # TODO\n",
    "    # Builds the dataset by running the other methods\n",
    "    def build_dataset(self):\n",
    "        pass"
   ]
  }
 ],
 "metadata": {
  "interpreter": {
   "hash": "31f2aee4e71d21fbe5cf8b01ff0e069b9275f58929596ceb00d14d90e3e16cd6"
  },
  "kernelspec": {
   "display_name": "Python 3.6.9 64-bit",
   "language": "python",
   "name": "python3"
  },
  "language_info": {
   "codemirror_mode": {
    "name": "ipython",
    "version": 3
   },
   "file_extension": ".py",
   "mimetype": "text/x-python",
   "name": "python",
   "nbconvert_exporter": "python",
   "pygments_lexer": "ipython3",
   "version": "3.6.9"
  },
  "orig_nbformat": 4
 },
 "nbformat": 4,
 "nbformat_minor": 2
}
